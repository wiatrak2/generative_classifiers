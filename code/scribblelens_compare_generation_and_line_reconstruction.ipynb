{
  "nbformat": 4,
  "nbformat_minor": 0,
  "metadata": {
    "colab": {
      "name": "scribblelens_compare.ipynb",
      "provenance": [],
      "collapsed_sections": []
    },
    "kernelspec": {
      "name": "python3",
      "display_name": "Python 3"
    },
    "accelerator": "GPU"
  },
  "cells": [
    {
      "cell_type": "markdown",
      "metadata": {
        "id": "h3eu62eDMpkR"
      },
      "source": [
        "## Utils"
      ]
    },
    {
      "cell_type": "code",
      "metadata": {
        "id": "eP3UMqOib-LH",
        "outputId": "63daf83e-93a4-41b1-e487-113aa183bc84",
        "colab": {
          "base_uri": "https://localhost:8080/",
          "height": 34
        }
      },
      "source": [
        "from google.colab import drive\n",
        "drive.mount('/content/drive')"
      ],
      "execution_count": null,
      "outputs": [
        {
          "output_type": "stream",
          "text": [
            "Mounted at /content/drive\n"
          ],
          "name": "stdout"
        }
      ]
    },
    {
      "cell_type": "code",
      "metadata": {
        "id": "OrWwkJF1nhon",
        "outputId": "f0eaa033-b473-45dc-b709-3a91237ed0cd",
        "colab": {
          "base_uri": "https://localhost:8080/",
          "height": 683
        }
      },
      "source": [
        "!pip install /content/drive/My\\ Drive/master_thesis/ml_monitor"
      ],
      "execution_count": null,
      "outputs": [
        {
          "output_type": "stream",
          "text": [
            "Processing ./drive/My Drive/master_thesis/ml_monitor\n",
            "Requirement already satisfied: pydrive<2,>=1.3.0 in /usr/local/lib/python3.6/dist-packages (from ml-monitor==0.0.1) (1.3.1)\n",
            "Requirement already satisfied: prometheus_client<1,>=0.7.1 in /usr/local/lib/python3.6/dist-packages (from ml-monitor==0.0.1) (0.7.1)\n",
            "Collecting pyyaml<6,>=5.1.2\n",
            "\u001b[?25l  Downloading https://files.pythonhosted.org/packages/8d/c9/e5be955a117a1ac548cdd31e37e8fd7b02ce987f9655f5c7563c656d5dcb/PyYAML-5.2.tar.gz (265kB)\n",
            "\u001b[K     |████████████████████████████████| 266kB 2.8MB/s \n",
            "\u001b[?25hCollecting daiquiri<2,>=1.6.0\n",
            "  Downloading https://files.pythonhosted.org/packages/94/8c/71ad05b0c75cd14be9ee758e795c6eda6cdf226955dcd7ab97e38abfdc06/daiquiri-1.6.1-py2.py3-none-any.whl\n",
            "Collecting gputil<2,>=1.4.0\n",
            "  Downloading https://files.pythonhosted.org/packages/ed/0e/5c61eedde9f6c87713e89d794f01e378cfd9565847d4576fa627d758c554/GPUtil-1.4.0.tar.gz\n",
            "Requirement already satisfied: psutil<6,>=5.4.8 in /usr/local/lib/python3.6/dist-packages (from ml-monitor==0.0.1) (5.4.8)\n",
            "Requirement already satisfied: oauth2client>=4.0.0 in /usr/local/lib/python3.6/dist-packages (from pydrive<2,>=1.3.0->ml-monitor==0.0.1) (4.1.3)\n",
            "Requirement already satisfied: google-api-python-client>=1.2 in /usr/local/lib/python3.6/dist-packages (from pydrive<2,>=1.3.0->ml-monitor==0.0.1) (1.7.11)\n",
            "Requirement already satisfied: httplib2>=0.9.1 in /usr/local/lib/python3.6/dist-packages (from oauth2client>=4.0.0->pydrive<2,>=1.3.0->ml-monitor==0.0.1) (0.11.3)\n",
            "Requirement already satisfied: six>=1.6.1 in /usr/local/lib/python3.6/dist-packages (from oauth2client>=4.0.0->pydrive<2,>=1.3.0->ml-monitor==0.0.1) (1.12.0)\n",
            "Requirement already satisfied: pyasn1-modules>=0.0.5 in /usr/local/lib/python3.6/dist-packages (from oauth2client>=4.0.0->pydrive<2,>=1.3.0->ml-monitor==0.0.1) (0.2.7)\n",
            "Requirement already satisfied: rsa>=3.1.4 in /usr/local/lib/python3.6/dist-packages (from oauth2client>=4.0.0->pydrive<2,>=1.3.0->ml-monitor==0.0.1) (4.0)\n",
            "Requirement already satisfied: pyasn1>=0.1.7 in /usr/local/lib/python3.6/dist-packages (from oauth2client>=4.0.0->pydrive<2,>=1.3.0->ml-monitor==0.0.1) (0.4.8)\n",
            "Requirement already satisfied: google-auth>=1.4.1 in /usr/local/lib/python3.6/dist-packages (from google-api-python-client>=1.2->pydrive<2,>=1.3.0->ml-monitor==0.0.1) (1.4.2)\n",
            "Requirement already satisfied: uritemplate<4dev,>=3.0.0 in /usr/local/lib/python3.6/dist-packages (from google-api-python-client>=1.2->pydrive<2,>=1.3.0->ml-monitor==0.0.1) (3.0.0)\n",
            "Requirement already satisfied: google-auth-httplib2>=0.0.3 in /usr/local/lib/python3.6/dist-packages (from google-api-python-client>=1.2->pydrive<2,>=1.3.0->ml-monitor==0.0.1) (0.0.3)\n",
            "Requirement already satisfied: cachetools>=2.0.0 in /usr/local/lib/python3.6/dist-packages (from google-auth>=1.4.1->google-api-python-client>=1.2->pydrive<2,>=1.3.0->ml-monitor==0.0.1) (3.1.1)\n",
            "Building wheels for collected packages: ml-monitor, pyyaml, gputil\n",
            "  Building wheel for ml-monitor (setup.py) ... \u001b[?25l\u001b[?25hdone\n",
            "  Created wheel for ml-monitor: filename=ml_monitor-0.0.1-cp36-none-any.whl size=11964 sha256=8b213e6074a721b770cecaa0145ad063cfb283383fbc5aea15f4e161be4fb37a\n",
            "  Stored in directory: /tmp/pip-ephem-wheel-cache-kgryv5ta/wheels/06/7b/e3/1ff40ed93786c65f2e026b2e552f436790256f03ba5f87b4ed\n",
            "  Building wheel for pyyaml (setup.py) ... \u001b[?25l\u001b[?25hdone\n",
            "  Created wheel for pyyaml: filename=PyYAML-5.2-cp36-cp36m-linux_x86_64.whl size=44209 sha256=3a3e369ed975588545ed9f0346a68d88721a9638871076249259046515124ebb\n",
            "  Stored in directory: /root/.cache/pip/wheels/54/b7/c7/2ada654ee54483c9329871665aaf4a6056c3ce36f29cf66e67\n",
            "  Building wheel for gputil (setup.py) ... \u001b[?25l\u001b[?25hdone\n",
            "  Created wheel for gputil: filename=GPUtil-1.4.0-cp36-none-any.whl size=7410 sha256=187ee5420a014ed48c9c1649531a7184e5b89ea0e2dc489fb1346a6fa091f8f5\n",
            "  Stored in directory: /root/.cache/pip/wheels/3d/77/07/80562de4bb0786e5ea186911a2c831fdd0018bda69beab71fd\n",
            "Successfully built ml-monitor pyyaml gputil\n",
            "Installing collected packages: pyyaml, daiquiri, gputil, ml-monitor\n",
            "  Found existing installation: PyYAML 3.13\n",
            "    Uninstalling PyYAML-3.13:\n",
            "      Successfully uninstalled PyYAML-3.13\n",
            "Successfully installed daiquiri-1.6.1 gputil-1.4.0 ml-monitor-0.0.1 pyyaml-5.2\n"
          ],
          "name": "stdout"
        }
      ]
    },
    {
      "cell_type": "code",
      "metadata": {
        "id": "zpHDYp7ab6sP"
      },
      "source": [
        "import torch\n",
        "import torch.nn as nn\n",
        "import torch.nn.functional as F\n",
        "import torch.optim as optim\n",
        "import torchvision\n",
        "import numpy as np\n",
        "import matplotlib.pyplot as plt\n",
        "import datetime\n",
        "import json\n",
        "from collections import defaultdict, Counter"
      ],
      "execution_count": null,
      "outputs": []
    },
    {
      "cell_type": "code",
      "metadata": {
        "id": "R1oxMAXXcAM3"
      },
      "source": [
        "#Add synchronized directory\n",
        "#Remember to keep up to date on the local machine \n",
        "distsup_dir = \"/content/drive/My Drive/DistSup\"\n",
        "import sys\n",
        "sys.path.append(distsup_dir)"
      ],
      "execution_count": null,
      "outputs": []
    },
    {
      "cell_type": "code",
      "metadata": {
        "id": "zrcR9YlOrMiE",
        "outputId": "9528e734-b5bc-46bf-8873-aeab6649cbd1",
        "colab": {
          "base_uri": "https://localhost:8080/",
          "height": 411
        }
      },
      "source": [
        "!pip install -r /content/drive/My\\ Drive/master_thesis/requirements-colab.txt"
      ],
      "execution_count": null,
      "outputs": [
        {
          "output_type": "stream",
          "text": [
            "Collecting kaldi_io<1,>=0.9.1\n",
            "  Downloading https://files.pythonhosted.org/packages/66/25/e77b445aed94e41bac6369f448d3a0b60e166e4918a130af2cea19a2e187/kaldi_io-0.9.4-py3-none-any.whl\n",
            "Collecting pyyaml<6,>=5.1\n",
            "\u001b[?25l  Downloading https://files.pythonhosted.org/packages/64/c2/b80047c7ac2478f9501676c988a5411ed5572f35d1beff9cae07d321512c/PyYAML-5.3.1.tar.gz (269kB)\n",
            "\u001b[K     |████████████████████████████████| 276kB 6.4MB/s \n",
            "\u001b[?25hCollecting tensorboardX<2,>=1.9\n",
            "\u001b[?25l  Downloading https://files.pythonhosted.org/packages/a6/5c/e918d9f190baab8d55bad52840d8091dd5114cc99f03eaa6d72d404503cc/tensorboardX-1.9-py2.py3-none-any.whl (190kB)\n",
            "\u001b[K     |████████████████████████████████| 194kB 11.3MB/s \n",
            "\u001b[?25hRequirement already satisfied: numpy>=1.15.3 in /usr/local/lib/python3.6/dist-packages (from kaldi_io<1,>=0.9.1->-r /content/drive/My Drive/master_thesis/requirements-colab.txt (line 1)) (1.18.5)\n",
            "Requirement already satisfied: protobuf>=3.8.0 in /usr/local/lib/python3.6/dist-packages (from tensorboardX<2,>=1.9->-r /content/drive/My Drive/master_thesis/requirements-colab.txt (line 3)) (3.12.4)\n",
            "Requirement already satisfied: six in /usr/local/lib/python3.6/dist-packages (from tensorboardX<2,>=1.9->-r /content/drive/My Drive/master_thesis/requirements-colab.txt (line 3)) (1.15.0)\n",
            "Requirement already satisfied: setuptools in /usr/local/lib/python3.6/dist-packages (from protobuf>=3.8.0->tensorboardX<2,>=1.9->-r /content/drive/My Drive/master_thesis/requirements-colab.txt (line 3)) (50.3.0)\n",
            "Building wheels for collected packages: pyyaml\n",
            "  Building wheel for pyyaml (setup.py) ... \u001b[?25l\u001b[?25hdone\n",
            "  Created wheel for pyyaml: filename=PyYAML-5.3.1-cp36-cp36m-linux_x86_64.whl size=44619 sha256=242358baed16177d9fbc1be66abf95ee5909037e17617446f6db5bd74fd21d30\n",
            "  Stored in directory: /root/.cache/pip/wheels/a7/c1/ea/cf5bd31012e735dc1dfea3131a2d5eae7978b251083d6247bd\n",
            "Successfully built pyyaml\n",
            "Installing collected packages: kaldi-io, pyyaml, tensorboardX\n",
            "  Found existing installation: PyYAML 3.13\n",
            "    Uninstalling PyYAML-3.13:\n",
            "      Successfully uninstalled PyYAML-3.13\n",
            "Successfully installed kaldi-io-0.9.4 pyyaml-5.3.1 tensorboardX-1.9\n"
          ],
          "name": "stdout"
        }
      ]
    },
    {
      "cell_type": "code",
      "metadata": {
        "id": "CrhrXE_UcIP4",
        "outputId": "9c8e20d1-84d8-4732-8e43-35d45bf48c3d",
        "colab": {
          "base_uri": "https://localhost:8080/",
          "height": 119
        }
      },
      "source": [
        "from distsup import utils\n",
        "from egs.scribblelens.data import ScribbleLensDataset\n",
        "from distsup.modules import reconstructors, encoders\n",
        "from distsup.models import vqvae, minitest, representation_learners\n",
        "from distsup.data import PaddedDatasetLoader, FixedDatasetLoader, ChunkedDataset"
      ],
      "execution_count": null,
      "outputs": [
        {
          "output_type": "stream",
          "text": [
            "################################################################################\n",
            "### WARNING, path does not exist: KALDI_ROOT=/mnt/matylda5/iveselyk/Tools/kaldi-trunk\n",
            "###          (please add 'export KALDI_ROOT=<your_path>' in your $HOME/.profile)\n",
            "###          (or run as: KALDI_ROOT=<your_path> python <your_script>.py)\n",
            "################################################################################\n",
            "\n"
          ],
          "name": "stderr"
        }
      ]
    },
    {
      "cell_type": "code",
      "metadata": {
        "id": "ChmyWNm_p3Yc"
      },
      "source": [
        "import ml_monitor"
      ],
      "execution_count": null,
      "outputs": []
    },
    {
      "cell_type": "code",
      "metadata": {
        "id": "CNUFqKIScKg9"
      },
      "source": [
        "device = torch.device(\"cuda\" if torch.cuda.is_available() else \"cpu\")"
      ],
      "execution_count": null,
      "outputs": []
    },
    {
      "cell_type": "code",
      "metadata": {
        "id": "fmNob5cjcMme",
        "outputId": "28c63779-a428-4681-88ef-09a45ea709ac",
        "colab": {
          "base_uri": "https://localhost:8080/",
          "height": 34
        }
      },
      "source": [
        "device"
      ],
      "execution_count": null,
      "outputs": [
        {
          "output_type": "execute_result",
          "data": {
            "text/plain": [
              "device(type='cuda')"
            ]
          },
          "metadata": {
            "tags": []
          },
          "execution_count": 7
        }
      ]
    },
    {
      "cell_type": "code",
      "metadata": {
        "id": "x269aAYbq83W"
      },
      "source": [
        "ml_monitor.colab.init()"
      ],
      "execution_count": null,
      "outputs": []
    },
    {
      "cell_type": "code",
      "metadata": {
        "id": "2UxY-LPyO5N1"
      },
      "source": [
        "class OneHotReconstructor(nn.Module):\n",
        "  def __init__(self,\n",
        "               embedding_dim,\n",
        "               image_height=28,\n",
        "               len_reduction=4,\n",
        "               reconstructor={\n",
        "                   'class_name': 'distsup.modules.reconstructors.ColumnGatedPixelCNN',\n",
        "                   'quantizer': {\n",
        "                     'class_name': 'distsup.modules.quantizers.SoftmaxUniformQuantizer',\n",
        "                     'num_levels': 16\n",
        "                    }\n",
        "                   },\n",
        "               device='cpu',\n",
        "               ignore_alignment=False,\n",
        "               count_blanks_alignment=True,\n",
        "               advantage_digits=True,\n",
        "               alignment_noise_pbb=None,\n",
        "               filename=None,\n",
        "               **kwargs):\n",
        "    super().__init__()\n",
        "    self.embedding_dim = embedding_dim\n",
        "    self.image_height = image_height\n",
        "    self.len_reduction = len_reduction\n",
        "    cond_channels_spec = [{\n",
        "        'cond_dim': embedding_dim,\n",
        "        'reduction_factor': len_reduction\n",
        "    }]\n",
        "    rec_params = {\n",
        "        'image_height': image_height,\n",
        "        'cond_channels': cond_channels_spec\n",
        "    }\n",
        "\n",
        "    self.device = device\n",
        "    if \"class_name\" in reconstructor:\n",
        "      self.reconstructor = utils.construct_from_kwargs(reconstructor, additional_parameters=rec_params).to(device)\n",
        "      self.reconstructors = {\"\": self.reconstructor}\n",
        "    else:\n",
        "      self.reconstructors = nn.ModuleDict({\n",
        "          name: utils.construct_from_kwargs(rec, additional_parameters=rec_params).to(device)\n",
        "          for name, rec in reconstructor.items()\n",
        "      })\n",
        "      self.reconstructor = next(iter(self.reconstructors.values()))\n",
        "\n",
        "    self.ignore_alignment = ignore_alignment\n",
        "    self.count_blanks_alignment = count_blanks_alignment\n",
        "    self.advantage_digits = advantage_digits\n",
        "    self.alignment_noise_pbb = alignment_noise_pbb\n",
        "    self.mask = torch.ones(embedding_dim).long().to(device)\n",
        "    if not self.count_blanks_alignment:\n",
        "      self.mask[0] = 0\n",
        "\n",
        "    if filename is not None:\n",
        "      checkpoint = torch.load(filename)\n",
        "      self.load_state_dict(checkpoint['model_state_dict'])\n",
        "  \n",
        "  def pad_batch(self, image_batch):\n",
        "    padded_size = ((image_batch.size(1) + self.len_reduction - 1) // self.len_reduction) * self.len_reduction\n",
        "    image_batch = F.pad(image_batch, [0, 0,\n",
        "                          0, 0,\n",
        "                          0, padded_size - image_batch.size(1)])\n",
        "    assert image_batch.size(1) % self.len_reduction == 0\n",
        "    return image_batch\n",
        "  \n",
        "  def transform_alignment(self, alignment, count_blanks=True):\n",
        "    \"\"\"\n",
        "    Transforms the alignment description of the batch.\n",
        "    Alignments are passed as padded tensor of size BS x AlignmentLen\n",
        "    Each of BS padded alignments is a tensor with label of digit/letter in a column of pixels in corresponding image.\n",
        "    This tensor (of lenght AlignmentLen) is transformed to a AlignmentLen x AlphabetSize matrix,\n",
        "    where each label of digit/letter is transformed to one-hot vector (0 -> [1,0,0,0..], 1 -> [0,1,0,0..]).\n",
        "    Then the matrix is reshaped to AlignmentLen x 1 x AlphabetSize tensor and reduced.\n",
        "    The reduction has stride = self.len_reduction and is transforming len_rediction one-hot vectors to a vector\n",
        "    representing the digit(s) placed in corresponding len_reduction pixel columns of the image.\n",
        "    In used alphabets datasets the label `0` is assigned to \"blank\", but if `self.count_blanks_alignment` is False,\n",
        "    the reduction transforms the following collumns of empty space to a vector of zeros ([1,0,0,0..] -> [0,0,0,0..]).\n",
        "    If a digit occures within a len_reduction wide window, the reduction is assigning its one-hot vector to the transformed alignment,\n",
        "    if `self.count_blanks_alignment` is True and some balnk columns also occures, the common label will be a combination of\n",
        "    digit's and blank space one-hot vectors. if two digits occur within the window (unlikly), the reduction would make\n",
        "    a logical or of their one-hot representation regardless of the `self.count_blanks_alignment` value\n",
        "    (e.g. if there are digits '1' and '2' within the window, the reduction would produce [0,1,0,0,0..], [0,0,1,0,0..] -> [0,1,1,0,0..])\n",
        "    \"\"\"\n",
        "    one_hot_alignment = F.one_hot(alignment, self.embedding_dim)\n",
        "    bs, al_len, num_classes = one_hot_alignment.size()\n",
        "    padded_alignment = self.pad_batch(one_hot_alignment.reshape(bs, al_len, 1, num_classes))\n",
        "    reduced_al_len = padded_alignment.size(1) // self.len_reduction\n",
        "    reduced_alignment = torch.empty((bs, reduced_al_len, 1, num_classes)).to(self.device)\n",
        "    assert reduced_alignment.size(1) * self.len_reduction == padded_alignment.size(1)\n",
        "    for i in range(0, al_len, self.len_reduction):\n",
        "      reduced_idx = i // self.len_reduction\n",
        "      reduced_alignment[:,reduced_idx,:,:] = torch.max(\n",
        "          padded_alignment[:,i:i+self.len_reduction,:,:], dim=1).values * self.mask\n",
        "      if not self.advantage_digits:\n",
        "        mode_alignment = torch.mode(padded_alignment[:,i:i+self.len_reduction,:,:], dim=1).values\n",
        "        if torch.sum(mode_alignment) > 0:\n",
        "          reduced_alignment[:,reduced_idx,:,:] = mode_alignment\n",
        "      if self.alignment_noise_pbb is not None:\n",
        "        noise_idx = np.random.randint(0, self.embedding_dim)\n",
        "        if np.random.rand() < self.alignment_noise_pbb:\n",
        "          reduced_alignment[:,reduced_idx,:,noise_idx] = 1\n",
        "    if self.ignore_alignment:\n",
        "      return torch.zeros_like(reduced_alignment).to(self.device)\n",
        "    return reduced_alignment\n",
        "\n",
        "  def reconstruction_loss(self, batch):\n",
        "    feats = batch['features'].to(self.device)\n",
        "    labels = batch['alignment'].long().to(self.device)\n",
        "    feats = self.pad_batch(feats)\n",
        "    conds = self.transform_alignment(labels)\n",
        "    \n",
        "    losses = {}\n",
        "    for name, reconstructor in self.reconstructors.items():\n",
        "      inputs, targets = reconstructor.get_inputs_and_targets(feats)\n",
        "      batch_rec = reconstructor(inputs, (conds,))\n",
        "      loss = reconstructor.loss(batch_rec, targets)\n",
        "      losses[f\"{name}_per_pixel\"] = loss\n",
        "      losses[name] = loss.mean()\n",
        "    return losses\n",
        "\n",
        "\n",
        "  def sample(self, labels, cut_blank=False, start_cond=None):\n",
        "    self.reconstructor.eval()\n",
        "    if cut_blank:\n",
        "      digit_labels = torch.where(labels != 0)[0]\n",
        "      digit_start, digit_end = digit_labels[0], digit_labels[-1]\n",
        "      labels = labels[(digit_start - 5 * self.len_reduction):(digit_end + 5 * self.len_reduction)]\n",
        "    labels = labels.to(self.device)\n",
        "    sample_cond = self.transform_alignment(labels[None,:].long())\n",
        "    cond_len = len(labels)\n",
        "    sample_img = torch.zeros((1, cond_len, self.image_height, 1)).to(self.device)\n",
        "    sample_img = self.pad_batch(sample_img)\n",
        "    if start_cond is not None:\n",
        "      start_img, start_step = start_cond\n",
        "      start_img = self.pad_batch(start_img)\n",
        "      return self.reconstructor.sample(start_img, (sample_cond,), start_step=start_step)\n",
        "    return self.reconstructor.sample(sample_img, (sample_cond,))\n",
        "\n",
        "  def forward(self, feats, labels=None):\n",
        "    feats = self.pad_batch(feats)\n",
        "    conds = (self.transform_alignment(labels),)\n",
        "    if labels is None:\n",
        "      conds = ()\n",
        "\n",
        "    out = {}\n",
        "    for rec_name, rec in self.reconstructors.items():\n",
        "      inputs, _ = rec.get_inputs_and_targets(feats)\n",
        "      rec_out = rec(inputs, conds)\n",
        "      out[rec_name] = rec_out\n",
        "    return out"
      ],
      "execution_count": null,
      "outputs": []
    },
    {
      "cell_type": "code",
      "metadata": {
        "id": "EWbBSxrYSAZQ"
      },
      "source": [
        "class ReconstructorTrainer:\n",
        "  def __init__(self, model, data_loader,\n",
        "               serialization_path=None,\n",
        "               serialization_filename=None,\n",
        "               serialize_epochs=None,\n",
        "               serialize_sample=None):\n",
        "    self.model = model\n",
        "    self.data_loader = data_loader\n",
        "    self.serialization_path = serialization_path or '/content/drive/My Drive/master_thesis/models/'\n",
        "    self.serialization_filename = serialization_filename\n",
        "    self.serialize_epochs = serialize_epochs\n",
        "    self.serialize_sample = serialize_sample\n",
        "    self.losses=[]\n",
        "\n",
        "  def train(self, optimizer, epochs, scheduler=None):\n",
        "    self.model.train()\n",
        "    try:\n",
        "      for epoch in range(1, epochs+1):\n",
        "        for batch_idx, batch in enumerate(self.data_loader):\n",
        "            \n",
        "            optimizer.zero_grad()\n",
        "            loss = self.model.reconstruction_loss(batch)\n",
        "\n",
        "            batch_losses = []\n",
        "            for rec, rec_loss in loss.items():\n",
        "              batch_rec_loss = rec_loss.item()\n",
        "              batch_losses.append(batch_rec_loss)\n",
        "              ml_monitor.monitor(f\"loss_{rec}\", batch_rec_loss)\n",
        "\n",
        "            loss = sum(loss.values())\n",
        "            loss_value = loss.item()\n",
        "\n",
        "            self.losses.append(tuple(batch_losses))\n",
        "            self.losses.append(loss_value)\n",
        "\n",
        "            loss.backward()\n",
        "            optimizer.step()\n",
        "            ml_monitor.monitor(\"loss\", loss_value),\n",
        "            ml_monitor.monitor(\"batch_num\", batch_idx)\n",
        "            if batch_idx % 100 == 0:\n",
        "                print('Train Epoch: {} [{}/{} ({:.0f}%)]\\tLoss: {:.6f}'.format(\n",
        "                    epoch, batch_idx * self.data_loader.batch_size, len(self.data_loader.dataset),\n",
        "                    100. * batch_idx / len(self.data_loader),\n",
        "                    loss_value))\n",
        "                \n",
        "        if scheduler:\n",
        "          print('Applying LR scheduler...')\n",
        "          scheduler.step()\n",
        "\n",
        "        if self.serialize_epochs and epoch % self.serialize_epochs == 0:\n",
        "          print('Serializing model...')\n",
        "          self.serialize(epoch, optimizer)\n",
        "      \n",
        "    except KeyboardInterrupt:\n",
        "      print('Interrupting...')\n",
        "    return self.losses\n",
        "\n",
        "\n",
        "  def serialize(self, epoch, optimizer):\n",
        "    serialize_dict = {\n",
        "        'model_state_dict': self.model.state_dict(),\n",
        "        'optim_state_dict': optimizer.state_dict(),\n",
        "        'epoch': epoch,\n",
        "        'losses': self.losses,\n",
        "    }\n",
        "    if not self.serialization_filename:\n",
        "      self.serialization_filename = type(self.model.reconstructor).__name__\n",
        "    serialization_path = self.serialization_path + self.serialization_filename + datetime.datetime.now().strftime(\"_%Y-%m-%d_%H:%M:%S\") + '.pkl'\n",
        "    try:\n",
        "      torch.save(serialize_dict, serialization_path)\n",
        "    except Exception as e:\n",
        "      print(f\"Could not serialize model. Exception raised: {e}\")\n",
        "      return\n",
        "    print(f'Model serialized as {serialization_path}')\n",
        "    if self.serialize_sample is not None:\n",
        "      generated_sample = self.model.sample(self.serialize_sample)\n",
        "      sample_path = serialization_path.replace('.pkl', '.png')\n",
        "      plt.imsave(sample_path, generated_sample.squeeze().data.cpu().transpose(0,1), cmap='gray')\n",
        "      print(f'Sample image serialized as {sample_path}')"
      ],
      "execution_count": null,
      "outputs": []
    },
    {
      "cell_type": "code",
      "metadata": {
        "id": "owTTa2VpZrcI"
      },
      "source": [
        "num_classes = 68"
      ],
      "execution_count": null,
      "outputs": []
    },
    {
      "cell_type": "code",
      "metadata": {
        "id": "IXQk7cG7ZtTt"
      },
      "source": [
        "class ImagePbbCalculator:\n",
        "\n",
        "  def __init__(self, image, labels, alignment_rle, ignored_symbols=[]):\n",
        "    if len(image.shape) == 3:\n",
        "      # image should be 1 x W x H x 1\n",
        "      image = image.unsqueeze(0)\n",
        "    if len(labels.shape) == 1:\n",
        "      # labels should be 1 x W\n",
        "      labels = labels.unsqueeze(0)\n",
        "\n",
        "    self.image = image.to(device)\n",
        "    self.labels = labels.long().to(device)\n",
        "\n",
        "    self.image_width = image.size(1)\n",
        "\n",
        "    self.zero_img = torch.zeros_like(image).to(device)\n",
        "    # get tuples (digit, start_pos, end_pos), where start_pos/end_pos are corresponding labels range\n",
        "    self.digits_positions = [(labels[:,start.long()], start, end) for start, end in alignment_rle if start != end]\n",
        "\n",
        "    self.ignored_symbols = ignored_symbols\n",
        "\n",
        "  def is_position_ignored(self, position):\n",
        "    return self.digits_positions[position][0] in self.ignored_symbols\n",
        "\n",
        "  def compute_image_pbb(self, model, labels, pixels_range=None):\n",
        "    with torch.no_grad():\n",
        "      # self.image is normalized to 0-1 range, we need integer value of pixels\n",
        "      img_pixels_int = model.reconstructor.get_inputs_and_targets(self.image)[1].squeeze()      \n",
        "      \n",
        "      if len(model.reconstructors) > 1:\n",
        "        assert \"rl\" in model.reconstructors, \"Currenty only bidirectional reconstructors are supported in multi-reconstructor case.\"\n",
        "        model_out = model(self.image, labels)\n",
        "        combined_out = model_out[\"lr\"].squeeze()\n",
        "        rl_out = torch.flip(model_out[\"rl\"], dims=(1,)).squeeze()\n",
        "        combined_out += rl_out\n",
        "        probabilities = F.log_softmax(combined_out, dim=-1)        \n",
        "      else:\n",
        "        model_out = model(self.image, labels)[\"\"]\n",
        "        probabilities = F.log_softmax(model_out.squeeze(), dim=-1)\n",
        "      \n",
        "      unpadded_pbb = probabilities[:self.image_width]\n",
        "\n",
        "      if pixels_range is not None:\n",
        "        start, end = pixels_range\n",
        "        img_pixels_int = img_pixels_int[start:end]\n",
        "        unpadded_pbb = probabilities[start:end]\n",
        "\n",
        "      # Reshape to 1D vector\n",
        "      img_pixels_int_vec = img_pixels_int.reshape(-1)\n",
        "      unpadded_pbb = unpadded_pbb.reshape(-1, probabilities.size(-1))\n",
        "      image_pixels_pbb = unpadded_pbb[torch.arange(unpadded_pbb.size(0)), img_pixels_int_vec]\n",
        "      return image_pixels_pbb, probabilities\n",
        "\n",
        "  def test_model_labeling(self, model, digit_idx,\n",
        "                          num_classes=num_classes,\n",
        "                          replaced_digit_prob_only=False,\n",
        "                          verbose=True):\n",
        "    model.eval()\n",
        "    testing_info = {}\n",
        "\n",
        "    digit_idx = min(digit_idx, len(self.digits_positions) - 1)\n",
        "    assert not self.is_position_ignored(digit_idx), f\"Symbol at position {digit_idx} is set as ignored.\"\n",
        "    digit, start, end = self.digits_positions[digit_idx]\n",
        "    start, end = start.long(), end.long()\n",
        "    max_log_prob = -np.inf\n",
        "    best_digit = None\n",
        "    labels_log_prob = torch.zeros(num_classes)\n",
        "    if verbose:\n",
        "      print(f'Digit with index {digit_idx}: {int(digit)}')\n",
        "    for i in range(num_classes):\n",
        "      new_label = i\n",
        "      labels = self.labels.clone()\n",
        "      labels[:,start:end] = new_label\n",
        "      pixels_range = None if not replaced_digit_prob_only else (start,end)\n",
        "      image_pixels_pbb, probs = self.compute_image_pbb(model, labels, pixels_range=pixels_range)\n",
        "      log_prob = torch.sum(image_pixels_pbb)\n",
        "      labels_log_prob[i] = log_prob\n",
        "      testing_info[i] = {\n",
        "          'image_log_pbb': log_prob,\n",
        "          'image_pixels_pbb': image_pixels_pbb,\n",
        "          'probabilities': probs,\n",
        "          'labels': labels\n",
        "      }\n",
        "      if log_prob > max_log_prob:\n",
        "        max_log_prob, best_digit = log_prob, i\n",
        "      if verbose:\n",
        "        print(f'After replecing {int(digit)} with {i} sum of image pixels log probabilities is {log_prob}')\n",
        "    if verbose:\n",
        "      print(f'Digit with highest probability ({max_log_prob}): {best_digit}')\n",
        "    labels_prob = F.softmax(labels_log_prob, dim=-1)\n",
        "    digit_prob_tuple = (digit.long(), labels_prob[digit.long()], labels_prob)\n",
        "    return testing_info, digit_prob_tuple\n",
        "\n",
        "  def plot_image_pixels_pbb(self, model, testing_info):\n",
        "    img_pixels_int = model.reconstructor.get_inputs_and_targets(self.image)[1]\n",
        "    for i in testing_info:\n",
        "      print(f'Probabilities of orginal image pixels when labels are set as digit {i}:')\n",
        "      pixels_score = testing_info[i]['probabilities'][:img_pixels_int.size(1),:,:]\n",
        "      squeezed_pixels_score = pixels_score.view(-1, pixels_score.size(-1))\n",
        "      image_log_pbb = squeezed_pixels_score[torch.arange(squeezed_pixels_score.size(0)), img_pixels_int.view(-1)]\n",
        "      image_pbb = torch.exp(image_log_pbb.view(self.image_width,-1))\n",
        "\n",
        "      plt.figure(figsize = (15,5))\n",
        "      plt.imshow(1 - image_pbb.data.cpu().transpose(0,1), cmap='gray')\n",
        "      plt.show()"
      ],
      "execution_count": null,
      "outputs": []
    },
    {
      "cell_type": "code",
      "metadata": {
        "id": "w25hh63gZuWj"
      },
      "source": [
        "class ModelAlignmentCoincidentTester:\n",
        "  def __init__(self, model, data_loader, ignored_symbols=[]):\n",
        "    self.model = model\n",
        "    self.data_loader = data_loader\n",
        "    self.ignored_symbols = ignored_symbols\n",
        "\n",
        "    self.symbol_probs = []\n",
        "    self.correctly_classified = []\n",
        "    self.badly_classified = []\n",
        "    self.all_samples = []\n",
        "\n",
        "    self.ignored_classified = []\n",
        "\n",
        "  def test_alignment_image_relation(self, samples_num): \n",
        "    ignored_symbols= []\n",
        "    if len(self.ignored_symbols):\n",
        "      ignored_symbols = [symbol_to_label[symbol] for symbol in ignored_symbols]\n",
        "\n",
        "    for batch_idx, batch in enumerate(self.data_loader):\n",
        "      batch_images_num = len(batch[\"features\"])\n",
        "      for i in range(batch_images_num):\n",
        "        sample_test_img = batch['features'][i]\n",
        "        sample_test_cond = batch['alignment'][i]\n",
        "        sample_test_al_rle = batch['alignment_rle'][i]\n",
        "        image_scorer = ImagePbbCalculator(sample_test_img, sample_test_cond, sample_test_al_rle, ignored_symbols=ignored_symbols)\n",
        "        for i in range(len(image_scorer.digits_positions)):\n",
        "          if image_scorer.is_position_ignored(i):\n",
        "            continue\n",
        "          labeling_info, labels_probs = image_scorer.test_model_labeling(self.model, i, verbose=False)\n",
        "          symbol, symbol_pbb, all_pbb = labels_probs\n",
        "          self.symbol_probs.append(symbol_pbb.item())\n",
        "          \n",
        "          classification_data = {\n",
        "              'sample': sample_test_img,\n",
        "              'symbol_pos': sample_test_al_rle[i],\n",
        "              'symbol_idx': i,\n",
        "              'symbol': symbol,\n",
        "              'symbol_pbb': symbol_pbb,\n",
        "              'all_pbb': all_pbb,\n",
        "              'best_symbol': torch.argmax(all_pbb),\n",
        "          }\n",
        "          if torch.max(all_pbb) > symbol_pbb:\n",
        "            self.badly_classified.append(classification_data)\n",
        "          else:\n",
        "            self.correctly_classified.append(classification_data)\n",
        "          if len(self.symbol_probs) >= samples_num and samples_num > 0:\n",
        "            self.all_samples = self.correctly_classified + self.badly_classified\n",
        "            return\n",
        "    self.all_samples = self.correctly_classified + self.badly_classified\n",
        "    \n",
        "\n",
        "  def ignore(self, symbol):\n",
        "    if symbol not in self.ignored_symbols:\n",
        "      self.ignored_symbols.append(symbol)\n",
        "    \n",
        "    for i, sample in enumerate(self.correctly_classified):\n",
        "      if sample[\"symbol\"].item() == symbol_to_label[symbol]:\n",
        "        ignored_sample = self.correctly_classified.pop(i)\n",
        "        self.ignored_classified.append(ignored_sample)\n",
        "\n",
        "    for i, sample in enumerate(self.badly_classified):\n",
        "      if sample[\"symbol\"].item() == symbol_to_label[symbol]:\n",
        "        ignored_sample = self.badly_classified.pop(i)\n",
        "        self.ignored_classified.append(ignored_sample)\n",
        "    \n",
        "    self.all_samples = self.correctly_classified + self.badly_classified\n",
        "    self.symbol_probs = [sample[\"symbol_pbb\"].item() for sample in self.all_samples]\n",
        "    \n",
        "\n",
        "  def alignment_pbb_chart(self):\n",
        "    w = np.ones(len(self.symbol_probs)) / len(self.symbol_probs) * 100\n",
        "    plt.figure(figsize=(10,5))\n",
        "    plt.ylabel(\"Percentage of samples\")\n",
        "    plt.xlabel(\"Probability of the true symbol\")\n",
        "    _ = plt.hist(self.symbol_probs, 25, weights=w)\n",
        "    plt.show() \n",
        "\n",
        "  def top_pbb_chart(self):\n",
        "    top_pbb = [torch.max(s[\"all_pbb\"]) for s in self.all_samples]\n",
        "    w = np.ones(len(top_pbb)) / len(top_pbb) * 100\n",
        "    plt.figure(figsize=(10,5))\n",
        "    plt.ylabel(\"Percentage of samples\")\n",
        "    plt.xlabel(\"Probability of the most likely symbol\")\n",
        "    _ = plt.hist(top_pbb, 25, weights=w)\n",
        "    plt.show()     \n",
        "\n",
        "  def show_badly_classified(self, samples_num=-1):\n",
        "    for bad in self.badly_classified[:samples_num]:\n",
        "      symbol = alphabet[bad['symbol'].item()]\n",
        "      print(f\"Symbol {symbol} at position {bad['symbol_idx']} was misclassified as {alphabet[bad['best_symbol'].item()]}.\")\n",
        "      print(f\"Probability of the true symbol: {bad['symbol_pbb'].item()}. Probability of {alphabet[bad['best_symbol'].item()]}: {torch.max(bad['all_pbb'])}\")\n",
        "      plt.figure(figsize=(3, 3))\n",
        "      fault_pos_start, fault_pos_end = bad[\"symbol_pos\"]\n",
        "      plt.imshow(bad['sample'][fault_pos_start:fault_pos_end].squeeze().data.cpu().transpose(0,1), cmap='gray')\n",
        "      plt.show()\n",
        "\n",
        "  def summary(self):\n",
        "    print(f\"Classified samples: {len(self.all_samples)}\\\n",
        "          \\tClassified correctly: {len(self.correctly_classified)} ({len(self.correctly_classified)/len(self.all_samples):.2f}%)\\\n",
        "          \\tMiscalssified: {len(self.badly_classified)} ({len(self.badly_classified)/len(self.all_samples):.2f}%)\")\n",
        "    print(f\"Average probability assigned to the true symbol was: {np.mean(self.symbol_probs):.2f}\")\n",
        "    corr_symbol_pbb = np.mean([sample[\"symbol_pbb\"].item() for sample in self.correctly_classified])\n",
        "    print(f\"Average probability assigned to the true symbol, when classified correctly was: {corr_symbol_pbb:.2f}\")\n",
        "    bad_symbol_pbb = np.mean([torch.max(sample[\"all_pbb\"]) for sample in self.badly_classified])\n",
        "    print(f\"Average probability of most likely symbol while misclassifying was: {bad_symbol_pbb:.2f}\")\n",
        "\n",
        "    badly_class_symbols = Counter([alphabet[sample[\"symbol\"].item()] for sample in self.badly_classified])\n",
        "    correct_class_symbols = Counter([alphabet[sample[\"symbol\"].item()] for sample in self.correctly_classified])\n",
        "    print(f\"Symbols classified correctly: {yaml.dump(correct_class_symbols)}\\nSymbols classified badly: {yaml.dump(badly_class_symbols)}\")\n",
        "    \n",
        "    symbol_probs = defaultdict(lambda:list())\n",
        "    for sample in self.all_samples:\n",
        "      symbol_probs[alphabet[sample[\"symbol\"].item()]].append(sample[\"symbol_pbb\"].item())\n",
        "    for symbol in symbol_probs:\n",
        "      print(f\"When classifying symbol {symbol} it's avg probability was: {np.mean(symbol_probs[symbol])}\")\n",
        "    \n",
        "    print(\"Histogram of probabilities assigned to the true symbol:\")\n",
        "    self.alignment_pbb_chart()\n",
        "    print(\"Histogram of highest assgined probability while processing each of symbols:\")\n",
        "    self.top_pbb_chart()\n",
        "\n"
      ],
      "execution_count": null,
      "outputs": []
    },
    {
      "cell_type": "code",
      "metadata": {
        "id": "Q525L7JhbEye"
      },
      "source": [
        "def compare_losses(models, data_loader):\n",
        "  batch_num = int(np.ceil(len(data_loader.dataset) / data_loader.batch_size))\n",
        "  losses = np.zeros((batch_num, len(models)))\n",
        "  for i, batch in enumerate(data_loader):\n",
        "    for j, model in enumerate(models):\n",
        "      model.eval()\n",
        "      model_loss = model.reconstruction_loss(batch)\n",
        "      model_rec_losses = {rec: model_loss[rec] for rec in model.reconstructors}\n",
        "      losses[i][j] = sum(model_rec_losses.values()).sum().item()\n",
        "  return losses"
      ],
      "execution_count": null,
      "outputs": []
    },
    {
      "cell_type": "code",
      "metadata": {
        "id": "nW5940ifhTee"
      },
      "source": [
        "def compare_column_losses(models, batch, batch_size=32, column_num=96):\n",
        "  column_losses = np.zeros((batch_size, column_num, len(models)))\n",
        "  for i, model in enumerate(models):\n",
        "    model.eval()\n",
        "    model_loss = model.reconstruction_loss(batch)\n",
        "    model_pixel_loss = {}\n",
        "    for rec_name in model.reconstructors:\n",
        "      model_pixel_loss[rec_name] = model_loss[f\"{rec_name}_per_pixel\"]\n",
        "    model_combined_loss = sum(model_pixel_loss.values())\n",
        "    model_column_loss = model_combined_loss.sum(axis=-2).squeeze()\n",
        "    column_losses[:,:,i] = model_column_loss.data.cpu()\n",
        "  return column_losses"
      ],
      "execution_count": null,
      "outputs": []
    },
    {
      "cell_type": "markdown",
      "metadata": {
        "id": "EMBtMGaXZ_LV"
      },
      "source": [
        "## Load data"
      ]
    },
    {
      "cell_type": "code",
      "metadata": {
        "id": "il2UURXPZvok"
      },
      "source": [
        "!ln -s '/content/drive/My Drive/master_thesis/data/098a84e0a9bdecf8820210b27ff4eb.zip' \"/content/scribblelens.corpus.v1.zip\"\n",
        "!ln -s '/content/drive/My Drive/master_thesis/data/9cb8e16871301dfc34faefd6b512df.zip' \"/content/scribblelens.paths.1.4.zip\"\n",
        "scribblelens_path = \"/content/scribblelens.corpus.v1.zip\"\n",
        "alignment_path = \"/content/scribblelens.paths.1.4.zip\""
      ],
      "execution_count": null,
      "outputs": []
    },
    {
      "cell_type": "code",
      "metadata": {
        "id": "c-p2u-THaAUp",
        "outputId": "120d4b13-7b7a-42ae-af8f-01cffc4f7ab7",
        "colab": {
          "base_uri": "https://localhost:8080/",
          "height": 85
        }
      },
      "source": [
        "scribblelens_loader = PaddedDatasetLoader({'class_name': 'egs.scribblelens.data.ScribbleLensDataset',\n",
        "                              'root': scribblelens_path,\n",
        "                              'split': 'train',\n",
        "                              'slice': 'tasman',\n",
        "                              'alignment_root': alignment_path,\n",
        "                              'vocabulary': distsup_dir + '/egs/scribblelens/tasman.alphabet.plus.space.mode5.json',\n",
        "                              'transcript_mode': 5,\n",
        "                              },\n",
        "                             #varlen_fields=['features', 'text', 'alignment', 'alignment_rle'],\n",
        "                             rename_dict={\n",
        "                                 'image': 'features'\n",
        "                             },\n",
        "                             batch_size=16)"
      ],
      "execution_count": null,
      "outputs": [
        {
          "output_type": "stream",
          "text": [
            "Alphabet constructed from /content/drive/My Drive/DistSup/egs/scribblelens/tasman.alphabet.plus.space.mode5.json size= 68\n",
            "Warning: UNK token @ not in vocab\n",
            "Warning: space token _ not in vocab\n",
            "ScribbleLensDataset()  datafile: scribblelens.corpus.v1/corpora/nl.bw.lines.tasman.train.dat and alphabet sizes before and after reading are 68 and 68\n"
          ],
          "name": "stdout"
        }
      ]
    },
    {
      "cell_type": "code",
      "metadata": {
        "id": "pNDgdCStaDzR",
        "outputId": "9a91c4ec-801c-482d-d3bd-1432a60707bd",
        "colab": {
          "base_uri": "https://localhost:8080/",
          "height": 71
        }
      },
      "source": [
        "sample_batch = next(iter(scribblelens_loader))"
      ],
      "execution_count": null,
      "outputs": [
        {
          "output_type": "stream",
          "text": [
            "/content/drive/My Drive/DistSup/egs/scribblelens/data.py:635: UserWarning: The given NumPy array is not writeable, and PyTorch does not support non-writeable tensors. This means you can write to the underlying (supposedly non-writeable) NumPy array using the tensor. You may want to copy the array to protect its data or make it writeable before converting it to a tensor. This type of warning will be suppressed for the rest of this program. (Triggered internally at  /pytorch/torch/csrc/utils/tensor_numpy.cpp:141.)\n",
            "  return torch.tensor(np.frombuffer(text.encode('utf-8'), dtype=np.uint8))\n"
          ],
          "name": "stderr"
        }
      ]
    },
    {
      "cell_type": "code",
      "metadata": {
        "id": "vbCxquBcaKCg"
      },
      "source": [
        "sample_img = sample_batch['features'][0]\n",
        "sample_cond = sample_batch['alignment'][0]\n",
        "sample_rle = sample_batch['alignment_rle'][0]"
      ],
      "execution_count": null,
      "outputs": []
    },
    {
      "cell_type": "code",
      "metadata": {
        "id": "3rfIMJaSaFz5",
        "outputId": "309f491e-7812-44a8-e580-8b9d078d163b",
        "colab": {
          "base_uri": "https://localhost:8080/",
          "height": 85
        }
      },
      "source": [
        "scribblelens_test_loader = PaddedDatasetLoader({'class_name': 'egs.scribblelens.data.ScribbleLensDataset',\n",
        "                              'root': scribblelens_path,\n",
        "                              'split': 'test',\n",
        "                              'slice': 'tasman',\n",
        "                              'alignment_root': alignment_path,\n",
        "                              'vocabulary': distsup_dir + '/egs/scribblelens/tasman.alphabet.plus.space.mode5.json',\n",
        "                              'transcript_mode': 5,\n",
        "                              },\n",
        "                             #varlen_fields=['features', 'text', 'alignment', 'alignment_rle'],\n",
        "                             rename_dict={\n",
        "                                 'image': 'features'\n",
        "                             },\n",
        "                             batch_size=16)"
      ],
      "execution_count": null,
      "outputs": [
        {
          "output_type": "stream",
          "text": [
            "Alphabet constructed from /content/drive/My Drive/DistSup/egs/scribblelens/tasman.alphabet.plus.space.mode5.json size= 68\n",
            "Warning: UNK token @ not in vocab\n",
            "Warning: space token _ not in vocab\n",
            "ScribbleLensDataset()  datafile: scribblelens.corpus.v1/corpora/nl.bw.lines.tasman.test.dat and alphabet sizes before and after reading are 68 and 68\n"
          ],
          "name": "stdout"
        }
      ]
    },
    {
      "cell_type": "code",
      "metadata": {
        "id": "pTZK9vg4aH0o"
      },
      "source": [
        "sample_test_batch = next(iter(scribblelens_test_loader))"
      ],
      "execution_count": null,
      "outputs": []
    },
    {
      "cell_type": "code",
      "metadata": {
        "id": "DQ-KWSdlaOWw"
      },
      "source": [
        "sample_test_img = sample_test_batch['features'][0]\n",
        "sample_test_cond = sample_test_batch['alignment'][0]\n",
        "sample_test_rle = sample_test_batch['alignment_rle'][0]"
      ],
      "execution_count": null,
      "outputs": []
    },
    {
      "cell_type": "code",
      "metadata": {
        "id": "fmSOcP8ThkCZ",
        "outputId": "1ea8aaed-32c0-4c24-c519-4f2641130ae0",
        "colab": {
          "base_uri": "https://localhost:8080/",
          "height": 85
        }
      },
      "source": [
        "chunked_tasman_dataset = ChunkedDataset(\n",
        "    dataset=ScribbleLensDataset(\n",
        "        root=scribblelens_path,\n",
        "        split=\"train\",\n",
        "        slice=\"tasman\",\n",
        "        vocabulary= distsup_dir + '/egs/scribblelens/tasman.alphabet.plus.space.mode5.json',\n",
        "        alignment_root = alignment_path,\n",
        "        transcript_mode=5),\n",
        "    chunk_len=96,\n",
        "    oversample=4,\n",
        "    training=True,\n",
        "    varlen_fields = ['image', 'alignment'],\n",
        "    drop_fields = ['text', 'alignment_rle', 'page_side', 'page'])\n",
        "chunked_tasman_loader = FixedDatasetLoader(dataset=chunked_tasman_dataset, batch_size=32, rename_dict={\"image\": \"features\"}, shuffle=True, num_workers=4, pin_memory=True)"
      ],
      "execution_count": null,
      "outputs": [
        {
          "output_type": "stream",
          "text": [
            "Alphabet constructed from /content/drive/My Drive/DistSup/egs/scribblelens/tasman.alphabet.plus.space.mode5.json size= 68\n",
            "Warning: UNK token @ not in vocab\n",
            "Warning: space token _ not in vocab\n",
            "ScribbleLensDataset()  datafile: scribblelens.corpus.v1/corpora/nl.bw.lines.tasman.train.dat and alphabet sizes before and after reading are 68 and 68\n"
          ],
          "name": "stdout"
        }
      ]
    },
    {
      "cell_type": "code",
      "metadata": {
        "id": "bdXPsN6thscA",
        "outputId": "214701cd-4c3f-43cc-89bd-3ae02184e462",
        "colab": {
          "base_uri": "https://localhost:8080/",
          "height": 85
        }
      },
      "source": [
        "chunked_tasman_test_dataset = ChunkedDataset(\n",
        "    dataset=ScribbleLensDataset(\n",
        "        root=scribblelens_path,\n",
        "        split=\"test\",\n",
        "        slice=\"tasman\",\n",
        "        vocabulary= distsup_dir + '/egs/scribblelens/tasman.alphabet.plus.space.mode5.json',\n",
        "        alignment_root = alignment_path,\n",
        "        transcript_mode=5),\n",
        "    chunk_len=96,\n",
        "    oversample=4,\n",
        "    training=True,\n",
        "    varlen_fields = ['image', 'alignment'],\n",
        "    drop_fields = ['text', 'alignment_rle', 'page_side', 'page'])\n",
        "chunked_tasman_test_loader = FixedDatasetLoader(dataset=chunked_tasman_test_dataset, batch_size=32, rename_dict={\"image\": \"features\"}, shuffle=True, num_workers=4, pin_memory=True)"
      ],
      "execution_count": null,
      "outputs": [
        {
          "output_type": "stream",
          "text": [
            "Alphabet constructed from /content/drive/My Drive/DistSup/egs/scribblelens/tasman.alphabet.plus.space.mode5.json size= 68\n",
            "Warning: UNK token @ not in vocab\n",
            "Warning: space token _ not in vocab\n",
            "ScribbleLensDataset()  datafile: scribblelens.corpus.v1/corpora/nl.bw.lines.tasman.test.dat and alphabet sizes before and after reading are 68 and 68\n"
          ],
          "name": "stdout"
        }
      ]
    },
    {
      "cell_type": "code",
      "metadata": {
        "id": "_Z5DadWuoxLf"
      },
      "source": [
        "sample_chunked_test_batch = next(iter(chunked_tasman_test_loader))"
      ],
      "execution_count": null,
      "outputs": []
    },
    {
      "cell_type": "code",
      "metadata": {
        "id": "tB9bh7JllP5k"
      },
      "source": [
        "with open(distsup_dir + '/egs/scribblelens/tasman.alphabet.plus.space.mode5.json') as f:\n",
        "  symbol_to_label = json.load(f)\n",
        "alphabet = {symbol_to_label[k]: k for k in symbol_to_label}"
      ],
      "execution_count": null,
      "outputs": []
    },
    {
      "cell_type": "markdown",
      "metadata": {
        "id": "TCPft6ocawXo"
      },
      "source": [
        "## Models loading"
      ]
    },
    {
      "cell_type": "code",
      "metadata": {
        "id": "0Rt1MnZgtmax"
      },
      "source": [
        "pixelcnn_rec = OneHotReconstructor(num_classes,\n",
        "                                   image_height=32,\n",
        "                                   device=device,\n",
        "                                   reconstructor={\n",
        "                                       'class_name': 'distsup.modules.reconstructors.ColumnGatedPixelCNN',\n",
        "                                       'quantizer': {\n",
        "                                           'class_name': 'distsup.modules.quantizers.SoftmaxUniformQuantizer',\n",
        "                                           'num_levels': 16\n",
        "                                           }},\n",
        "                                   count_blanks_alignment=False,\n",
        "                                   filename='/content/drive/My Drive/master_thesis/models/Scribblelens_PixelCNN_2019-12-02_16:26:50.pkl',\n",
        "                                   )"
      ],
      "execution_count": null,
      "outputs": []
    },
    {
      "cell_type": "code",
      "metadata": {
        "id": "soqHhno7I9nT"
      },
      "source": [
        "pixelcnn_L_rec = OneHotReconstructor(num_classes,\n",
        "                                   image_height=32,\n",
        "                                   device=device,\n",
        "                                   reconstructor={\n",
        "                                       'class_name': 'distsup.modules.reconstructors.ColumnGatedPixelCNN',\n",
        "                                       'n_layers': 10,\n",
        "                                       'hid_channels': 64,\n",
        "                                       'quantizer': {\n",
        "                                           'class_name': 'distsup.modules.quantizers.SoftmaxUniformQuantizer',\n",
        "                                           'num_levels': 16\n",
        "                                           }},\n",
        "                                   count_blanks_alignment=False,\n",
        "                                   filename='/content/drive/My Drive/master_thesis/models/Scribblelens_PixelCNN_L_2019-12-16_13:53:06.pkl',\n",
        "                                   )"
      ],
      "execution_count": null,
      "outputs": []
    },
    {
      "cell_type": "code",
      "metadata": {
        "id": "0Vaw7IohHyf7"
      },
      "source": [
        "pixelcnn_lookahead = OneHotReconstructor(num_classes,\n",
        "                                   image_height=32,\n",
        "                                   device=device,\n",
        "                                   reconstructor={\n",
        "                                       'class_name': 'distsup.modules.reconstructors.LookaheadColumnGatedPixelCNN',\n",
        "                                       'quantizer': {\n",
        "                                           'class_name': 'distsup.modules.quantizers.SoftmaxUniformQuantizer',\n",
        "                                           'num_levels': 16\n",
        "                                           }},\n",
        "                                   count_blanks_alignment=False,\n",
        "                                   ignore_alignment=True,\n",
        "                                   filename='/content/drive/My Drive/master_thesis/models/Scribblelens_PixelCNN_lookahead_2019-12-15_09:35:40.pkl'\n",
        "                                   )"
      ],
      "execution_count": null,
      "outputs": []
    },
    {
      "cell_type": "code",
      "metadata": {
        "id": "5_fN4sar5YdK"
      },
      "source": [
        "pixelcnn_lookahead_no_frac = OneHotReconstructor(num_classes,\n",
        "                                   image_height=32,\n",
        "                                   device=device,\n",
        "                                   reconstructor={\n",
        "                                       'class_name': 'distsup.modules.reconstructors.LookaheadColumnGatedPixelCNN',\n",
        "                                       'ahead_fraction': 0.0,\n",
        "                                       'quantizer': {\n",
        "                                           'class_name': 'distsup.modules.quantizers.SoftmaxUniformQuantizer',\n",
        "                                           'num_levels': 16\n",
        "                                           }},\n",
        "                                   count_blanks_alignment=False,\n",
        "                                   ignore_alignment=True,\n",
        "                                   filename='/content/drive/My Drive/master_thesis/models/Scribblelens_PixelCNN_lookahead_no_frac_2019-12-16_14:40:17.pkl'\n",
        "                                   )"
      ],
      "execution_count": null,
      "outputs": []
    },
    {
      "cell_type": "code",
      "metadata": {
        "id": "INUkAUqMuXyn"
      },
      "source": [
        "pixelcnn_rec_no_align = OneHotReconstructor(num_classes,\n",
        "                                   image_height=32,\n",
        "                                   device=device,\n",
        "                                   reconstructor={\n",
        "                                       'class_name': 'distsup.modules.reconstructors.ColumnGatedPixelCNN',\n",
        "                                       'quantizer': {\n",
        "                                           'class_name': 'distsup.modules.quantizers.SoftmaxUniformQuantizer',\n",
        "                                           'num_levels': 16\n",
        "                                           }},\n",
        "                                   count_blanks_alignment=False,\n",
        "                                   ignore_alignment=True,\n",
        "                                   filename='/content/drive/My Drive/master_thesis/models/Scribblelens_PixelCNN_no_align_2019-11-30_16:09:08.pkl'\n",
        "                                   )"
      ],
      "execution_count": null,
      "outputs": []
    },
    {
      "cell_type": "code",
      "metadata": {
        "id": "yhhuj4PBoGn4"
      },
      "source": [
        "bidirectional_pixelcnn = OneHotReconstructor(num_classes,\n",
        "                                   image_height=32,\n",
        "                                   device=device,\n",
        "                                   reconstructor={\n",
        "                                       'lr': {\n",
        "                                            'class_name': 'distsup.modules.reconstructors.ColumnGatedPixelCNN',\n",
        "                                            'quantizer': {\n",
        "                                                'class_name': 'distsup.modules.quantizers.SoftmaxUniformQuantizer',\n",
        "                                                'num_levels': 16\n",
        "                                            },\n",
        "                                            'n_layers': 7,\n",
        "                                        },\n",
        "                                        'rl': {\n",
        "                                            'class_name': 'distsup.modules.reconstructors.RightToLeftReconstructor',\n",
        "                                            'wrapped_class_name': 'distsup.modules.reconstructors.ColumnGatedPixelCNN',\n",
        "                                            'quantizer': {\n",
        "                                              'class_name': 'distsup.modules.quantizers.SoftmaxUniformQuantizer',\n",
        "                                              'num_levels': 16\n",
        "                                            },\n",
        "                                            'n_layers': 7\n",
        "                                        }\n",
        "                                   },\n",
        "                                   count_blanks_alignment=False,\n",
        "                                   filename='/content/drive/My Drive/master_thesis/models/Scribblelens_doulbe_pixelcnn_l_2019-12-16_19:08:52.pkl'\n",
        "                                   )"
      ],
      "execution_count": null,
      "outputs": []
    },
    {
      "cell_type": "code",
      "metadata": {
        "id": "2Vcjr_KiozEr"
      },
      "source": [
        "class RLRecSample(reconstructors.RightToLeftReconstructor):\n",
        "  def sample(self, x_priming, conds=()):\n",
        "    conds = [torch.flip(c, dims=[1]) for c in conds]\n",
        "    return self.reconstructor.sample(x_priming, conds)"
      ],
      "execution_count": null,
      "outputs": []
    },
    {
      "cell_type": "code",
      "metadata": {
        "id": "ZKXUqXtwobxE"
      },
      "source": [
        "rl_pixelcnn = OneHotReconstructor(num_classes,\n",
        "                                   image_height=32,\n",
        "                                   device=device,\n",
        "                                   reconstructor={\n",
        "                                        'rl': {\n",
        "                                            'class_name': RLRecSample,\n",
        "                                            'wrapped_class_name': 'distsup.modules.reconstructors.ColumnGatedPixelCNN',\n",
        "                                            'quantizer': {\n",
        "                                              'class_name': 'distsup.modules.quantizers.SoftmaxUniformQuantizer',\n",
        "                                              'num_levels': 16\n",
        "                                            },\n",
        "                                            'n_layers': 7\n",
        "                                        }\n",
        "                                   },\n",
        "                                   count_blanks_alignment=False,\n",
        "                                   filename='/content/drive/My Drive/master_thesis/models/Scribblelens_rl_pixelcnn_2019-12-18_10:21:15.pkl'\n",
        "                                   )"
      ],
      "execution_count": null,
      "outputs": []
    },
    {
      "cell_type": "code",
      "metadata": {
        "id": "XrlIgFoWoGrU"
      },
      "source": [
        "mock_lr = OneHotReconstructor(num_classes,\n",
        "                                   image_height=32,\n",
        "                                   device=device,\n",
        "                                   reconstructor={\n",
        "                                       'lr': {\n",
        "                                            'class_name': 'distsup.modules.reconstructors.ColumnGatedPixelCNN',\n",
        "                                            'quantizer': {\n",
        "                                                'class_name': 'distsup.modules.quantizers.SoftmaxUniformQuantizer',\n",
        "                                                'num_levels': 16\n",
        "                                            },\n",
        "                                            'n_layers': 7,\n",
        "                                        },\n",
        "                                        'rl': {\n",
        "                                            'class_name': 'distsup.modules.reconstructors.RightToLeftReconstructor',\n",
        "                                            'wrapped_class_name': 'distsup.modules.reconstructors.ColumnGatedPixelCNN',\n",
        "                                            'quantizer': {\n",
        "                                              'class_name': 'distsup.modules.quantizers.SoftmaxUniformQuantizer',\n",
        "                                              'num_levels': 16\n",
        "                                            },\n",
        "                                            'n_layers': 7\n",
        "                                        }\n",
        "                                   },\n",
        "                                   count_blanks_alignment=False,\n",
        "                                   filename='/content/drive/My Drive/master_thesis/models/Scribblelens_doulbe_pixelcnn_l_2019-12-16_19:08:52.pkl'\n",
        "                                   )\n",
        "mock_lr.reconstructors = nn.ModuleDict({\"lr\": bidirectional_pixelcnn.reconstructors[\"lr\"]})\n",
        "mock_lr.reconstructor = bidirectional_pixelcnn.reconstructors[\"lr\"]"
      ],
      "execution_count": null,
      "outputs": []
    },
    {
      "cell_type": "code",
      "metadata": {
        "id": "m26DL1piatvy"
      },
      "source": [
        "wavenet_no_align_rec = OneHotReconstructor(num_classes,\n",
        "                                   image_height=32,\n",
        "                                   device=device,\n",
        "                                   reconstructor={\n",
        "                                       'class_name': 'distsup.modules.reconstructors.ColumnwiseWaveNet',\n",
        "                                       'wave_net': {\n",
        "                                          'class_name': 'distsup.modules.wavenet.WaveNet',\n",
        "                                       },\n",
        "                                       'num_layers': 15,\n",
        "                                       'hid_channels': 64,\n",
        "                                       'quantizer': {\n",
        "                                           'class_name': 'distsup.modules.quantizers.SoftmaxUniformQuantizer',\n",
        "                                           'num_levels': 16\n",
        "                                           }},\n",
        "                                   count_blanks_alignment=False,\n",
        "                                   ignore_alignment=True,\n",
        "                                   filename='/content/drive/My Drive/master_thesis/models/Scribblelens_WaveNet_no_align_2019-12-10_12:09:06.pkl'\n",
        "                                   )"
      ],
      "execution_count": null,
      "outputs": []
    },
    {
      "cell_type": "code",
      "metadata": {
        "id": "nGI6A5gwiMPO"
      },
      "source": [
        "wavenet_rec = OneHotReconstructor(num_classes,\n",
        "                                   image_height=32,\n",
        "                                   device=device,\n",
        "                                   reconstructor={\n",
        "                                       'class_name': 'distsup.modules.reconstructors.ColumnwiseWaveNet',\n",
        "                                       'wave_net': {\n",
        "                                          'class_name': 'distsup.modules.wavenet.WaveNet',\n",
        "                                       },\n",
        "                                       'num_layers': 10,\n",
        "                                       'quantizer': {\n",
        "                                           'class_name': 'distsup.modules.quantizers.SoftmaxUniformQuantizer',\n",
        "                                           'num_levels': 16\n",
        "                                           }},\n",
        "                                   count_blanks_alignment=False,\n",
        "                                    filename='/content/drive/My Drive/master_thesis/models/Scribblelens_WaveNet_2019-12-09_16:22:44.pkl'\n",
        "                                   )"
      ],
      "execution_count": null,
      "outputs": []
    },
    {
      "cell_type": "code",
      "metadata": {
        "id": "ruMY1QkMpEjU"
      },
      "source": [
        "wavenet_l_rec = OneHotReconstructor(num_classes,\n",
        "                                   image_height=32,\n",
        "                                   device=device,\n",
        "                                   reconstructor={\n",
        "                                       'class_name': 'distsup.modules.reconstructors.ColumnwiseWaveNet',\n",
        "                                       'wave_net': {\n",
        "                                          'class_name': 'distsup.modules.wavenet.WaveNet',\n",
        "                                       },\n",
        "                                       'num_layers': 15,\n",
        "                                       'hid_channels': 64,\n",
        "                                       'quantizer': {\n",
        "                                           'class_name': 'distsup.modules.quantizers.SoftmaxUniformQuantizer',\n",
        "                                           'num_levels': 16\n",
        "                                           }},\n",
        "                                    count_blanks_alignment=False,\n",
        "                                    filename='/content/drive/My Drive/master_thesis/models/Scribblelens_WaveNet_L_2019-12-09_18:22:39.pkl'\n",
        "                                   )"
      ],
      "execution_count": null,
      "outputs": []
    },
    {
      "cell_type": "code",
      "metadata": {
        "id": "wCBOqMDXvSwS"
      },
      "source": [
        "wavenet_lookahead_rec = OneHotReconstructor(num_classes,\n",
        "                                   image_height=32,\n",
        "                                   device=device,\n",
        "                                   reconstructor={\n",
        "                                       'class_name': 'distsup.modules.reconstructors.LookaheadColumnwiseWaveNet',\n",
        "                                       'hid_channels': 64,\n",
        "                                       'ahead_frames': 5,\n",
        "                                       'ahead_corruption': None,\n",
        "                                       'ahead_fraction': 0.5,\n",
        "                                       'bidirectional': False,\n",
        "                                       'quantizer': {\n",
        "                                           'class_name': 'distsup.modules.quantizers.SoftmaxUniformQuantizer',\n",
        "                                           'num_levels': 16\n",
        "                                           }},\n",
        "                                   count_blanks_alignment=False,\n",
        "                                   filename='/content/drive/My Drive/master_thesis/models/Scribblelens_WaveNet_lookahead_2019-12-09_19:29:07.pkl'\n",
        "                                   )"
      ],
      "execution_count": null,
      "outputs": []
    },
    {
      "cell_type": "code",
      "metadata": {
        "id": "gOfaEo9vncOG"
      },
      "source": [
        "wavenet_rec_rlen = OneHotReconstructor(num_classes,\n",
        "                                   image_height=32,\n",
        "                                   len_reduction=8,\n",
        "                                   device=device,\n",
        "                                   reconstructor={\n",
        "                                       'class_name': 'distsup.modules.reconstructors.ColumnwiseWaveNet',\n",
        "                                       'wave_net': {\n",
        "                                          'class_name': 'distsup.modules.wavenet.WaveNet',\n",
        "                                       },\n",
        "                                       'num_layers': 10,\n",
        "                                       'quantizer': {\n",
        "                                           'class_name': 'distsup.modules.quantizers.SoftmaxUniformQuantizer',\n",
        "                                           'num_levels': 16\n",
        "                                           }},\n",
        "                                   count_blanks_alignment=False,\n",
        "                                   filename='/content/drive/My Drive/master_thesis/models/Scribblelens_WaveNet_rlen_2019-12-12_18:04:24.pkl'\n",
        "                                   )"
      ],
      "execution_count": null,
      "outputs": []
    },
    {
      "cell_type": "code",
      "metadata": {
        "id": "gCi2yzipng9K"
      },
      "source": [
        "wavenet_lookahead_rec_no_align = OneHotReconstructor(num_classes,\n",
        "                                   image_height=32,\n",
        "                                   device=device,\n",
        "                                   reconstructor={\n",
        "                                       'class_name': 'distsup.modules.reconstructors.LookaheadColumnwiseWaveNet',\n",
        "                                       'hid_channels': 64,\n",
        "                                       'ahead_frames': 5,\n",
        "                                       'ahead_corruption': None,\n",
        "                                       'ahead_fraction': 0.5,\n",
        "                                       'bidirectional': False,\n",
        "                                       'quantizer': {\n",
        "                                           'class_name': 'distsup.modules.quantizers.SoftmaxUniformQuantizer',\n",
        "                                           'num_levels': 16\n",
        "                                           }},\n",
        "                                   count_blanks_alignment=False,\n",
        "                                   ignore_alignment=True,\n",
        "                                   filename='/content/drive/My Drive/master_thesis/models/Scribblelens_WaveNet_lookahead_no_align_2019-12-09_21:07:25.pkl'                                   \n",
        "                                   )"
      ],
      "execution_count": null,
      "outputs": []
    },
    {
      "cell_type": "code",
      "metadata": {
        "id": "4dbNrtUBhr_f"
      },
      "source": [
        "def plot_image(image, wide=True):\n",
        "  image_data = image.squeeze().data.cpu()\n",
        "  assert len(image_data.shape) == 2, \"Squeezed image must be two dimenstional\"\n",
        "  if wide and image_data.size(0) > image_data.size(1) or not wide and image_data.size(0) < image_data.size(1):\n",
        "    image_data = image_data.transpose(0, 1)\n",
        "  plt.figure(figsize=(15,15))\n",
        "  plt.imshow(image_data)\n",
        "  plt.show()"
      ],
      "execution_count": null,
      "outputs": []
    },
    {
      "cell_type": "markdown",
      "metadata": {
        "id": "CwyXQCtwjJMH"
      },
      "source": [
        "## Environment overview"
      ]
    },
    {
      "cell_type": "code",
      "metadata": {
        "id": "o4GIqAZ6_rP5",
        "outputId": "ac4133db-5e71-4657-c3d8-67c69397d206",
        "colab": {
          "base_uri": "https://localhost:8080/",
          "height": 81
        }
      },
      "source": [
        "plt.imshow(sample_img.data.cpu().squeeze().transpose(0,1))"
      ],
      "execution_count": null,
      "outputs": [
        {
          "output_type": "execute_result",
          "data": {
            "text/plain": [
              "<matplotlib.image.AxesImage at 0x7f3bdd8766d8>"
            ]
          },
          "metadata": {
            "tags": []
          },
          "execution_count": 38
        },
        {
          "output_type": "display_data",
          "data": {
            "image/png": "[encoded data removed]",
            "text/plain": [
              "<Figure size 432x288 with 1 Axes>"
            ]
          },
          "metadata": {
            "tags": [],
            "needs_background": "light"
          }
        }
      ]
    },
    {
      "cell_type": "code",
      "metadata": {
        "id": "bpH321iUAOA0"
      },
      "source": [
        "al = pixelcnn_rec.transform_alignment(sample_cond[None,:].long().to(device))"
      ],
      "execution_count": null,
      "outputs": []
    },
    {
      "cell_type": "code",
      "metadata": {
        "id": "2TOGI9uiA_N4",
        "outputId": "308fd45f-b95f-43e6-a37d-26bfa5f40988",
        "colab": {
          "base_uri": "https://localhost:8080/",
          "height": 174
        }
      },
      "source": [
        "plt.imshow(al.squeeze().transpose(0,1).data.cpu())"
      ],
      "execution_count": null,
      "outputs": [
        {
          "output_type": "execute_result",
          "data": {
            "text/plain": [
              "<matplotlib.image.AxesImage at 0x7f3bd90fb518>"
            ]
          },
          "metadata": {
            "tags": []
          },
          "execution_count": 52
        },
        {
          "output_type": "display_data",
          "data": {
            "image/png": "[encoded data removed]",
            "text/plain": [
              "<Figure size 432x288 with 1 Axes>"
            ]
          },
          "metadata": {
            "tags": [],
            "needs_background": "light"
          }
        }
      ]
    },
    {
      "cell_type": "code",
      "metadata": {
        "id": "Sf52HrrnA_Sb",
        "outputId": "38eef84d-2568-441e-c862-8f10c22cf587",
        "colab": {
          "base_uri": "https://localhost:8080/",
          "height": 34
        }
      },
      "source": [
        "al.shape"
      ],
      "execution_count": null,
      "outputs": [
        {
          "output_type": "execute_result",
          "data": {
            "text/plain": [
              "torch.Size([1, 216, 1, 68])"
            ]
          },
          "metadata": {
            "tags": []
          },
          "execution_count": 53
        }
      ]
    },
    {
      "cell_type": "code",
      "metadata": {
        "id": "UH3GJbUHA_Qe"
      },
      "source": [
        ""
      ],
      "execution_count": null,
      "outputs": []
    },
    {
      "cell_type": "code",
      "metadata": {
        "id": "cqCX19jaAN9_"
      },
      "source": [
        ""
      ],
      "execution_count": null,
      "outputs": []
    },
    {
      "cell_type": "code",
      "metadata": {
        "id": "AwlATiNQnhAK"
      },
      "source": [
        "pixelcnn_gen = pixelcnn_rec.sample(sample_test_cond)"
      ],
      "execution_count": null,
      "outputs": []
    },
    {
      "cell_type": "code",
      "metadata": {
        "id": "lZctUyQXivCt"
      },
      "source": [
        "wavenet_gen = wavenet_rec.sample(sample_test_cond)"
      ],
      "execution_count": null,
      "outputs": []
    },
    {
      "cell_type": "code",
      "metadata": {
        "id": "HutuS9V_oj6E"
      },
      "source": [
        "rl_pixelcnn_gen = rl_pixelcnn.sample(sample_test_cond)"
      ],
      "execution_count": null,
      "outputs": []
    },
    {
      "cell_type": "code",
      "metadata": {
        "id": "73BZWNJQsJ50",
        "outputId": "3a934a1e-9733-4033-ff10-8a3cd3fc7d54",
        "colab": {
          "base_uri": "https://localhost:8080/",
          "height": 84
        }
      },
      "source": [
        "plot_image(torch.flip(rl_pixelcnn_gen, dims=(1,)))"
      ],
      "execution_count": null,
      "outputs": [
        {
          "output_type": "display_data",
          "data": {
            "image/png": "[encoded data removed]",
            "text/plain": [
              "<Figure size 1080x1080 with 1 Axes>"
            ]
          },
          "metadata": {
            "tags": []
          }
        }
      ]
    },
    {
      "cell_type": "code",
      "metadata": {
        "id": "ooIXksyFidyF",
        "outputId": "e17f1550-5ff4-4370-9f96-e3da488015d9",
        "colab": {
          "base_uri": "https://localhost:8080/",
          "height": 84
        }
      },
      "source": [
        "plot_image(pixelcnn_gen)"
      ],
      "execution_count": null,
      "outputs": [
        {
          "output_type": "display_data",
          "data": {
            "image/png": "[encoded data removed]",
            "text/plain": [
              "<Figure size 1080x1080 with 1 Axes>"
            ]
          },
          "metadata": {
            "tags": []
          }
        }
      ]
    },
    {
      "cell_type": "code",
      "metadata": {
        "id": "HG7Gng_KjBLt",
        "outputId": "b66acf30-5f32-4368-ac4e-f2a4c4e44b23",
        "colab": {
          "base_uri": "https://localhost:8080/",
          "height": 84
        }
      },
      "source": [
        "plot_image(wavenet_gen)"
      ],
      "execution_count": null,
      "outputs": [
        {
          "output_type": "display_data",
          "data": {
            "image/png": "[encoded data removed]",
            "text/plain": [
              "<Figure size 1080x1080 with 1 Axes>"
            ]
          },
          "metadata": {
            "tags": []
          }
        }
      ]
    },
    {
      "cell_type": "code",
      "metadata": {
        "id": "I-_lf8HGk7cW"
      },
      "source": [
        "symbol_counter = Counter()"
      ],
      "execution_count": null,
      "outputs": []
    },
    {
      "cell_type": "code",
      "metadata": {
        "id": "oOO_sSQLk6iM"
      },
      "source": [
        "for batch in chunked_tasman_loader:\n",
        "  for alignment in batch[\"alignment\"]:\n",
        "    alignment = [alphabet[sample.item()] for sample in  alignment]\n",
        "    sample_counter = Counter(alignment)\n",
        "    symbol_counter.update(sample_counter)"
      ],
      "execution_count": null,
      "outputs": []
    },
    {
      "cell_type": "code",
      "metadata": {
        "id": "Oitc0qrWk60A",
        "outputId": "3d263556-354f-44e8-adbe-b94a127d65dc",
        "colab": {
          "base_uri": "https://localhost:8080/",
          "height": 1000
        }
      },
      "source": [
        "symbol_counter"
      ],
      "execution_count": null,
      "outputs": [
        {
          "output_type": "execute_result",
          "data": {
            "text/plain": [
              "Counter({' ': 30371,\n",
              "         '(': 47,\n",
              "         ')': 78,\n",
              "         '*': 31939,\n",
              "         ',': 2475,\n",
              "         '-': 12,\n",
              "         '/': 6,\n",
              "         '0': 639,\n",
              "         '1': 1097,\n",
              "         '2': 1087,\n",
              "         '3': 777,\n",
              "         '4': 1116,\n",
              "         '5': 597,\n",
              "         '6': 375,\n",
              "         '7': 321,\n",
              "         '8': 511,\n",
              "         '9': 180,\n",
              "         ':': 21,\n",
              "         'A': 453,\n",
              "         'B': 61,\n",
              "         'C': 326,\n",
              "         'D': 375,\n",
              "         'E': 96,\n",
              "         'F': 6,\n",
              "         'G': 341,\n",
              "         'H': 175,\n",
              "         'I': 84,\n",
              "         'J': 111,\n",
              "         'L': 65,\n",
              "         'M': 686,\n",
              "         'N': 139,\n",
              "         'O': 97,\n",
              "         'P': 34,\n",
              "         'R': 22,\n",
              "         'S': 182,\n",
              "         'T': 198,\n",
              "         'V': 52,\n",
              "         'W': 119,\n",
              "         'Z': 411,\n",
              "         'a': 16402,\n",
              "         'b': 3304,\n",
              "         'c': 9773,\n",
              "         'd': 16198,\n",
              "         'e': 66966,\n",
              "         'f': 1108,\n",
              "         'g': 8114,\n",
              "         'h': 8344,\n",
              "         'i': 10249,\n",
              "         'j': 2349,\n",
              "         'k': 2507,\n",
              "         'l': 8285,\n",
              "         'm': 7665,\n",
              "         'n': 33670,\n",
              "         'o': 21409,\n",
              "         'p': 2977,\n",
              "         'q': 199,\n",
              "         'r': 15093,\n",
              "         's': 11664,\n",
              "         't': 21756,\n",
              "         'u': 6356,\n",
              "         'v': 4668,\n",
              "         'w': 6978,\n",
              "         'x': 171,\n",
              "         'y': 3925,\n",
              "         'z': 2801,\n",
              "         '´': 1179})"
            ]
          },
          "metadata": {
            "tags": []
          },
          "execution_count": 87
        }
      ]
    },
    {
      "cell_type": "code",
      "metadata": {
        "id": "cYTY8LYKmcRy",
        "outputId": "9b8eb988-d356-4ed5-b0f0-9d47008b89bd",
        "colab": {
          "base_uri": "https://localhost:8080/",
          "height": 297
        }
      },
      "source": [
        "fig, axs = plt.subplots(3, 1, figsize=(14,4))\n",
        "axs[0].imshow(sample_test_img.squeeze().data.cpu().transpose(0,1), aspect=\"auto\")\n",
        "axs[1].imshow(pixelcnn_gen.squeeze().data.cpu().transpose(0,1), aspect=\"auto\")\n",
        "axs[2].imshow(torch.flip(rl_pixelcnn_gen, dims=(1,)).squeeze().data.cpu().transpose(0,1), aspect=\"auto\")\n",
        "fig.tight_layout()\n",
        "plt.subplots_adjust(wspace=0, hspace=0)\n",
        "plt.show()"
      ],
      "execution_count": null,
      "outputs": [
        {
          "output_type": "display_data",
          "data": {
            "image/png": "[encoded data removed]",
            "text/plain": [
              "<Figure size 1008x288 with 3 Axes>"
            ]
          },
          "metadata": {
            "tags": []
          }
        }
      ]
    },
    {
      "cell_type": "markdown",
      "metadata": {
        "id": "AhsJuxQZpPtD"
      },
      "source": [
        "## Comparison"
      ]
    },
    {
      "cell_type": "code",
      "metadata": {
        "id": "qYSeH6nium8l"
      },
      "source": [
        "models = [pixelcnn_rec, pixelcnn_rec_no_align, wavenet_rec, wavenet_l_rec, wavenet_no_align_rec, wavenet_lookahead_rec]\n",
        "models_labels = [\"PixelCNN\", \"PixelCNN no alignment\", \"WaveNet\", \"WaveNet L\", \"WaveNet no alignmenet\", \"WaveNet Lookahead\"]"
      ],
      "execution_count": null,
      "outputs": []
    },
    {
      "cell_type": "code",
      "metadata": {
        "id": "CGZgXCZrIKP4"
      },
      "source": [
        "models_pixel_cnn = [pixelcnn_rec, pixelcnn_lookahead, pixelcnn_L_rec, pixelcnn_lookahead_no_frac, mock_lr, rl_pixelcnn]\n",
        "models_pixel_cnn_labels = [\"PixelCNN\", \"PixelCNN Lookahead\", \"PixelCNN L\", \"PixelCNN Lookahead no frac\", \"PixelCNN from bidirectional\", \"Rigt-to-left PixelCNN\"]"
      ],
      "execution_count": null,
      "outputs": []
    },
    {
      "cell_type": "code",
      "metadata": {
        "id": "IPZ6i1UDnbr3"
      },
      "source": [
        "models_wavenet = [wavenet_rec, wavenet_l_rec, wavenet_no_align_rec, wavenet_lookahead_rec, wavenet_lookahead_rec_no_align]\n",
        "models_wavenet_labels = [\"WaveNet\", \"WaveNet L\", \"WaveNet no alignmenet\", \"WaveNet Lookahead\", \"WaveNet Lookagead no alignment\"]"
      ],
      "execution_count": null,
      "outputs": []
    },
    {
      "cell_type": "code",
      "metadata": {
        "id": "F6XflIv3IXmN"
      },
      "source": [
        "models = models_pixel_cnn\n",
        "models_labels = models_pixel_cnn_labels"
      ],
      "execution_count": null,
      "outputs": []
    },
    {
      "cell_type": "code",
      "metadata": {
        "id": "EFa6PFLybGiw"
      },
      "source": [
        "models_losses = compare_losses(models, chunked_tasman_test_loader)"
      ],
      "execution_count": null,
      "outputs": []
    },
    {
      "cell_type": "code",
      "metadata": {
        "id": "9x0MG3QkpX2w"
      },
      "source": [
        "batch_num, models_num = models_losses.shape"
      ],
      "execution_count": null,
      "outputs": []
    },
    {
      "cell_type": "code",
      "metadata": {
        "id": "iFsYS6sxpfOO",
        "outputId": "20c7cb30-c84c-41e5-9adb-c16c6e028449",
        "colab": {
          "base_uri": "https://localhost:8080/",
          "height": 374
        }
      },
      "source": [
        "fig = plt.figure(figsize=(9,6))\n",
        "for i in range(models_num):\n",
        "  plt.plot(np.arange(batch_num), models_losses[:,i], label=models_labels[i])\n",
        "plt.legend()\n",
        "plt.show()"
      ],
      "execution_count": null,
      "outputs": [
        {
          "output_type": "display_data",
          "data": {
            "image/png": "[encoded data removed]",
            "text/plain": [
              "<Figure size 648x432 with 1 Axes>"
            ]
          },
          "metadata": {
            "tags": []
          }
        }
      ]
    },
    {
      "cell_type": "code",
      "metadata": {
        "id": "rBmujU7BmC5X"
      },
      "source": [
        "column_loss = compare_column_losses(models, sample_chunked_test_batch)"
      ],
      "execution_count": null,
      "outputs": []
    },
    {
      "cell_type": "code",
      "metadata": {
        "id": "Bf1r2gIZqH4Y"
      },
      "source": [
        "column_loss_1st = column_loss[0]\n",
        "column_num = column_loss_1st.shape[0]"
      ],
      "execution_count": null,
      "outputs": []
    },
    {
      "cell_type": "code",
      "metadata": {
        "id": "Wfz3moPHr-_-",
        "outputId": "879b1a71-8fe8-4d56-a4f6-8b50674b4402",
        "colab": {
          "base_uri": "https://localhost:8080/",
          "height": 509
        }
      },
      "source": [
        "fig, axs = plt.subplots(2, 1, figsize=(10,7))\n",
        "axs[0].imshow(sample_chunked_test_batch[\"features\"][0].squeeze().transpose(0,1))\n",
        "for i in range(models_num):\n",
        "  axs[1].plot(np.arange(column_num), column_loss_1st[:,i], label=models_labels[i])\n",
        "axs[1].set_xlim(0,column_loss.shape[1])\n",
        "axs[1].legend()\n",
        "fig.tight_layout()\n",
        "plt.subplots_adjust(wspace=0, hspace=0)\n",
        "plt.show()"
      ],
      "execution_count": null,
      "outputs": [
        {
          "output_type": "display_data",
          "data": {
            "image/png": "[encoded data removed]",
            "text/plain": [
              "<Figure size 720x504 with 2 Axes>"
            ]
          },
          "metadata": {
            "tags": []
          }
        }
      ]
    },
    {
      "cell_type": "code",
      "metadata": {
        "id": "5hZUskabsXzD"
      },
      "source": [
        ""
      ],
      "execution_count": null,
      "outputs": []
    }
  ]
}