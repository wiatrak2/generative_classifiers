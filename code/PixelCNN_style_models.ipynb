{
 "cells": [
  {
   "cell_type": "code",
   "execution_count": 1,
   "metadata": {},
   "outputs": [
    {
     "name": "stdout",
     "output_type": "stream",
     "text": [
      "Defaulting to user installation because normal site-packages is not writeable\n",
      "Requirement already satisfied: editdistance in /home/jovyan/.local/lib/python3.7/site-packages (from -r requirements-pube.txt (line 1)) (0.5.3)\n",
      "Requirement already satisfied: tensorboardX in /home/jovyan/.local/lib/python3.7/site-packages (from -r requirements-pube.txt (line 2)) (2.1)\n",
      "Requirement already satisfied: kaldi_io in /home/jovyan/.local/lib/python3.7/site-packages (from -r requirements-pube.txt (line 3)) (0.9.4)\n",
      "Requirement already satisfied: torch==1.1.0 in /home/jovyan/.local/lib/python3.7/site-packages (from -r requirements-pube.txt (line 4)) (1.1.0)\n",
      "Requirement already satisfied: pillow<7 in /home/jovyan/.local/lib/python3.7/site-packages (from -r requirements-pube.txt (line 5)) (6.2.2)\n",
      "Requirement already satisfied: protobuf>=3.8.0 in /usr/local/share/miniconda3/lib/python3.7/site-packages (from tensorboardX->-r requirements-pube.txt (line 2)) (3.13.0)\n",
      "Requirement already satisfied: six in /usr/local/share/miniconda3/lib/python3.7/site-packages (from tensorboardX->-r requirements-pube.txt (line 2)) (1.15.0)\n",
      "Requirement already satisfied: numpy in /usr/local/share/miniconda3/lib/python3.7/site-packages (from tensorboardX->-r requirements-pube.txt (line 2)) (1.19.1)\n",
      "Requirement already satisfied: setuptools in /usr/local/share/miniconda3/lib/python3.7/site-packages (from protobuf>=3.8.0->tensorboardX->-r requirements-pube.txt (line 2)) (49.6.0.post20200814)\n"
     ]
    }
   ],
   "source": [
    "!pip install -r requirements-pube.txt"
   ]
  },
  {
   "cell_type": "code",
   "execution_count": 2,
   "metadata": {},
   "outputs": [],
   "source": [
    "import PIL"
   ]
  },
  {
   "cell_type": "code",
   "execution_count": 3,
   "metadata": {},
   "outputs": [
    {
     "data": {
      "text/plain": [
       "'6.2.2'"
      ]
     },
     "execution_count": 3,
     "metadata": {},
     "output_type": "execute_result"
    }
   ],
   "source": [
    "PIL.__version__"
   ]
  },
  {
   "cell_type": "code",
   "execution_count": 4,
   "metadata": {},
   "outputs": [],
   "source": [
    "import torch\n",
    "import torch.nn as nn\n",
    "import torch.nn.functional as F\n",
    "import torch.optim as optim\n",
    "import torchvision\n",
    "import numpy as np\n",
    "import matplotlib.pyplot as plt\n",
    "\n",
    "import os\n",
    "import datetime\n",
    "import json\n",
    "import yaml\n",
    "from collections import defaultdict, Counter\n",
    "from copy import deepcopy\n",
    "from importlib import reload\n",
    "from collections import Counter"
   ]
  },
  {
   "cell_type": "code",
   "execution_count": 5,
   "metadata": {},
   "outputs": [],
   "source": [
    "%matplotlib inline"
   ]
  },
  {
   "cell_type": "code",
   "execution_count": 6,
   "metadata": {},
   "outputs": [
    {
     "data": {
      "text/plain": [
       "<function torch._C._nn.one_hot>"
      ]
     },
     "execution_count": 6,
     "metadata": {},
     "output_type": "execute_result"
    }
   ],
   "source": [
    "F.one_hot"
   ]
  },
  {
   "cell_type": "code",
   "execution_count": 7,
   "metadata": {},
   "outputs": [],
   "source": [
    "#Add synchronized directory\n",
    "#Remember to keep up to date on the local machine \n",
    "distsup_dir = \"/home/jovyan/Documents/DistSup\"\n",
    "import sys\n",
    "sys.path.append(distsup_dir)"
   ]
  },
  {
   "cell_type": "code",
   "execution_count": 8,
   "metadata": {},
   "outputs": [],
   "source": [
    "from distsup import reconstructors_analysis\n",
    "from distsup.reconstructors_analysis.style_modeling.qmnist.dataset import get_dataset\n",
    "from distsup.modules import pixcnn\n",
    "from distsup.modules import quantizers"
   ]
  },
  {
   "cell_type": "code",
   "execution_count": 9,
   "metadata": {},
   "outputs": [
    {
     "name": "stderr",
     "output_type": "stream",
     "text": [
      "################################################################################\n",
      "### WARNING, path does not exist: KALDI_ROOT=/mnt/matylda5/iveselyk/Tools/kaldi-trunk\n",
      "###          (please add 'export KALDI_ROOT=<your_path>' in your $HOME/.profile)\n",
      "###          (or run as: KALDI_ROOT=<your_path> python <your_script>.py)\n",
      "################################################################################\n",
      "\n"
     ]
    }
   ],
   "source": [
    "from distsup import utils\n",
    "from distsup.modules import reconstructors, encoders, pixcnn\n",
    "from distsup.models import vqvae, minitest, representation_learners\n",
    "from distsup.data import PaddedDatasetLoader, FixedDatasetLoader, ChunkedDataset\n",
    "from egs.mnist_seq.data import MNISTSequentialDataset"
   ]
  },
  {
   "cell_type": "code",
   "execution_count": 10,
   "metadata": {},
   "outputs": [],
   "source": [
    "device = torch.device(\"cuda\" if torch.cuda.is_available() else \"cpu\")"
   ]
  },
  {
   "cell_type": "code",
   "execution_count": 11,
   "metadata": {},
   "outputs": [
    {
     "data": {
      "text/plain": [
       "device(type='cuda')"
      ]
     },
     "execution_count": 11,
     "metadata": {},
     "output_type": "execute_result"
    }
   ],
   "source": [
    "device"
   ]
  },
  {
   "cell_type": "markdown",
   "metadata": {},
   "source": [
    "## Classes"
   ]
  },
  {
   "cell_type": "code",
   "execution_count": 12,
   "metadata": {},
   "outputs": [],
   "source": [
    "num_levels = 16"
   ]
  },
  {
   "cell_type": "code",
   "execution_count": 13,
   "metadata": {},
   "outputs": [],
   "source": [
    "class MnistStyleModel(nn.Module):\n",
    "    def __init__(self, activation=F.leaky_relu):\n",
    "        super().__init__()\n",
    "        self.conv1 = nn.Conv2d(1, 64, kernel_size=3)\n",
    "        self.conv2 = nn.Conv2d(64, 64, kernel_size=3)\n",
    "        self.conv3 = nn.Conv2d(64, 16, kernel_size=3)\n",
    "        self.dropout = nn.Dropout2d()\n",
    "        self.activation = activation\n",
    "\n",
    "    def forward(self, x):\n",
    "        if len(x.shape) == 3:\n",
    "            x = x[None, :]\n",
    "        x = self.activation(F.max_pool2d(self.conv1(x), 2))\n",
    "        x = self.dropout(x)\n",
    "        x = self.activation(F.max_pool2d(self.conv2(x), 2))\n",
    "        x = self.dropout(x)\n",
    "        x = self.activation(self.conv3(x))\n",
    "        return x.view(x.size(0), -1)\n",
    "\n",
    "    @staticmethod\n",
    "    def get_inputs(data, num_levels):\n",
    "        x = data[\"images\"].to(device)\n",
    "        return (x * num_levels).clamp(0, num_levels - 1) / (num_levels - 1)"
   ]
  },
  {
   "cell_type": "code",
   "execution_count": 14,
   "metadata": {},
   "outputs": [],
   "source": [
    "style_model = MnistStyleModel()"
   ]
  },
  {
   "cell_type": "code",
   "execution_count": 15,
   "metadata": {},
   "outputs": [],
   "source": [
    "inps = torch.zeros((8,4,28,28))"
   ]
  },
  {
   "cell_type": "code",
   "execution_count": 16,
   "metadata": {},
   "outputs": [],
   "source": [
    "style_vecs = torch.empty(8,4,144)\n",
    "for i in range(4):\n",
    "    style_vecs[:,i,:] = style_model(inps[:,i,:,:].unsqueeze(1))\n",
    "style_vec = torch.mean(style_vecs, dim=1)"
   ]
  },
  {
   "cell_type": "code",
   "execution_count": 17,
   "metadata": {},
   "outputs": [
    {
     "data": {
      "text/plain": [
       "torch.Size([8, 144])"
      ]
     },
     "execution_count": 17,
     "metadata": {},
     "output_type": "execute_result"
    }
   ],
   "source": [
    "style_vec.shape"
   ]
  },
  {
   "cell_type": "code",
   "execution_count": 18,
   "metadata": {},
   "outputs": [],
   "source": [
    "digit_cond = [{\n",
    "    'cond_dim': 144,\n",
    "    'reduction_factor': 0,\n",
    "},\n",
    "{\n",
    "    'cond_dim': 10,\n",
    "    'reduction_factor': 0,\n",
    "}]"
   ]
  },
  {
   "cell_type": "code",
   "execution_count": 58,
   "metadata": {},
   "outputs": [],
   "source": [
    "style_sizes = [1,2,4,8,16,32]"
   ]
  },
  {
   "cell_type": "code",
   "execution_count": 59,
   "metadata": {},
   "outputs": [],
   "source": [
    "datasets = {i: get_dataset(i+1) for i in style_sizes}"
   ]
  },
  {
   "cell_type": "code",
   "execution_count": 60,
   "metadata": {},
   "outputs": [],
   "source": [
    "train_loaders ={\n",
    "    i: torch.utils.data.DataLoader(datasets[i][0], batch_size=64, num_workers=1, shuffle=True)   \n",
    "    for i in style_sizes\n",
    "}"
   ]
  },
  {
   "cell_type": "code",
   "execution_count": 61,
   "metadata": {},
   "outputs": [],
   "source": [
    "test_loaders ={\n",
    "    i: torch.utils.data.DataLoader(datasets[i][1], batch_size=64, num_workers=1, shuffle=False)   \n",
    "    for i in style_sizes\n",
    "}"
   ]
  },
  {
   "cell_type": "code",
   "execution_count": 62,
   "metadata": {},
   "outputs": [],
   "source": [
    "models = {i: pixcnn.GatedPixelCNN(quantizer=dict(\n",
    "                     class_name=quantizers.SoftmaxUniformQuantizer,\n",
    "                     num_levels=num_levels\n",
    "                     ),\n",
    "                     cond_channels=digit_cond).to(device)\n",
    "         for i in style_sizes}"
   ]
  },
  {
   "cell_type": "code",
   "execution_count": 63,
   "metadata": {},
   "outputs": [],
   "source": [
    "style_models = {\n",
    "    i: MnistStyleModel().to(device)\n",
    "    for i in style_sizes\n",
    "}"
   ]
  },
  {
   "cell_type": "code",
   "execution_count": 64,
   "metadata": {},
   "outputs": [],
   "source": [
    "from distsup.reconstructors_analysis.style_modeling import trainer"
   ]
  },
  {
   "cell_type": "code",
   "execution_count": 65,
   "metadata": {},
   "outputs": [],
   "source": [
    "trainers = {\n",
    "    i: trainer.PixelCnnSingleAuthorStyleAveragingTrainer(\n",
    "        models[i], \n",
    "        style_models[i], \n",
    "        train_loaders[i],\n",
    "        test_data_loader=test_loaders[i],\n",
    "        serialization_filename=f\"PixelCNN_averaged_style_inputs_{i}\",\n",
    "        serialization_path=\"models/PixelCNN_averaged_style\")\n",
    "    for i in style_sizes\n",
    "}"
   ]
  },
  {
   "cell_type": "code",
   "execution_count": 66,
   "metadata": {},
   "outputs": [],
   "source": [
    "optims = {\n",
    "    i: optim.Adam(models[i].parameters(), lr=1e-4)\n",
    "    for i in style_sizes\n",
    "}"
   ]
  },
  {
   "cell_type": "code",
   "execution_count": 67,
   "metadata": {},
   "outputs": [],
   "source": [
    "style_optims = {\n",
    "    i: optim.Adam(style_models[i].parameters(), lr=1e-4) \n",
    "    for i in style_models\n",
    "}"
   ]
  },
  {
   "cell_type": "code",
   "execution_count": 29,
   "metadata": {},
   "outputs": [],
   "source": [
    "num_epochs = 70"
   ]
  },
  {
   "cell_type": "code",
   "execution_count": 95,
   "metadata": {
    "scrolled": true
   },
   "outputs": [
    {
     "name": "stdout",
     "output_type": "stream",
     "text": [
      "Starting size 4 training\n",
      "Train Epoch: 1 [0/28620 (0%)]\tLoss: 143409.500000\n",
      "Train Epoch: 1 [6400/28620 (22%)]\tLoss: 74324.617188\n",
      "Train Epoch: 1 [12800/28620 (45%)]\tLoss: 47305.214844\n",
      "Train Epoch: 1 [19200/28620 (67%)]\tLoss: 42342.789062\n",
      "Train Epoch: 1 [25600/28620 (89%)]\tLoss: 41676.839844\n",
      "Train Epoch: 2 [0/28620 (0%)]\tLoss: 41418.753906\n",
      "Train Epoch: 2 [6400/28620 (22%)]\tLoss: 39462.945312\n",
      "Train Epoch: 2 [12800/28620 (45%)]\tLoss: 37621.742188\n",
      "Train Epoch: 2 [19200/28620 (67%)]\tLoss: 35001.054688\n",
      "Train Epoch: 2 [25600/28620 (89%)]\tLoss: 33101.265625\n",
      "Train Epoch: 3 [0/28620 (0%)]\tLoss: 29844.980469\n",
      "Train Epoch: 3 [6400/28620 (22%)]\tLoss: 29026.976562\n",
      "Train Epoch: 3 [12800/28620 (45%)]\tLoss: 25127.089844\n",
      "Train Epoch: 3 [19200/28620 (67%)]\tLoss: 24487.472656\n",
      "Train Epoch: 3 [25600/28620 (89%)]\tLoss: 23674.136719\n",
      "Train Epoch: 4 [0/28620 (0%)]\tLoss: 22095.312500\n",
      "Train Epoch: 4 [6400/28620 (22%)]\tLoss: 22869.048828\n",
      "Train Epoch: 4 [12800/28620 (45%)]\tLoss: 22523.640625\n",
      "Train Epoch: 4 [19200/28620 (67%)]\tLoss: 19959.830078\n",
      "Train Epoch: 4 [25600/28620 (89%)]\tLoss: 20662.777344\n",
      "Train Epoch: 5 [0/28620 (0%)]\tLoss: 20461.060547\n",
      "Train Epoch: 5 [6400/28620 (22%)]\tLoss: 20379.068359\n",
      "Train Epoch: 5 [12800/28620 (45%)]\tLoss: 20099.205078\n",
      "Train Epoch: 5 [19200/28620 (67%)]\tLoss: 20011.921875\n",
      "Train Epoch: 5 [25600/28620 (89%)]\tLoss: 19385.775391\n",
      "Train Epoch: 6 [0/28620 (0%)]\tLoss: 19422.421875\n",
      "Train Epoch: 6 [6400/28620 (22%)]\tLoss: 20001.457031\n",
      "Train Epoch: 6 [12800/28620 (45%)]\tLoss: 20148.916016\n",
      "Train Epoch: 6 [19200/28620 (67%)]\tLoss: 19091.248047\n",
      "Train Epoch: 6 [25600/28620 (89%)]\tLoss: 18208.531250\n",
      "Train Epoch: 7 [0/28620 (0%)]\tLoss: 18703.082031\n",
      "Train Epoch: 7 [6400/28620 (22%)]\tLoss: 18479.357422\n",
      "Train Epoch: 7 [12800/28620 (45%)]\tLoss: 17941.097656\n",
      "Train Epoch: 7 [19200/28620 (67%)]\tLoss: 18473.535156\n",
      "Train Epoch: 7 [25600/28620 (89%)]\tLoss: 18728.296875\n",
      "Train Epoch: 8 [0/28620 (0%)]\tLoss: 18971.845703\n",
      "Train Epoch: 8 [6400/28620 (22%)]\tLoss: 18718.773438\n",
      "Train Epoch: 8 [12800/28620 (45%)]\tLoss: 18523.402344\n",
      "Train Epoch: 8 [19200/28620 (67%)]\tLoss: 18351.097656\n",
      "Train Epoch: 8 [25600/28620 (89%)]\tLoss: 18861.763672\n",
      "Train Epoch: 9 [0/28620 (0%)]\tLoss: 17866.257812\n",
      "Train Epoch: 9 [6400/28620 (22%)]\tLoss: 17705.017578\n",
      "Train Epoch: 9 [12800/28620 (45%)]\tLoss: 18162.730469\n",
      "Train Epoch: 9 [19200/28620 (67%)]\tLoss: 18811.679688\n",
      "Train Epoch: 9 [25600/28620 (89%)]\tLoss: 19398.429688\n",
      "Train Epoch: 10 [0/28620 (0%)]\tLoss: 18203.812500\n",
      "Train Epoch: 10 [6400/28620 (22%)]\tLoss: 17409.910156\n",
      "Train Epoch: 10 [12800/28620 (45%)]\tLoss: 16992.953125\n",
      "Train Epoch: 10 [19200/28620 (67%)]\tLoss: 18944.273438\n",
      "Train Epoch: 10 [25600/28620 (89%)]\tLoss: 17926.804688\n",
      "Train Epoch: 11 [0/28620 (0%)]\tLoss: 18499.878906\n",
      "Train Epoch: 11 [6400/28620 (22%)]\tLoss: 18055.828125\n",
      "Train Epoch: 11 [12800/28620 (45%)]\tLoss: 18821.308594\n",
      "Train Epoch: 11 [19200/28620 (67%)]\tLoss: 17266.613281\n",
      "Train Epoch: 11 [25600/28620 (89%)]\tLoss: 17571.460938\n",
      "Train Epoch: 12 [0/28620 (0%)]\tLoss: 18882.207031\n",
      "Train Epoch: 12 [6400/28620 (22%)]\tLoss: 17884.269531\n",
      "Train Epoch: 12 [12800/28620 (45%)]\tLoss: 18060.062500\n",
      "Train Epoch: 12 [19200/28620 (67%)]\tLoss: 17282.910156\n",
      "Train Epoch: 12 [25600/28620 (89%)]\tLoss: 18322.070312\n",
      "Train Epoch: 13 [0/28620 (0%)]\tLoss: 17696.687500\n",
      "Train Epoch: 13 [6400/28620 (22%)]\tLoss: 17061.046875\n",
      "Train Epoch: 13 [12800/28620 (45%)]\tLoss: 17969.253906\n",
      "Train Epoch: 13 [19200/28620 (67%)]\tLoss: 17711.845703\n",
      "Train Epoch: 13 [25600/28620 (89%)]\tLoss: 17623.101562\n",
      "Train Epoch: 14 [0/28620 (0%)]\tLoss: 17504.203125\n",
      "Train Epoch: 14 [6400/28620 (22%)]\tLoss: 17734.515625\n",
      "Train Epoch: 14 [12800/28620 (45%)]\tLoss: 16693.441406\n",
      "Train Epoch: 14 [19200/28620 (67%)]\tLoss: 17538.753906\n",
      "Train Epoch: 14 [25600/28620 (89%)]\tLoss: 18321.160156\n",
      "Train Epoch: 15 [0/28620 (0%)]\tLoss: 17094.562500\n",
      "Train Epoch: 15 [6400/28620 (22%)]\tLoss: 17299.601562\n",
      "Train Epoch: 15 [12800/28620 (45%)]\tLoss: 17093.332031\n",
      "Train Epoch: 15 [19200/28620 (67%)]\tLoss: 17707.792969\n",
      "Train Epoch: 15 [25600/28620 (89%)]\tLoss: 17814.015625\n",
      "Train Epoch: 16 [0/28620 (0%)]\tLoss: 17812.433594\n",
      "Train Epoch: 16 [6400/28620 (22%)]\tLoss: 17382.306641\n",
      "Train Epoch: 16 [12800/28620 (45%)]\tLoss: 16897.712891\n",
      "Train Epoch: 16 [19200/28620 (67%)]\tLoss: 17958.109375\n",
      "Train Epoch: 16 [25600/28620 (89%)]\tLoss: 16925.101562\n",
      "Train Epoch: 17 [0/28620 (0%)]\tLoss: 16993.263672\n",
      "Train Epoch: 17 [6400/28620 (22%)]\tLoss: 17589.169922\n",
      "Train Epoch: 17 [12800/28620 (45%)]\tLoss: 17826.244141\n",
      "Train Epoch: 17 [19200/28620 (67%)]\tLoss: 17227.882812\n",
      "Train Epoch: 17 [25600/28620 (89%)]\tLoss: 17990.101562\n",
      "Train Epoch: 18 [0/28620 (0%)]\tLoss: 17089.458984\n",
      "Train Epoch: 18 [6400/28620 (22%)]\tLoss: 17395.601562\n",
      "Train Epoch: 18 [12800/28620 (45%)]\tLoss: 16806.980469\n",
      "Train Epoch: 18 [19200/28620 (67%)]\tLoss: 16888.531250\n",
      "Train Epoch: 18 [25600/28620 (89%)]\tLoss: 16543.195312\n",
      "Train Epoch: 19 [0/28620 (0%)]\tLoss: 16989.843750\n",
      "Train Epoch: 19 [6400/28620 (22%)]\tLoss: 16960.132812\n",
      "Train Epoch: 19 [12800/28620 (45%)]\tLoss: 16677.195312\n",
      "Train Epoch: 19 [19200/28620 (67%)]\tLoss: 17728.103516\n",
      "Train Epoch: 19 [25600/28620 (89%)]\tLoss: 16759.695312\n",
      "Train Epoch: 20 [0/28620 (0%)]\tLoss: 17892.898438\n",
      "Train Epoch: 20 [6400/28620 (22%)]\tLoss: 17656.294922\n",
      "Train Epoch: 20 [12800/28620 (45%)]\tLoss: 17391.560547\n",
      "Train Epoch: 20 [19200/28620 (67%)]\tLoss: 17258.341797\n",
      "Train Epoch: 20 [25600/28620 (89%)]\tLoss: 16624.945312\n",
      "Train Epoch: 21 [0/28620 (0%)]\tLoss: 17622.773438\n",
      "Train Epoch: 21 [6400/28620 (22%)]\tLoss: 17266.890625\n",
      "Train Epoch: 21 [12800/28620 (45%)]\tLoss: 16288.291016\n",
      "Train Epoch: 21 [19200/28620 (67%)]\tLoss: 15779.252930\n",
      "Train Epoch: 21 [25600/28620 (89%)]\tLoss: 17281.125000\n",
      "Train Epoch: 22 [0/28620 (0%)]\tLoss: 16656.552734\n",
      "Train Epoch: 22 [6400/28620 (22%)]\tLoss: 16732.429688\n",
      "Train Epoch: 22 [12800/28620 (45%)]\tLoss: 16279.132812\n",
      "Train Epoch: 22 [19200/28620 (67%)]\tLoss: 17320.597656\n",
      "Train Epoch: 22 [25600/28620 (89%)]\tLoss: 16799.410156\n",
      "Train Epoch: 23 [0/28620 (0%)]\tLoss: 17850.976562\n",
      "Train Epoch: 23 [6400/28620 (22%)]\tLoss: 16495.671875\n",
      "Train Epoch: 23 [12800/28620 (45%)]\tLoss: 16797.945312\n",
      "Train Epoch: 23 [19200/28620 (67%)]\tLoss: 16525.292969\n",
      "Train Epoch: 23 [25600/28620 (89%)]\tLoss: 16885.984375\n",
      "Train Epoch: 24 [0/28620 (0%)]\tLoss: 16521.296875\n",
      "Train Epoch: 24 [6400/28620 (22%)]\tLoss: 16748.847656\n",
      "Train Epoch: 24 [12800/28620 (45%)]\tLoss: 16888.826172\n",
      "Train Epoch: 24 [19200/28620 (67%)]\tLoss: 16932.500000\n",
      "Train Epoch: 24 [25600/28620 (89%)]\tLoss: 17111.724609\n",
      "Train Epoch: 25 [0/28620 (0%)]\tLoss: 16532.908203\n",
      "Train Epoch: 25 [6400/28620 (22%)]\tLoss: 16308.690430\n",
      "Train Epoch: 25 [12800/28620 (45%)]\tLoss: 17331.208984\n",
      "Train Epoch: 25 [19200/28620 (67%)]\tLoss: 16397.904297\n",
      "Train Epoch: 25 [25600/28620 (89%)]\tLoss: 16906.654297\n",
      "Train Epoch: 26 [0/28620 (0%)]\tLoss: 17273.812500\n",
      "Train Epoch: 26 [6400/28620 (22%)]\tLoss: 16748.230469\n",
      "Train Epoch: 26 [12800/28620 (45%)]\tLoss: 16284.294922\n",
      "Train Epoch: 26 [19200/28620 (67%)]\tLoss: 16983.501953\n",
      "Train Epoch: 26 [25600/28620 (89%)]\tLoss: 16575.806641\n",
      "Train Epoch: 27 [0/28620 (0%)]\tLoss: 16666.804688\n",
      "Train Epoch: 27 [6400/28620 (22%)]\tLoss: 16968.285156\n",
      "Train Epoch: 27 [12800/28620 (45%)]\tLoss: 16930.550781\n",
      "Train Epoch: 27 [19200/28620 (67%)]\tLoss: 17110.222656\n",
      "Train Epoch: 27 [25600/28620 (89%)]\tLoss: 16263.914062\n",
      "Train Epoch: 28 [0/28620 (0%)]\tLoss: 16468.171875\n",
      "Train Epoch: 28 [6400/28620 (22%)]\tLoss: 16914.539062\n",
      "Train Epoch: 28 [12800/28620 (45%)]\tLoss: 16756.859375\n",
      "Train Epoch: 28 [19200/28620 (67%)]\tLoss: 16655.869141\n",
      "Train Epoch: 28 [25600/28620 (89%)]\tLoss: 17322.533203\n",
      "Train Epoch: 29 [0/28620 (0%)]\tLoss: 16302.634766\n",
      "Train Epoch: 29 [6400/28620 (22%)]\tLoss: 16207.707031\n",
      "Train Epoch: 29 [12800/28620 (45%)]\tLoss: 17026.625000\n",
      "Train Epoch: 29 [19200/28620 (67%)]\tLoss: 15676.497070\n",
      "Train Epoch: 29 [25600/28620 (89%)]\tLoss: 15937.715820\n",
      "Train Epoch: 30 [0/28620 (0%)]\tLoss: 16886.042969\n",
      "Train Epoch: 30 [6400/28620 (22%)]\tLoss: 16298.011719\n",
      "Train Epoch: 30 [12800/28620 (45%)]\tLoss: 17186.800781\n",
      "Train Epoch: 30 [19200/28620 (67%)]\tLoss: 16757.867188\n",
      "Train Epoch: 30 [25600/28620 (89%)]\tLoss: 16012.057617\n",
      "Train Epoch: 31 [0/28620 (0%)]\tLoss: 17000.210938\n",
      "Train Epoch: 31 [6400/28620 (22%)]\tLoss: 16476.828125\n",
      "Train Epoch: 31 [12800/28620 (45%)]\tLoss: 15746.232422\n",
      "Train Epoch: 31 [19200/28620 (67%)]\tLoss: 16066.648438\n",
      "Train Epoch: 31 [25600/28620 (89%)]\tLoss: 16900.078125\n",
      "Train Epoch: 32 [0/28620 (0%)]\tLoss: 16438.978516\n",
      "Train Epoch: 32 [6400/28620 (22%)]\tLoss: 16365.001953\n",
      "Train Epoch: 32 [12800/28620 (45%)]\tLoss: 15836.850586\n",
      "Train Epoch: 32 [19200/28620 (67%)]\tLoss: 16623.216797\n",
      "Train Epoch: 32 [25600/28620 (89%)]\tLoss: 16384.921875\n",
      "Train Epoch: 33 [0/28620 (0%)]\tLoss: 15941.081055\n",
      "Train Epoch: 33 [6400/28620 (22%)]\tLoss: 15685.240234\n",
      "Train Epoch: 33 [12800/28620 (45%)]\tLoss: 15214.747070\n",
      "Train Epoch: 33 [19200/28620 (67%)]\tLoss: 17007.769531\n",
      "Train Epoch: 33 [25600/28620 (89%)]\tLoss: 16394.119141\n",
      "Train Epoch: 34 [0/28620 (0%)]\tLoss: 15718.247070\n",
      "Train Epoch: 34 [6400/28620 (22%)]\tLoss: 16301.127930\n",
      "Train Epoch: 34 [12800/28620 (45%)]\tLoss: 16059.218750\n",
      "Train Epoch: 34 [19200/28620 (67%)]\tLoss: 15927.290039\n",
      "Train Epoch: 34 [25600/28620 (89%)]\tLoss: 16573.919922\n",
      "Train Epoch: 35 [0/28620 (0%)]\tLoss: 17744.673828\n",
      "Train Epoch: 35 [6400/28620 (22%)]\tLoss: 16563.476562\n",
      "Train Epoch: 35 [12800/28620 (45%)]\tLoss: 16550.681641\n",
      "Train Epoch: 35 [19200/28620 (67%)]\tLoss: 16473.992188\n",
      "Train Epoch: 35 [25600/28620 (89%)]\tLoss: 16513.031250\n",
      "Train Epoch: 36 [0/28620 (0%)]\tLoss: 15912.585938\n",
      "Train Epoch: 36 [6400/28620 (22%)]\tLoss: 16803.742188\n",
      "Train Epoch: 36 [12800/28620 (45%)]\tLoss: 16967.007812\n",
      "Train Epoch: 36 [19200/28620 (67%)]\tLoss: 15638.230469\n",
      "Train Epoch: 36 [25600/28620 (89%)]\tLoss: 16179.486328\n",
      "Train Epoch: 37 [0/28620 (0%)]\tLoss: 16345.089844\n",
      "Train Epoch: 37 [6400/28620 (22%)]\tLoss: 16569.632812\n",
      "Train Epoch: 37 [12800/28620 (45%)]\tLoss: 16575.363281\n",
      "Train Epoch: 37 [19200/28620 (67%)]\tLoss: 17163.791016\n",
      "Train Epoch: 37 [25600/28620 (89%)]\tLoss: 16489.058594\n",
      "Train Epoch: 38 [0/28620 (0%)]\tLoss: 16856.304688\n",
      "Train Epoch: 38 [6400/28620 (22%)]\tLoss: 16240.331055\n",
      "Train Epoch: 38 [12800/28620 (45%)]\tLoss: 16160.375977\n",
      "Train Epoch: 38 [19200/28620 (67%)]\tLoss: 15738.752930\n",
      "Train Epoch: 38 [25600/28620 (89%)]\tLoss: 15540.462891\n",
      "Train Epoch: 39 [0/28620 (0%)]\tLoss: 16573.351562\n",
      "Train Epoch: 42 [25600/28620 (89%)]\tLoss: 16446.839844\n",
      "Train Epoch: 43 [0/28620 (0%)]\tLoss: 16249.298828\n",
      "Train Epoch: 43 [6400/28620 (22%)]\tLoss: 16581.289062\n",
      "Train Epoch: 43 [12800/28620 (45%)]\tLoss: 16610.130859\n",
      "Train Epoch: 43 [19200/28620 (67%)]\tLoss: 16604.611328\n",
      "Train Epoch: 43 [25600/28620 (89%)]\tLoss: 15855.498047\n",
      "Train Epoch: 44 [0/28620 (0%)]\tLoss: 16545.031250\n",
      "Train Epoch: 44 [6400/28620 (22%)]\tLoss: 16427.300781\n",
      "Train Epoch: 44 [12800/28620 (45%)]\tLoss: 15936.929688\n",
      "Train Epoch: 44 [19200/28620 (67%)]\tLoss: 16790.175781\n",
      "Train Epoch: 44 [25600/28620 (89%)]\tLoss: 16817.101562\n",
      "Train Epoch: 45 [0/28620 (0%)]\tLoss: 16288.574219\n",
      "Train Epoch: 45 [6400/28620 (22%)]\tLoss: 15953.005859\n",
      "Train Epoch: 45 [12800/28620 (45%)]\tLoss: 15519.147461\n",
      "Train Epoch: 45 [19200/28620 (67%)]\tLoss: 15928.242188\n",
      "Train Epoch: 45 [25600/28620 (89%)]\tLoss: 16160.890625\n",
      "Train Epoch: 46 [0/28620 (0%)]\tLoss: 16020.247070\n",
      "Train Epoch: 46 [6400/28620 (22%)]\tLoss: 17064.234375\n",
      "Train Epoch: 46 [12800/28620 (45%)]\tLoss: 15774.560547\n",
      "Train Epoch: 46 [19200/28620 (67%)]\tLoss: 16151.694336\n",
      "Train Epoch: 46 [25600/28620 (89%)]\tLoss: 15698.565430\n",
      "Train Epoch: 47 [0/28620 (0%)]\tLoss: 15343.841797\n",
      "Train Epoch: 47 [6400/28620 (22%)]\tLoss: 15764.994141\n",
      "Train Epoch: 47 [12800/28620 (45%)]\tLoss: 16662.933594\n",
      "Train Epoch: 47 [19200/28620 (67%)]\tLoss: 16035.012695\n",
      "Train Epoch: 47 [25600/28620 (89%)]\tLoss: 16225.606445\n",
      "Train Epoch: 48 [0/28620 (0%)]\tLoss: 16546.855469\n",
      "Train Epoch: 48 [6400/28620 (22%)]\tLoss: 17260.523438\n",
      "Train Epoch: 48 [12800/28620 (45%)]\tLoss: 15294.259766\n",
      "Train Epoch: 48 [19200/28620 (67%)]\tLoss: 15965.134766\n",
      "Train Epoch: 48 [25600/28620 (89%)]\tLoss: 15760.808594\n",
      "Train Epoch: 49 [0/28620 (0%)]\tLoss: 16776.042969\n",
      "Train Epoch: 49 [6400/28620 (22%)]\tLoss: 16554.757812\n",
      "Train Epoch: 49 [12800/28620 (45%)]\tLoss: 16559.062500\n",
      "Train Epoch: 49 [19200/28620 (67%)]\tLoss: 16416.509766\n",
      "Train Epoch: 49 [25600/28620 (89%)]\tLoss: 16323.500977\n",
      "Train Epoch: 50 [0/28620 (0%)]\tLoss: 16324.533203\n",
      "Train Epoch: 50 [6400/28620 (22%)]\tLoss: 15427.755859\n",
      "Train Epoch: 50 [12800/28620 (45%)]\tLoss: 15657.154297\n",
      "Train Epoch: 50 [19200/28620 (67%)]\tLoss: 15495.224609\n",
      "Train Epoch: 50 [25600/28620 (89%)]\tLoss: 16424.273438\n",
      "Train Epoch: 51 [0/28620 (0%)]\tLoss: 16474.589844\n",
      "Train Epoch: 51 [6400/28620 (22%)]\tLoss: 15869.455078\n",
      "Train Epoch: 51 [12800/28620 (45%)]\tLoss: 16832.644531\n",
      "Train Epoch: 51 [19200/28620 (67%)]\tLoss: 16222.558594\n",
      "Train Epoch: 51 [25600/28620 (89%)]\tLoss: 15889.978516\n",
      "Train Epoch: 52 [0/28620 (0%)]\tLoss: 15725.804688\n",
      "Train Epoch: 52 [6400/28620 (22%)]\tLoss: 16000.804688\n",
      "Train Epoch: 52 [12800/28620 (45%)]\tLoss: 16083.798828\n",
      "Train Epoch: 52 [19200/28620 (67%)]\tLoss: 15460.476562\n",
      "Train Epoch: 52 [25600/28620 (89%)]\tLoss: 15712.308594\n",
      "Train Epoch: 53 [0/28620 (0%)]\tLoss: 16996.867188\n",
      "Train Epoch: 53 [6400/28620 (22%)]\tLoss: 16428.890625\n",
      "Train Epoch: 53 [12800/28620 (45%)]\tLoss: 15478.425781\n",
      "Train Epoch: 53 [19200/28620 (67%)]\tLoss: 17013.126953\n",
      "Train Epoch: 53 [25600/28620 (89%)]\tLoss: 16394.890625\n",
      "Train Epoch: 54 [0/28620 (0%)]\tLoss: 16094.434570\n",
      "Train Epoch: 54 [6400/28620 (22%)]\tLoss: 15969.298828\n",
      "Train Epoch: 54 [12800/28620 (45%)]\tLoss: 16611.468750\n",
      "Train Epoch: 54 [19200/28620 (67%)]\tLoss: 15414.228516\n",
      "Train Epoch: 54 [25600/28620 (89%)]\tLoss: 16555.878906\n",
      "Train Epoch: 55 [0/28620 (0%)]\tLoss: 15696.599609\n",
      "Train Epoch: 55 [6400/28620 (22%)]\tLoss: 15420.205078\n",
      "Train Epoch: 55 [12800/28620 (45%)]\tLoss: 16220.263672\n",
      "Train Epoch: 55 [19200/28620 (67%)]\tLoss: 15860.802734\n",
      "Train Epoch: 55 [25600/28620 (89%)]\tLoss: 16038.642578\n",
      "Train Epoch: 56 [0/28620 (0%)]\tLoss: 14930.832031\n",
      "Train Epoch: 56 [6400/28620 (22%)]\tLoss: 15803.542969\n",
      "Train Epoch: 56 [12800/28620 (45%)]\tLoss: 16172.189453\n",
      "Train Epoch: 56 [19200/28620 (67%)]\tLoss: 16715.720703\n",
      "Train Epoch: 56 [25600/28620 (89%)]\tLoss: 15379.614258\n",
      "Train Epoch: 57 [0/28620 (0%)]\tLoss: 16175.509766\n",
      "Train Epoch: 57 [6400/28620 (22%)]\tLoss: 16624.517578\n",
      "Train Epoch: 57 [12800/28620 (45%)]\tLoss: 15322.882812\n",
      "Train Epoch: 57 [19200/28620 (67%)]\tLoss: 15557.180664\n",
      "Train Epoch: 57 [25600/28620 (89%)]\tLoss: 15932.839844\n",
      "Train Epoch: 58 [0/28620 (0%)]\tLoss: 16364.781250\n",
      "Train Epoch: 58 [6400/28620 (22%)]\tLoss: 16424.267578\n",
      "Train Epoch: 58 [12800/28620 (45%)]\tLoss: 16203.549805\n",
      "Train Epoch: 58 [19200/28620 (67%)]\tLoss: 15824.844727\n",
      "Train Epoch: 58 [25600/28620 (89%)]\tLoss: 15615.533203\n",
      "Train Epoch: 59 [0/28620 (0%)]\tLoss: 15600.531250\n",
      "Train Epoch: 59 [6400/28620 (22%)]\tLoss: 15383.335938\n",
      "Train Epoch: 59 [12800/28620 (45%)]\tLoss: 15749.349609\n",
      "Train Epoch: 59 [19200/28620 (67%)]\tLoss: 15864.203125\n",
      "Train Epoch: 59 [25600/28620 (89%)]\tLoss: 16262.087891\n",
      "Train Epoch: 60 [0/28620 (0%)]\tLoss: 16668.875000\n",
      "Train Epoch: 60 [6400/28620 (22%)]\tLoss: 16166.490234\n",
      "Train Epoch: 60 [12800/28620 (45%)]\tLoss: 16646.066406\n",
      "Train Epoch: 60 [19200/28620 (67%)]\tLoss: 16181.375977\n",
      "Train Epoch: 60 [25600/28620 (89%)]\tLoss: 15973.304688\n",
      "Train Epoch: 61 [0/28620 (0%)]\tLoss: 15572.609375\n",
      "Train Epoch: 61 [6400/28620 (22%)]\tLoss: 15845.040039\n",
      "Train Epoch: 61 [12800/28620 (45%)]\tLoss: 16612.882812\n",
      "Train Epoch: 61 [19200/28620 (67%)]\tLoss: 15387.254883\n",
      "Train Epoch: 61 [25600/28620 (89%)]\tLoss: 16214.089844\n",
      "Train Epoch: 62 [0/28620 (0%)]\tLoss: 15733.661133\n",
      "Train Epoch: 62 [6400/28620 (22%)]\tLoss: 16116.244141\n",
      "Train Epoch: 62 [12800/28620 (45%)]\tLoss: 15763.322266\n",
      "Train Epoch: 62 [19200/28620 (67%)]\tLoss: 15604.542969\n",
      "Train Epoch: 62 [25600/28620 (89%)]\tLoss: 16222.541016\n",
      "Train Epoch: 63 [0/28620 (0%)]\tLoss: 15197.431641\n",
      "Train Epoch: 63 [6400/28620 (22%)]\tLoss: 16585.183594\n",
      "Train Epoch: 63 [12800/28620 (45%)]\tLoss: 15900.908203\n",
      "Train Epoch: 63 [19200/28620 (67%)]\tLoss: 15844.660156\n",
      "Train Epoch: 63 [25600/28620 (89%)]\tLoss: 15615.012695\n",
      "Train Epoch: 64 [0/28620 (0%)]\tLoss: 15682.494141\n",
      "Train Epoch: 64 [6400/28620 (22%)]\tLoss: 16324.867188\n",
      "Train Epoch: 64 [12800/28620 (45%)]\tLoss: 15852.158203\n",
      "Train Epoch: 64 [19200/28620 (67%)]\tLoss: 15247.364258\n",
      "Train Epoch: 64 [25600/28620 (89%)]\tLoss: 14800.178711\n",
      "Train Epoch: 65 [0/28620 (0%)]\tLoss: 15426.607422\n",
      "Train Epoch: 65 [6400/28620 (22%)]\tLoss: 15745.539062\n",
      "Train Epoch: 65 [12800/28620 (45%)]\tLoss: 15363.705078\n",
      "Train Epoch: 65 [19200/28620 (67%)]\tLoss: 15236.500000\n",
      "Train Epoch: 65 [25600/28620 (89%)]\tLoss: 15436.259766\n",
      "Train Epoch: 66 [0/28620 (0%)]\tLoss: 16269.523438\n",
      "Train Epoch: 66 [6400/28620 (22%)]\tLoss: 15531.049805\n",
      "Train Epoch: 66 [12800/28620 (45%)]\tLoss: 15732.578125\n",
      "Train Epoch: 66 [19200/28620 (67%)]\tLoss: 15758.622070\n",
      "Train Epoch: 66 [25600/28620 (89%)]\tLoss: 15876.021484\n",
      "Train Epoch: 67 [0/28620 (0%)]\tLoss: 15414.386719\n",
      "Train Epoch: 67 [6400/28620 (22%)]\tLoss: 15824.009766\n",
      "Train Epoch: 67 [12800/28620 (45%)]\tLoss: 16321.520508\n",
      "Train Epoch: 67 [19200/28620 (67%)]\tLoss: 16695.281250\n",
      "Train Epoch: 67 [25600/28620 (89%)]\tLoss: 15326.558594\n",
      "Train Epoch: 68 [0/28620 (0%)]\tLoss: 15822.815430\n",
      "Train Epoch: 68 [6400/28620 (22%)]\tLoss: 15770.800781\n",
      "Train Epoch: 68 [12800/28620 (45%)]\tLoss: 15564.541016\n",
      "Train Epoch: 68 [19200/28620 (67%)]\tLoss: 15184.686523\n",
      "Train Epoch: 68 [25600/28620 (89%)]\tLoss: 14744.537109\n",
      "Train Epoch: 69 [0/28620 (0%)]\tLoss: 15847.674805\n",
      "Train Epoch: 69 [6400/28620 (22%)]\tLoss: 16127.031250\n",
      "Train Epoch: 69 [12800/28620 (45%)]\tLoss: 16603.191406\n",
      "Train Epoch: 69 [19200/28620 (67%)]\tLoss: 15253.226562\n",
      "Train Epoch: 69 [25600/28620 (89%)]\tLoss: 16125.470703\n",
      "Train Epoch: 70 [0/28620 (0%)]\tLoss: 16459.964844\n",
      "Train Epoch: 70 [6400/28620 (22%)]\tLoss: 16069.337891\n",
      "Train Epoch: 70 [12800/28620 (45%)]\tLoss: 15756.139648\n",
      "Train Epoch: 70 [19200/28620 (67%)]\tLoss: 16450.019531\n",
      "Train Epoch: 70 [25600/28620 (89%)]\tLoss: 16420.457031\n",
      "Serializing model\n",
      "Model serialized as models/PixelCNN_style_4GatedPixelCNN_2020-07-22_19:33:17.pkl\n"
     ]
    }
   ],
   "source": [
    "for i in style_sizes:\n",
    "    print(f\"Starting size {i} training\")\n",
    "    trainers[i].train(optims[i], style_optims[i], num_epochs)\n",
    "    print(\"Serializing model\")\n",
    "    trainers[i].serialize(optims[i], style_optims[i])\n",
    "    "
   ]
  },
  {
   "cell_type": "code",
   "execution_count": 130,
   "metadata": {},
   "outputs": [],
   "source": [
    "optims = {\n",
    "    i: optim.Adam(models[i].parameters(), lr=1e-3)\n",
    "    for i in style_sizes\n",
    "}"
   ]
  },
  {
   "cell_type": "code",
   "execution_count": 131,
   "metadata": {},
   "outputs": [],
   "source": [
    "style_optims = {\n",
    "    i: optim.Adam(style_models[i].parameters(), lr=1e-3) \n",
    "    for i in style_models\n",
    "}"
   ]
  },
  {
   "cell_type": "code",
   "execution_count": 132,
   "metadata": {
    "scrolled": true
   },
   "outputs": [
    {
     "name": "stdout",
     "output_type": "stream",
     "text": [
      "Starting size 4 training\n",
      "Train Epoch: 1 [0/28620 (0%)]\tLoss: 13944.148438\n",
      "Train Epoch: 1 [6400/28620 (22%)]\tLoss: 14091.523438\n",
      "Train Epoch: 1 [12800/28620 (45%)]\tLoss: 15011.566406\n",
      "Train Epoch: 1 [19200/28620 (67%)]\tLoss: 14609.640625\n",
      "Train Epoch: 1 [25600/28620 (89%)]\tLoss: 14792.402344\n",
      "Train Epoch: 2 [0/28620 (0%)]\tLoss: 14410.322266\n",
      "Train Epoch: 2 [6400/28620 (22%)]\tLoss: 14858.560547\n",
      "Train Epoch: 2 [12800/28620 (45%)]\tLoss: 14934.812500\n",
      "Train Epoch: 2 [19200/28620 (67%)]\tLoss: 14566.027344\n",
      "Train Epoch: 2 [25600/28620 (89%)]\tLoss: 14415.777344\n",
      "Train Epoch: 3 [0/28620 (0%)]\tLoss: 13953.712891\n",
      "Train Epoch: 3 [6400/28620 (22%)]\tLoss: 13966.490234\n",
      "Train Epoch: 3 [12800/28620 (45%)]\tLoss: 14059.308594\n",
      "Train Epoch: 3 [19200/28620 (67%)]\tLoss: 14890.793945\n",
      "Train Epoch: 3 [25600/28620 (89%)]\tLoss: 14986.980469\n",
      "Train Epoch: 4 [0/28620 (0%)]\tLoss: 14725.767578\n",
      "Train Epoch: 4 [6400/28620 (22%)]\tLoss: 14575.064453\n",
      "Train Epoch: 4 [12800/28620 (45%)]\tLoss: 14231.478516\n",
      "Train Epoch: 4 [19200/28620 (67%)]\tLoss: 14397.888672\n",
      "Train Epoch: 4 [25600/28620 (89%)]\tLoss: 13845.181641\n",
      "Train Epoch: 5 [0/28620 (0%)]\tLoss: 13987.118164\n",
      "Train Epoch: 5 [6400/28620 (22%)]\tLoss: 13851.494141\n",
      "Train Epoch: 5 [12800/28620 (45%)]\tLoss: 14135.125000\n",
      "Train Epoch: 5 [19200/28620 (67%)]\tLoss: 14585.562500\n",
      "Train Epoch: 5 [25600/28620 (89%)]\tLoss: 15113.503906\n",
      "Train Epoch: 6 [0/28620 (0%)]\tLoss: 14046.877930\n",
      "Train Epoch: 6 [6400/28620 (22%)]\tLoss: 14120.115234\n",
      "Train Epoch: 6 [12800/28620 (45%)]\tLoss: 14423.683594\n",
      "Train Epoch: 6 [19200/28620 (67%)]\tLoss: 14741.852539\n",
      "Train Epoch: 6 [25600/28620 (89%)]\tLoss: 14413.706055\n",
      "Train Epoch: 7 [0/28620 (0%)]\tLoss: 14754.193359\n",
      "Train Epoch: 7 [6400/28620 (22%)]\tLoss: 14486.788086\n",
      "Train Epoch: 7 [12800/28620 (45%)]\tLoss: 14409.470703\n",
      "Train Epoch: 7 [19200/28620 (67%)]\tLoss: 13992.222656\n",
      "Train Epoch: 7 [25600/28620 (89%)]\tLoss: 14904.546875\n",
      "Train Epoch: 8 [0/28620 (0%)]\tLoss: 14588.188477\n",
      "Train Epoch: 8 [6400/28620 (22%)]\tLoss: 14314.929688\n",
      "Train Epoch: 8 [12800/28620 (45%)]\tLoss: 14211.004883\n",
      "Train Epoch: 8 [19200/28620 (67%)]\tLoss: 14292.802734\n",
      "Train Epoch: 8 [25600/28620 (89%)]\tLoss: 14234.545898\n",
      "Train Epoch: 9 [0/28620 (0%)]\tLoss: 14801.447266\n",
      "Train Epoch: 9 [6400/28620 (22%)]\tLoss: 14266.579102\n",
      "Train Epoch: 9 [12800/28620 (45%)]\tLoss: 14569.550781\n",
      "Train Epoch: 9 [19200/28620 (67%)]\tLoss: 14520.347656\n",
      "Train Epoch: 9 [25600/28620 (89%)]\tLoss: 14657.138672\n",
      "Train Epoch: 10 [0/28620 (0%)]\tLoss: 14455.014648\n",
      "Train Epoch: 10 [6400/28620 (22%)]\tLoss: 15147.072266\n",
      "Train Epoch: 10 [12800/28620 (45%)]\tLoss: 13848.820312\n",
      "Train Epoch: 10 [19200/28620 (67%)]\tLoss: 14891.541992\n",
      "Train Epoch: 10 [25600/28620 (89%)]\tLoss: 15204.578125\n",
      "Train Epoch: 11 [0/28620 (0%)]\tLoss: 14198.081055\n",
      "Train Epoch: 11 [6400/28620 (22%)]\tLoss: 14169.998047\n",
      "Train Epoch: 11 [12800/28620 (45%)]\tLoss: 14651.384766\n",
      "Train Epoch: 11 [19200/28620 (67%)]\tLoss: 14770.431641\n",
      "Train Epoch: 11 [25600/28620 (89%)]\tLoss: 14709.930664\n",
      "Train Epoch: 12 [0/28620 (0%)]\tLoss: 14614.011719\n",
      "Train Epoch: 12 [6400/28620 (22%)]\tLoss: 13699.371094\n",
      "Train Epoch: 12 [12800/28620 (45%)]\tLoss: 14793.818359\n",
      "Train Epoch: 12 [19200/28620 (67%)]\tLoss: 14771.022461\n",
      "Train Epoch: 12 [25600/28620 (89%)]\tLoss: 13541.558594\n",
      "Train Epoch: 13 [0/28620 (0%)]\tLoss: 14636.426758\n",
      "Train Epoch: 13 [6400/28620 (22%)]\tLoss: 14757.410156\n",
      "Train Epoch: 13 [12800/28620 (45%)]\tLoss: 14772.375977\n",
      "Train Epoch: 13 [19200/28620 (67%)]\tLoss: 13856.574219\n",
      "Train Epoch: 13 [25600/28620 (89%)]\tLoss: 14555.027344\n",
      "Train Epoch: 14 [0/28620 (0%)]\tLoss: 13596.148438\n",
      "Train Epoch: 14 [6400/28620 (22%)]\tLoss: 14900.556641\n",
      "Train Epoch: 14 [12800/28620 (45%)]\tLoss: 13815.170898\n",
      "Train Epoch: 14 [19200/28620 (67%)]\tLoss: 13812.623047\n",
      "Train Epoch: 14 [25600/28620 (89%)]\tLoss: 14281.656250\n",
      "Train Epoch: 15 [0/28620 (0%)]\tLoss: 14540.134766\n",
      "Train Epoch: 15 [6400/28620 (22%)]\tLoss: 13808.467773\n",
      "Train Epoch: 15 [12800/28620 (45%)]\tLoss: 13624.943359\n",
      "Train Epoch: 15 [19200/28620 (67%)]\tLoss: 14868.214844\n",
      "Train Epoch: 15 [25600/28620 (89%)]\tLoss: 14782.152344\n",
      "Train Epoch: 16 [0/28620 (0%)]\tLoss: 14234.241211\n",
      "Train Epoch: 16 [6400/28620 (22%)]\tLoss: 13684.705078\n",
      "Train Epoch: 16 [12800/28620 (45%)]\tLoss: 14047.686523\n",
      "Train Epoch: 16 [19200/28620 (67%)]\tLoss: 15300.349609\n",
      "Train Epoch: 16 [25600/28620 (89%)]\tLoss: 14601.246094\n",
      "Train Epoch: 17 [0/28620 (0%)]\tLoss: 14438.056641\n",
      "Train Epoch: 17 [6400/28620 (22%)]\tLoss: 14453.962891\n",
      "Train Epoch: 17 [12800/28620 (45%)]\tLoss: 13984.318359\n",
      "Train Epoch: 17 [19200/28620 (67%)]\tLoss: 14366.871094\n",
      "Train Epoch: 17 [25600/28620 (89%)]\tLoss: 13260.104492\n",
      "Train Epoch: 18 [0/28620 (0%)]\tLoss: 13705.735352\n",
      "Train Epoch: 18 [6400/28620 (22%)]\tLoss: 14209.126953\n",
      "Train Epoch: 18 [12800/28620 (45%)]\tLoss: 15284.103516\n",
      "Train Epoch: 18 [19200/28620 (67%)]\tLoss: 14201.461914\n",
      "Train Epoch: 18 [25600/28620 (89%)]\tLoss: 14109.142578\n",
      "Train Epoch: 19 [0/28620 (0%)]\tLoss: 15168.575195\n",
      "Train Epoch: 19 [6400/28620 (22%)]\tLoss: 15290.568359\n",
      "Train Epoch: 19 [12800/28620 (45%)]\tLoss: 14444.515625\n",
      "Train Epoch: 19 [19200/28620 (67%)]\tLoss: 14236.635742\n",
      "Train Epoch: 19 [25600/28620 (89%)]\tLoss: 13675.203125\n",
      "Train Epoch: 20 [0/28620 (0%)]\tLoss: 15060.507812\n",
      "Train Epoch: 20 [6400/28620 (22%)]\tLoss: 14706.682617\n",
      "Train Epoch: 20 [12800/28620 (45%)]\tLoss: 14269.605469\n",
      "Train Epoch: 20 [19200/28620 (67%)]\tLoss: 13648.640625\n",
      "Train Epoch: 20 [25600/28620 (89%)]\tLoss: 14342.632812\n",
      "Train Epoch: 21 [0/28620 (0%)]\tLoss: 15149.877930\n",
      "Train Epoch: 21 [6400/28620 (22%)]\tLoss: 14653.797852\n",
      "Train Epoch: 21 [12800/28620 (45%)]\tLoss: 14968.767578\n",
      "Train Epoch: 21 [19200/28620 (67%)]\tLoss: 14447.775391\n",
      "Train Epoch: 21 [25600/28620 (89%)]\tLoss: 13799.092773\n",
      "Train Epoch: 22 [0/28620 (0%)]\tLoss: 14590.073242\n",
      "Train Epoch: 22 [6400/28620 (22%)]\tLoss: 14900.232422\n",
      "Train Epoch: 22 [12800/28620 (45%)]\tLoss: 13685.111328\n",
      "Train Epoch: 22 [19200/28620 (67%)]\tLoss: 13930.868164\n",
      "Train Epoch: 22 [25600/28620 (89%)]\tLoss: 14497.161133\n",
      "Train Epoch: 23 [0/28620 (0%)]\tLoss: 15041.335938\n",
      "Train Epoch: 23 [6400/28620 (22%)]\tLoss: 14399.261719\n",
      "Train Epoch: 23 [12800/28620 (45%)]\tLoss: 14576.227539\n",
      "Train Epoch: 23 [19200/28620 (67%)]\tLoss: 14263.626953\n",
      "Train Epoch: 23 [25600/28620 (89%)]\tLoss: 14249.708984\n",
      "Train Epoch: 24 [0/28620 (0%)]\tLoss: 14716.771484\n",
      "Train Epoch: 24 [6400/28620 (22%)]\tLoss: 14144.501953\n",
      "Train Epoch: 24 [12800/28620 (45%)]\tLoss: 14133.526367\n",
      "Train Epoch: 24 [19200/28620 (67%)]\tLoss: 13453.032227\n",
      "Train Epoch: 24 [25600/28620 (89%)]\tLoss: 14012.590820\n",
      "Train Epoch: 25 [0/28620 (0%)]\tLoss: 14331.662109\n",
      "Train Epoch: 25 [6400/28620 (22%)]\tLoss: 14405.507812\n",
      "Train Epoch: 25 [12800/28620 (45%)]\tLoss: 13812.193359\n",
      "Train Epoch: 25 [19200/28620 (67%)]\tLoss: 14495.578125\n",
      "Train Epoch: 25 [25600/28620 (89%)]\tLoss: 13887.292969\n",
      "Train Epoch: 26 [0/28620 (0%)]\tLoss: 13421.813477\n",
      "Train Epoch: 26 [6400/28620 (22%)]\tLoss: 14302.117188\n",
      "Train Epoch: 26 [12800/28620 (45%)]\tLoss: 13294.368164\n",
      "Train Epoch: 26 [19200/28620 (67%)]\tLoss: 14833.397461\n",
      "Train Epoch: 26 [25600/28620 (89%)]\tLoss: 14497.865234\n",
      "Train Epoch: 27 [0/28620 (0%)]\tLoss: 14646.878906\n",
      "Train Epoch: 27 [6400/28620 (22%)]\tLoss: 14395.052734\n",
      "Train Epoch: 27 [12800/28620 (45%)]\tLoss: 14882.040039\n",
      "Train Epoch: 27 [19200/28620 (67%)]\tLoss: 13864.011719\n",
      "Train Epoch: 27 [25600/28620 (89%)]\tLoss: 14104.638672\n",
      "Train Epoch: 28 [0/28620 (0%)]\tLoss: 14362.446289\n",
      "Train Epoch: 28 [6400/28620 (22%)]\tLoss: 14896.194336\n",
      "Train Epoch: 28 [12800/28620 (45%)]\tLoss: 13921.079102\n",
      "Train Epoch: 28 [19200/28620 (67%)]\tLoss: 14701.244141\n",
      "Train Epoch: 28 [25600/28620 (89%)]\tLoss: 13659.681641\n",
      "Train Epoch: 29 [0/28620 (0%)]\tLoss: 14821.887695\n",
      "Train Epoch: 29 [6400/28620 (22%)]\tLoss: 14828.626953\n",
      "Train Epoch: 29 [12800/28620 (45%)]\tLoss: 14449.049805\n",
      "Train Epoch: 29 [19200/28620 (67%)]\tLoss: 14545.800781\n",
      "Train Epoch: 29 [25600/28620 (89%)]\tLoss: 14935.098633\n",
      "Train Epoch: 30 [0/28620 (0%)]\tLoss: 14324.368164\n",
      "Train Epoch: 30 [6400/28620 (22%)]\tLoss: 13002.494141\n",
      "Train Epoch: 30 [12800/28620 (45%)]\tLoss: 14874.357422\n",
      "Train Epoch: 30 [19200/28620 (67%)]\tLoss: 14686.818359\n",
      "Train Epoch: 30 [25600/28620 (89%)]\tLoss: 14118.212891\n",
      "Train Epoch: 31 [0/28620 (0%)]\tLoss: 14016.070312\n",
      "Train Epoch: 31 [6400/28620 (22%)]\tLoss: 14259.905273\n",
      "Train Epoch: 31 [12800/28620 (45%)]\tLoss: 14369.682617\n",
      "Train Epoch: 31 [19200/28620 (67%)]\tLoss: 14646.585938\n",
      "Train Epoch: 31 [25600/28620 (89%)]\tLoss: 13779.992188\n",
      "Train Epoch: 32 [0/28620 (0%)]\tLoss: 14613.972656\n",
      "Train Epoch: 32 [6400/28620 (22%)]\tLoss: 13815.328125\n",
      "Train Epoch: 32 [12800/28620 (45%)]\tLoss: 14051.570312\n",
      "Train Epoch: 32 [19200/28620 (67%)]\tLoss: 15339.215820\n",
      "Train Epoch: 32 [25600/28620 (89%)]\tLoss: 14672.261719\n",
      "Train Epoch: 33 [0/28620 (0%)]\tLoss: 14191.652344\n",
      "Train Epoch: 33 [6400/28620 (22%)]\tLoss: 15110.512695\n",
      "Train Epoch: 33 [12800/28620 (45%)]\tLoss: 13755.664062\n",
      "Train Epoch: 33 [19200/28620 (67%)]\tLoss: 13925.048828\n",
      "Train Epoch: 33 [25600/28620 (89%)]\tLoss: 13923.384766\n",
      "Train Epoch: 34 [0/28620 (0%)]\tLoss: 14303.545898\n",
      "Train Epoch: 34 [6400/28620 (22%)]\tLoss: 14831.611328\n",
      "Train Epoch: 34 [12800/28620 (45%)]\tLoss: 14169.869141\n",
      "Train Epoch: 34 [19200/28620 (67%)]\tLoss: 14442.115234\n",
      "Train Epoch: 34 [25600/28620 (89%)]\tLoss: 14197.201172\n",
      "Train Epoch: 35 [0/28620 (0%)]\tLoss: 13814.582031\n",
      "Train Epoch: 35 [6400/28620 (22%)]\tLoss: 14243.010742\n",
      "Train Epoch: 35 [12800/28620 (45%)]\tLoss: 14285.139648\n",
      "Train Epoch: 35 [19200/28620 (67%)]\tLoss: 14003.840820\n",
      "Train Epoch: 35 [25600/28620 (89%)]\tLoss: 14606.510742\n",
      "Train Epoch: 36 [0/28620 (0%)]\tLoss: 13368.036133\n",
      "Train Epoch: 36 [6400/28620 (22%)]\tLoss: 14321.773438\n",
      "Train Epoch: 36 [12800/28620 (45%)]\tLoss: 13784.758789\n",
      "Train Epoch: 36 [19200/28620 (67%)]\tLoss: 13762.259766\n",
      "Train Epoch: 36 [25600/28620 (89%)]\tLoss: 14089.184570\n",
      "Train Epoch: 37 [0/28620 (0%)]\tLoss: 14516.905273\n",
      "Train Epoch: 37 [6400/28620 (22%)]\tLoss: 14486.695312\n",
      "Train Epoch: 37 [12800/28620 (45%)]\tLoss: 13671.792969\n",
      "Train Epoch: 37 [19200/28620 (67%)]\tLoss: 13578.809570\n",
      "Train Epoch: 37 [25600/28620 (89%)]\tLoss: 14409.763672\n",
      "Train Epoch: 38 [0/28620 (0%)]\tLoss: 14062.425781\n",
      "Train Epoch: 38 [6400/28620 (22%)]\tLoss: 14067.743164\n",
      "Train Epoch: 38 [12800/28620 (45%)]\tLoss: 14662.000000\n",
      "Train Epoch: 38 [19200/28620 (67%)]\tLoss: 14185.833008\n",
      "Train Epoch: 38 [25600/28620 (89%)]\tLoss: 13633.585938\n",
      "Train Epoch: 39 [0/28620 (0%)]\tLoss: 14616.457031\n",
      "Train Epoch: 39 [6400/28620 (22%)]\tLoss: 13563.117188\n",
      "Train Epoch: 39 [12800/28620 (45%)]\tLoss: 14555.390625\n",
      "Train Epoch: 39 [19200/28620 (67%)]\tLoss: 13957.484375\n",
      "Train Epoch: 39 [25600/28620 (89%)]\tLoss: 13306.048828\n",
      "Train Epoch: 40 [0/28620 (0%)]\tLoss: 13438.607422\n",
      "Train Epoch: 40 [6400/28620 (22%)]\tLoss: 14560.256836\n",
      "Train Epoch: 40 [12800/28620 (45%)]\tLoss: 13897.210938\n",
      "Train Epoch: 40 [19200/28620 (67%)]\tLoss: 14408.308594\n",
      "Train Epoch: 40 [25600/28620 (89%)]\tLoss: 13278.681641\n",
      "Train Epoch: 41 [0/28620 (0%)]\tLoss: 14721.461914\n",
      "Train Epoch: 41 [6400/28620 (22%)]\tLoss: 13943.922852\n",
      "Train Epoch: 41 [12800/28620 (45%)]\tLoss: 15264.544922\n",
      "Train Epoch: 41 [19200/28620 (67%)]\tLoss: 13960.177734\n",
      "Train Epoch: 41 [25600/28620 (89%)]\tLoss: 13705.069336\n",
      "Train Epoch: 42 [0/28620 (0%)]\tLoss: 14156.486328\n",
      "Train Epoch: 42 [6400/28620 (22%)]\tLoss: 14449.704102\n",
      "Train Epoch: 42 [12800/28620 (45%)]\tLoss: 14247.751953\n",
      "Train Epoch: 42 [19200/28620 (67%)]\tLoss: 13571.607422\n",
      "Train Epoch: 42 [25600/28620 (89%)]\tLoss: 14417.433594\n",
      "Train Epoch: 43 [0/28620 (0%)]\tLoss: 14415.636719\n",
      "Train Epoch: 43 [6400/28620 (22%)]\tLoss: 14540.419922\n",
      "Train Epoch: 43 [12800/28620 (45%)]\tLoss: 13515.470703\n",
      "Train Epoch: 43 [19200/28620 (67%)]\tLoss: 14923.222656\n",
      "Train Epoch: 43 [25600/28620 (89%)]\tLoss: 13728.416016\n",
      "Train Epoch: 44 [0/28620 (0%)]\tLoss: 14268.476562\n",
      "Train Epoch: 44 [6400/28620 (22%)]\tLoss: 14032.264648\n",
      "Train Epoch: 44 [12800/28620 (45%)]\tLoss: 14018.967773\n",
      "Train Epoch: 44 [19200/28620 (67%)]\tLoss: 13741.982422\n",
      "Train Epoch: 44 [25600/28620 (89%)]\tLoss: 14483.620117\n",
      "Train Epoch: 45 [0/28620 (0%)]\tLoss: 14653.446289\n",
      "Train Epoch: 45 [6400/28620 (22%)]\tLoss: 14382.585938\n",
      "Train Epoch: 45 [12800/28620 (45%)]\tLoss: 13773.125000\n",
      "Train Epoch: 45 [19200/28620 (67%)]\tLoss: 14619.108398\n",
      "Train Epoch: 45 [25600/28620 (89%)]\tLoss: 14432.262695\n",
      "Train Epoch: 46 [0/28620 (0%)]\tLoss: 14415.576172\n",
      "Train Epoch: 46 [6400/28620 (22%)]\tLoss: 14218.014648\n",
      "Train Epoch: 46 [12800/28620 (45%)]\tLoss: 14116.645508\n",
      "Train Epoch: 46 [19200/28620 (67%)]\tLoss: 14163.471680\n",
      "Train Epoch: 46 [25600/28620 (89%)]\tLoss: 14560.141602\n",
      "Train Epoch: 47 [0/28620 (0%)]\tLoss: 13462.361328\n",
      "Train Epoch: 47 [6400/28620 (22%)]\tLoss: 13524.268555\n",
      "Train Epoch: 47 [12800/28620 (45%)]\tLoss: 14180.812500\n",
      "Train Epoch: 47 [19200/28620 (67%)]\tLoss: 13799.832031\n",
      "Train Epoch: 47 [25600/28620 (89%)]\tLoss: 14203.228516\n",
      "Train Epoch: 48 [0/28620 (0%)]\tLoss: 13494.899414\n",
      "Train Epoch: 48 [6400/28620 (22%)]\tLoss: 14713.718750\n",
      "Train Epoch: 48 [12800/28620 (45%)]\tLoss: 14785.055664\n",
      "Train Epoch: 48 [19200/28620 (67%)]\tLoss: 14347.376953\n",
      "Train Epoch: 48 [25600/28620 (89%)]\tLoss: 13724.966797\n",
      "Train Epoch: 49 [0/28620 (0%)]\tLoss: 14523.771484\n",
      "Train Epoch: 49 [6400/28620 (22%)]\tLoss: 13911.988281\n",
      "Train Epoch: 49 [12800/28620 (45%)]\tLoss: 14248.518555\n",
      "Train Epoch: 49 [19200/28620 (67%)]\tLoss: 13888.983398\n",
      "Train Epoch: 49 [25600/28620 (89%)]\tLoss: 14496.681641\n",
      "Train Epoch: 50 [0/28620 (0%)]\tLoss: 14299.190430\n",
      "Train Epoch: 50 [6400/28620 (22%)]\tLoss: 14409.146484\n",
      "Train Epoch: 50 [12800/28620 (45%)]\tLoss: 13380.176758\n",
      "Train Epoch: 50 [19200/28620 (67%)]\tLoss: 14122.115234\n",
      "Train Epoch: 50 [25600/28620 (89%)]\tLoss: 14272.469727\n",
      "Train Epoch: 51 [0/28620 (0%)]\tLoss: 13958.689453\n",
      "Train Epoch: 51 [6400/28620 (22%)]\tLoss: 14234.171875\n",
      "Train Epoch: 51 [12800/28620 (45%)]\tLoss: 13782.719727\n",
      "Train Epoch: 51 [19200/28620 (67%)]\tLoss: 14184.758789\n",
      "Train Epoch: 51 [25600/28620 (89%)]\tLoss: 14327.286133\n",
      "Train Epoch: 52 [0/28620 (0%)]\tLoss: 13858.860352\n",
      "Train Epoch: 52 [6400/28620 (22%)]\tLoss: 14287.390625\n",
      "Train Epoch: 52 [12800/28620 (45%)]\tLoss: 13943.711914\n",
      "Train Epoch: 52 [19200/28620 (67%)]\tLoss: 14207.750000\n",
      "Train Epoch: 52 [25600/28620 (89%)]\tLoss: 14266.683594\n",
      "Train Epoch: 53 [0/28620 (0%)]\tLoss: 14172.478516\n",
      "Train Epoch: 53 [6400/28620 (22%)]\tLoss: 13588.541992\n",
      "Train Epoch: 53 [12800/28620 (45%)]\tLoss: 14231.924805\n",
      "Train Epoch: 53 [19200/28620 (67%)]\tLoss: 13426.512695\n",
      "Train Epoch: 53 [25600/28620 (89%)]\tLoss: 14315.545898\n",
      "Train Epoch: 54 [0/28620 (0%)]\tLoss: 13595.716797\n",
      "Train Epoch: 54 [6400/28620 (22%)]\tLoss: 14185.402344\n",
      "Train Epoch: 54 [12800/28620 (45%)]\tLoss: 13792.054688\n",
      "Train Epoch: 54 [19200/28620 (67%)]\tLoss: 13927.162109\n",
      "Train Epoch: 54 [25600/28620 (89%)]\tLoss: 14154.179688\n",
      "Train Epoch: 55 [0/28620 (0%)]\tLoss: 14419.308594\n",
      "Train Epoch: 55 [6400/28620 (22%)]\tLoss: 13844.408203\n",
      "Train Epoch: 55 [12800/28620 (45%)]\tLoss: 14675.047852\n",
      "Train Epoch: 55 [19200/28620 (67%)]\tLoss: 13868.241211\n",
      "Train Epoch: 55 [25600/28620 (89%)]\tLoss: 14072.210938\n",
      "Train Epoch: 56 [0/28620 (0%)]\tLoss: 14354.726562\n",
      "Train Epoch: 56 [6400/28620 (22%)]\tLoss: 13901.322266\n",
      "Train Epoch: 56 [12800/28620 (45%)]\tLoss: 14720.875000\n",
      "Train Epoch: 56 [19200/28620 (67%)]\tLoss: 14304.785156\n",
      "Train Epoch: 56 [25600/28620 (89%)]\tLoss: 13763.571289\n",
      "Train Epoch: 57 [0/28620 (0%)]\tLoss: 13961.916992\n",
      "Train Epoch: 57 [6400/28620 (22%)]\tLoss: 13555.550781\n",
      "Train Epoch: 57 [12800/28620 (45%)]\tLoss: 14712.955078\n",
      "Train Epoch: 57 [19200/28620 (67%)]\tLoss: 13593.809570\n",
      "Train Epoch: 57 [25600/28620 (89%)]\tLoss: 13993.179688\n",
      "Train Epoch: 58 [0/28620 (0%)]\tLoss: 13554.281250\n",
      "Train Epoch: 58 [6400/28620 (22%)]\tLoss: 14211.638672\n",
      "Train Epoch: 58 [12800/28620 (45%)]\tLoss: 14140.027344\n",
      "Train Epoch: 58 [19200/28620 (67%)]\tLoss: 14575.992188\n",
      "Train Epoch: 58 [25600/28620 (89%)]\tLoss: 14274.730469\n",
      "Train Epoch: 59 [0/28620 (0%)]\tLoss: 14153.269531\n",
      "Train Epoch: 59 [6400/28620 (22%)]\tLoss: 14005.139648\n",
      "Train Epoch: 59 [12800/28620 (45%)]\tLoss: 13853.992188\n",
      "Train Epoch: 59 [19200/28620 (67%)]\tLoss: 13332.762695\n",
      "Train Epoch: 59 [25600/28620 (89%)]\tLoss: 13399.142578\n",
      "Train Epoch: 60 [0/28620 (0%)]\tLoss: 13290.836914\n",
      "Train Epoch: 60 [6400/28620 (22%)]\tLoss: 13760.662109\n",
      "Train Epoch: 60 [12800/28620 (45%)]\tLoss: 14256.406250\n",
      "Train Epoch: 60 [19200/28620 (67%)]\tLoss: 13983.456055\n",
      "Train Epoch: 60 [25600/28620 (89%)]\tLoss: 14286.835938\n",
      "Train Epoch: 61 [0/28620 (0%)]\tLoss: 14436.089844\n",
      "Train Epoch: 61 [6400/28620 (22%)]\tLoss: 14086.494141\n",
      "Train Epoch: 61 [12800/28620 (45%)]\tLoss: 13501.951172\n",
      "Train Epoch: 61 [19200/28620 (67%)]\tLoss: 14614.201172\n",
      "Train Epoch: 61 [25600/28620 (89%)]\tLoss: 14043.730469\n",
      "Train Epoch: 62 [0/28620 (0%)]\tLoss: 13816.295898\n",
      "Train Epoch: 62 [6400/28620 (22%)]\tLoss: 14360.736328\n",
      "Train Epoch: 62 [12800/28620 (45%)]\tLoss: 14046.765625\n",
      "Train Epoch: 62 [19200/28620 (67%)]\tLoss: 14675.864258\n",
      "Train Epoch: 62 [25600/28620 (89%)]\tLoss: 13940.458008\n",
      "Train Epoch: 63 [0/28620 (0%)]\tLoss: 14759.739258\n",
      "Train Epoch: 63 [6400/28620 (22%)]\tLoss: 14570.951172\n",
      "Train Epoch: 63 [12800/28620 (45%)]\tLoss: 14375.915039\n",
      "Train Epoch: 63 [19200/28620 (67%)]\tLoss: 13670.432617\n",
      "Train Epoch: 63 [25600/28620 (89%)]\tLoss: 14525.957031\n",
      "Train Epoch: 64 [0/28620 (0%)]\tLoss: 14777.953125\n",
      "Train Epoch: 64 [6400/28620 (22%)]\tLoss: 14729.595703\n",
      "Train Epoch: 64 [12800/28620 (45%)]\tLoss: 13945.757812\n",
      "Train Epoch: 64 [19200/28620 (67%)]\tLoss: 14506.501953\n",
      "Train Epoch: 64 [25600/28620 (89%)]\tLoss: 14651.758789\n",
      "Train Epoch: 65 [0/28620 (0%)]\tLoss: 14336.951172\n",
      "Train Epoch: 65 [6400/28620 (22%)]\tLoss: 13648.554688\n",
      "Train Epoch: 65 [12800/28620 (45%)]\tLoss: 14081.953125\n",
      "Train Epoch: 65 [19200/28620 (67%)]\tLoss: 14080.697266\n",
      "Train Epoch: 65 [25600/28620 (89%)]\tLoss: 14429.839844\n",
      "Train Epoch: 66 [0/28620 (0%)]\tLoss: 14136.410156\n",
      "Train Epoch: 66 [6400/28620 (22%)]\tLoss: 14117.534180\n",
      "Train Epoch: 66 [12800/28620 (45%)]\tLoss: 13335.583008\n",
      "Train Epoch: 66 [19200/28620 (67%)]\tLoss: 13846.386719\n",
      "Train Epoch: 66 [25600/28620 (89%)]\tLoss: 14203.265625\n",
      "Train Epoch: 67 [0/28620 (0%)]\tLoss: 14247.767578\n",
      "Train Epoch: 67 [6400/28620 (22%)]\tLoss: 13975.820312\n",
      "Train Epoch: 67 [12800/28620 (45%)]\tLoss: 14503.173828\n",
      "Train Epoch: 67 [19200/28620 (67%)]\tLoss: 13917.675781\n",
      "Train Epoch: 67 [25600/28620 (89%)]\tLoss: 14102.392578\n",
      "Train Epoch: 68 [0/28620 (0%)]\tLoss: 14805.392578\n",
      "Train Epoch: 68 [6400/28620 (22%)]\tLoss: 13311.822266\n",
      "Train Epoch: 68 [12800/28620 (45%)]\tLoss: 14203.420898\n",
      "Train Epoch: 68 [19200/28620 (67%)]\tLoss: 13784.192383\n",
      "Train Epoch: 68 [25600/28620 (89%)]\tLoss: 14168.736328\n",
      "Train Epoch: 69 [0/28620 (0%)]\tLoss: 13825.365234\n",
      "Train Epoch: 69 [6400/28620 (22%)]\tLoss: 13997.835938\n",
      "Train Epoch: 69 [12800/28620 (45%)]\tLoss: 13758.753906\n",
      "Train Epoch: 69 [19200/28620 (67%)]\tLoss: 14093.089844\n",
      "Train Epoch: 69 [25600/28620 (89%)]\tLoss: 14566.327148\n",
      "Train Epoch: 70 [0/28620 (0%)]\tLoss: 13601.195312\n",
      "Train Epoch: 70 [6400/28620 (22%)]\tLoss: 13858.435547\n",
      "Train Epoch: 70 [12800/28620 (45%)]\tLoss: 14011.669922\n",
      "Train Epoch: 70 [19200/28620 (67%)]\tLoss: 14111.460938\n",
      "Train Epoch: 70 [25600/28620 (89%)]\tLoss: 13704.652344\n",
      "Serializing model\n",
      "Model serialized as models/PixelCNN_averaged_stylePixelCNN_averaged_style_inputs_4GatedPixelCNN_2020-07-23_08:15:25.pkl\n"
     ]
    }
   ],
   "source": [
    "for i in style_sizes:\n",
    "    print(f\"Starting size {i} training\")\n",
    "    trainers[i].train(optims[i], style_optims[i], num_epochs)\n",
    "    print(\"Serializing model\")\n",
    "    trainers[i].serialize(optims[i], style_optims[i])\n",
    "    "
   ]
  },
  {
   "cell_type": "code",
   "execution_count": 32,
   "metadata": {},
   "outputs": [],
   "source": [
    "optims = {\n",
    "    i: optim.Adam(models[i].parameters(), lr=1e-4)\n",
    "    for i in style_sizes\n",
    "}"
   ]
  },
  {
   "cell_type": "code",
   "execution_count": 33,
   "metadata": {},
   "outputs": [],
   "source": [
    "style_optims = {\n",
    "    i: optim.Adam(style_models[i].parameters(), lr=1e-4) \n",
    "    for i in style_models\n",
    "}"
   ]
  },
  {
   "cell_type": "code",
   "execution_count": 114,
   "metadata": {
    "scrolled": true
   },
   "outputs": [
    {
     "name": "stdout",
     "output_type": "stream",
     "text": [
      "Starting size 4 training\n",
      "Train Epoch: 1 [0/28620 (0%)]\tLoss: 14260.718750\n",
      "Train Epoch: 1 [6400/28620 (22%)]\tLoss: 13942.601562\n",
      "Train Epoch: 1 [12800/28620 (45%)]\tLoss: 14748.680664\n",
      "Train Epoch: 1 [19200/28620 (67%)]\tLoss: 14364.296875\n",
      "Train Epoch: 1 [25600/28620 (89%)]\tLoss: 14587.507812\n",
      "Train Epoch: 2 [0/28620 (0%)]\tLoss: 14692.357422\n",
      "Train Epoch: 2 [6400/28620 (22%)]\tLoss: 13980.561523\n",
      "Train Epoch: 2 [12800/28620 (45%)]\tLoss: 14499.944336\n",
      "Train Epoch: 2 [19200/28620 (67%)]\tLoss: 14482.299805\n",
      "Train Epoch: 2 [25600/28620 (89%)]\tLoss: 14461.410156\n",
      "Train Epoch: 3 [0/28620 (0%)]\tLoss: 14285.414062\n",
      "Train Epoch: 3 [6400/28620 (22%)]\tLoss: 13752.421875\n",
      "Train Epoch: 3 [12800/28620 (45%)]\tLoss: 14067.812500\n",
      "Train Epoch: 3 [19200/28620 (67%)]\tLoss: 14791.127930\n",
      "Train Epoch: 3 [25600/28620 (89%)]\tLoss: 15405.828125\n",
      "Train Epoch: 4 [0/28620 (0%)]\tLoss: 14417.986328\n",
      "Train Epoch: 4 [6400/28620 (22%)]\tLoss: 14384.968750\n",
      "Train Epoch: 4 [12800/28620 (45%)]\tLoss: 13813.264648\n",
      "Train Epoch: 4 [19200/28620 (67%)]\tLoss: 14866.164062\n",
      "Train Epoch: 4 [25600/28620 (89%)]\tLoss: 14812.522461\n",
      "Train Epoch: 5 [0/28620 (0%)]\tLoss: 14127.287109\n",
      "Train Epoch: 5 [6400/28620 (22%)]\tLoss: 13918.222656\n",
      "Train Epoch: 5 [12800/28620 (45%)]\tLoss: 14663.353516\n",
      "Train Epoch: 5 [19200/28620 (67%)]\tLoss: 14129.169922\n",
      "Train Epoch: 5 [25600/28620 (89%)]\tLoss: 14428.976562\n",
      "Train Epoch: 6 [0/28620 (0%)]\tLoss: 13941.098633\n",
      "Train Epoch: 6 [6400/28620 (22%)]\tLoss: 14631.833984\n",
      "Train Epoch: 6 [12800/28620 (45%)]\tLoss: 14511.170898\n",
      "Train Epoch: 6 [19200/28620 (67%)]\tLoss: 14094.075195\n",
      "Train Epoch: 6 [25600/28620 (89%)]\tLoss: 14503.489258\n",
      "Train Epoch: 7 [0/28620 (0%)]\tLoss: 14747.633789\n",
      "Train Epoch: 7 [6400/28620 (22%)]\tLoss: 13704.539062\n",
      "Train Epoch: 7 [12800/28620 (45%)]\tLoss: 15229.322266\n",
      "Train Epoch: 9 [25600/28620 (89%)]\tLoss: 14675.190430\n",
      "Train Epoch: 10 [0/28620 (0%)]\tLoss: 14569.866211\n",
      "Train Epoch: 10 [6400/28620 (22%)]\tLoss: 14223.191406\n",
      "Train Epoch: 10 [12800/28620 (45%)]\tLoss: 13937.167969\n",
      "Train Epoch: 10 [19200/28620 (67%)]\tLoss: 14403.835938\n",
      "Train Epoch: 10 [25600/28620 (89%)]\tLoss: 13875.238281\n",
      "Train Epoch: 11 [0/28620 (0%)]\tLoss: 13662.673828\n",
      "Train Epoch: 11 [6400/28620 (22%)]\tLoss: 14044.318359\n",
      "Train Epoch: 11 [12800/28620 (45%)]\tLoss: 14262.208984\n",
      "Train Epoch: 11 [19200/28620 (67%)]\tLoss: 14683.531250\n",
      "Train Epoch: 11 [25600/28620 (89%)]\tLoss: 14706.089844\n",
      "Train Epoch: 12 [0/28620 (0%)]\tLoss: 13529.012695\n",
      "Train Epoch: 12 [6400/28620 (22%)]\tLoss: 15462.451172\n",
      "Train Epoch: 12 [12800/28620 (45%)]\tLoss: 13704.931641\n",
      "Train Epoch: 12 [19200/28620 (67%)]\tLoss: 13786.060547\n",
      "Train Epoch: 12 [25600/28620 (89%)]\tLoss: 14474.875000\n",
      "Train Epoch: 13 [0/28620 (0%)]\tLoss: 14480.974609\n",
      "Train Epoch: 13 [6400/28620 (22%)]\tLoss: 14292.916992\n",
      "Train Epoch: 13 [12800/28620 (45%)]\tLoss: 14933.368164\n",
      "Train Epoch: 13 [19200/28620 (67%)]\tLoss: 14188.049805\n",
      "Train Epoch: 13 [25600/28620 (89%)]\tLoss: 14206.528320\n",
      "Train Epoch: 14 [0/28620 (0%)]\tLoss: 15088.097656\n",
      "Train Epoch: 14 [6400/28620 (22%)]\tLoss: 13732.615234\n",
      "Train Epoch: 14 [12800/28620 (45%)]\tLoss: 13960.111328\n",
      "Train Epoch: 14 [19200/28620 (67%)]\tLoss: 14540.289062\n",
      "Train Epoch: 14 [25600/28620 (89%)]\tLoss: 14240.040039\n",
      "Train Epoch: 15 [0/28620 (0%)]\tLoss: 14194.861328\n",
      "Train Epoch: 15 [6400/28620 (22%)]\tLoss: 13937.491211\n",
      "Train Epoch: 15 [12800/28620 (45%)]\tLoss: 13893.431641\n",
      "Train Epoch: 15 [19200/28620 (67%)]\tLoss: 14655.681641\n",
      "Train Epoch: 15 [25600/28620 (89%)]\tLoss: 14525.822266\n",
      "Train Epoch: 16 [0/28620 (0%)]\tLoss: 14919.119141\n",
      "Train Epoch: 16 [6400/28620 (22%)]\tLoss: 13866.970703\n",
      "Train Epoch: 16 [12800/28620 (45%)]\tLoss: 15183.478516\n",
      "Train Epoch: 16 [19200/28620 (67%)]\tLoss: 13683.087891\n",
      "Train Epoch: 16 [25600/28620 (89%)]\tLoss: 14471.104492\n",
      "Train Epoch: 17 [0/28620 (0%)]\tLoss: 14379.750000\n",
      "Train Epoch: 17 [6400/28620 (22%)]\tLoss: 14514.070312\n",
      "Train Epoch: 17 [12800/28620 (45%)]\tLoss: 13619.757812\n",
      "Train Epoch: 17 [19200/28620 (67%)]\tLoss: 13901.136719\n",
      "Train Epoch: 17 [25600/28620 (89%)]\tLoss: 13702.081055\n",
      "Train Epoch: 18 [0/28620 (0%)]\tLoss: 14216.328125\n",
      "Train Epoch: 18 [6400/28620 (22%)]\tLoss: 13382.427734\n",
      "Train Epoch: 18 [12800/28620 (45%)]\tLoss: 14123.564453\n",
      "Train Epoch: 18 [19200/28620 (67%)]\tLoss: 14275.609375\n",
      "Train Epoch: 18 [25600/28620 (89%)]\tLoss: 14929.569336\n",
      "Train Epoch: 19 [0/28620 (0%)]\tLoss: 14182.987305\n",
      "Train Epoch: 19 [6400/28620 (22%)]\tLoss: 14054.449219\n",
      "Train Epoch: 19 [12800/28620 (45%)]\tLoss: 14126.807617\n",
      "Train Epoch: 19 [19200/28620 (67%)]\tLoss: 13933.238281\n",
      "Train Epoch: 19 [25600/28620 (89%)]\tLoss: 14710.633789\n",
      "Train Epoch: 20 [0/28620 (0%)]\tLoss: 14312.716797\n",
      "Train Epoch: 20 [6400/28620 (22%)]\tLoss: 14612.117188\n",
      "Train Epoch: 20 [12800/28620 (45%)]\tLoss: 13508.850586\n",
      "Train Epoch: 20 [19200/28620 (67%)]\tLoss: 13896.562500\n",
      "Train Epoch: 20 [25600/28620 (89%)]\tLoss: 14592.654297\n",
      "Train Epoch: 21 [0/28620 (0%)]\tLoss: 14944.120117\n",
      "Train Epoch: 21 [6400/28620 (22%)]\tLoss: 14797.976562\n",
      "Train Epoch: 21 [12800/28620 (45%)]\tLoss: 14064.839844\n",
      "Train Epoch: 21 [19200/28620 (67%)]\tLoss: 14645.627930\n",
      "Train Epoch: 21 [25600/28620 (89%)]\tLoss: 13929.767578\n",
      "Train Epoch: 22 [0/28620 (0%)]\tLoss: 14317.207031\n",
      "Train Epoch: 22 [6400/28620 (22%)]\tLoss: 14715.909180\n",
      "Train Epoch: 22 [12800/28620 (45%)]\tLoss: 14868.000977\n",
      "Train Epoch: 22 [19200/28620 (67%)]\tLoss: 14763.392578\n",
      "Train Epoch: 22 [25600/28620 (89%)]\tLoss: 15110.638672\n",
      "Train Epoch: 23 [0/28620 (0%)]\tLoss: 14625.464844\n",
      "Train Epoch: 23 [6400/28620 (22%)]\tLoss: 13358.440430\n",
      "Train Epoch: 23 [12800/28620 (45%)]\tLoss: 13766.331055\n",
      "Train Epoch: 23 [19200/28620 (67%)]\tLoss: 13986.259766\n",
      "Train Epoch: 23 [25600/28620 (89%)]\tLoss: 14739.738281\n",
      "Train Epoch: 24 [0/28620 (0%)]\tLoss: 14921.263672\n",
      "Train Epoch: 24 [6400/28620 (22%)]\tLoss: 14175.450195\n",
      "Train Epoch: 24 [12800/28620 (45%)]\tLoss: 14646.079102\n",
      "Train Epoch: 24 [19200/28620 (67%)]\tLoss: 14581.535156\n",
      "Train Epoch: 24 [25600/28620 (89%)]\tLoss: 14269.218750\n",
      "Train Epoch: 25 [0/28620 (0%)]\tLoss: 14727.614258\n",
      "Train Epoch: 25 [6400/28620 (22%)]\tLoss: 13770.440430\n",
      "Train Epoch: 25 [12800/28620 (45%)]\tLoss: 14939.352539\n",
      "Train Epoch: 25 [19200/28620 (67%)]\tLoss: 14409.987305\n",
      "Train Epoch: 25 [25600/28620 (89%)]\tLoss: 13829.460938\n",
      "Train Epoch: 26 [0/28620 (0%)]\tLoss: 15322.349609\n",
      "Train Epoch: 26 [6400/28620 (22%)]\tLoss: 13923.975586\n",
      "Train Epoch: 26 [12800/28620 (45%)]\tLoss: 14450.219727\n",
      "Train Epoch: 26 [19200/28620 (67%)]\tLoss: 15162.556641\n",
      "Train Epoch: 26 [25600/28620 (89%)]\tLoss: 14870.143555\n",
      "Train Epoch: 27 [0/28620 (0%)]\tLoss: 14933.666016\n",
      "Train Epoch: 27 [6400/28620 (22%)]\tLoss: 14440.575195\n",
      "Train Epoch: 27 [12800/28620 (45%)]\tLoss: 14953.135742\n",
      "Train Epoch: 27 [19200/28620 (67%)]\tLoss: 14210.671875\n",
      "Train Epoch: 27 [25600/28620 (89%)]\tLoss: 14470.731445\n",
      "Train Epoch: 28 [0/28620 (0%)]\tLoss: 13693.001953\n",
      "Train Epoch: 28 [6400/28620 (22%)]\tLoss: 13467.388672\n",
      "Train Epoch: 28 [12800/28620 (45%)]\tLoss: 14516.185547\n",
      "Train Epoch: 28 [19200/28620 (67%)]\tLoss: 13904.394531\n",
      "Train Epoch: 28 [25600/28620 (89%)]\tLoss: 14498.550781\n",
      "Train Epoch: 29 [0/28620 (0%)]\tLoss: 15015.248047\n",
      "Train Epoch: 29 [6400/28620 (22%)]\tLoss: 14688.848633\n",
      "Train Epoch: 29 [12800/28620 (45%)]\tLoss: 13748.814453\n",
      "Train Epoch: 29 [19200/28620 (67%)]\tLoss: 13989.589844\n",
      "Train Epoch: 29 [25600/28620 (89%)]\tLoss: 14976.535156\n",
      "Train Epoch: 30 [0/28620 (0%)]\tLoss: 14215.525391\n",
      "Train Epoch: 30 [6400/28620 (22%)]\tLoss: 14412.220703\n",
      "Train Epoch: 30 [12800/28620 (45%)]\tLoss: 15515.421875\n",
      "Train Epoch: 30 [19200/28620 (67%)]\tLoss: 14373.641602\n",
      "Train Epoch: 30 [25600/28620 (89%)]\tLoss: 13460.633789\n",
      "Train Epoch: 31 [0/28620 (0%)]\tLoss: 14296.806641\n",
      "Train Epoch: 31 [6400/28620 (22%)]\tLoss: 14023.136719\n",
      "Train Epoch: 31 [12800/28620 (45%)]\tLoss: 14387.609375\n",
      "Train Epoch: 31 [19200/28620 (67%)]\tLoss: 13852.050781\n",
      "Train Epoch: 31 [25600/28620 (89%)]\tLoss: 14325.127930\n",
      "Train Epoch: 32 [0/28620 (0%)]\tLoss: 14412.804688\n",
      "Train Epoch: 32 [6400/28620 (22%)]\tLoss: 14040.159180\n",
      "Train Epoch: 32 [12800/28620 (45%)]\tLoss: 14775.160156\n",
      "Train Epoch: 32 [19200/28620 (67%)]\tLoss: 13534.002930\n",
      "Train Epoch: 32 [25600/28620 (89%)]\tLoss: 13847.931641\n",
      "Train Epoch: 33 [0/28620 (0%)]\tLoss: 13762.045898\n",
      "Train Epoch: 33 [6400/28620 (22%)]\tLoss: 13422.960938\n",
      "Train Epoch: 33 [12800/28620 (45%)]\tLoss: 14649.710938\n",
      "Train Epoch: 33 [19200/28620 (67%)]\tLoss: 14318.363281\n",
      "Train Epoch: 33 [25600/28620 (89%)]\tLoss: 14927.448242\n",
      "Train Epoch: 34 [0/28620 (0%)]\tLoss: 13665.792969\n",
      "Train Epoch: 34 [6400/28620 (22%)]\tLoss: 14332.962891\n",
      "Train Epoch: 34 [12800/28620 (45%)]\tLoss: 14033.375977\n",
      "Train Epoch: 34 [19200/28620 (67%)]\tLoss: 15014.416016\n",
      "Train Epoch: 34 [25600/28620 (89%)]\tLoss: 14906.154297\n",
      "Train Epoch: 35 [0/28620 (0%)]\tLoss: 14584.703125\n",
      "Train Epoch: 35 [6400/28620 (22%)]\tLoss: 13988.747070\n",
      "Train Epoch: 35 [12800/28620 (45%)]\tLoss: 14770.056641\n",
      "Train Epoch: 35 [19200/28620 (67%)]\tLoss: 14353.552734\n",
      "Train Epoch: 35 [25600/28620 (89%)]\tLoss: 14247.352539\n",
      "Train Epoch: 36 [0/28620 (0%)]\tLoss: 14097.093750\n",
      "Train Epoch: 36 [6400/28620 (22%)]\tLoss: 14774.613281\n",
      "Train Epoch: 36 [12800/28620 (45%)]\tLoss: 14344.709961\n",
      "Train Epoch: 36 [19200/28620 (67%)]\tLoss: 13462.984375\n",
      "Train Epoch: 36 [25600/28620 (89%)]\tLoss: 13855.944336\n",
      "Train Epoch: 37 [0/28620 (0%)]\tLoss: 14002.630859\n",
      "Train Epoch: 37 [6400/28620 (22%)]\tLoss: 13992.377930\n",
      "Train Epoch: 37 [12800/28620 (45%)]\tLoss: 15094.266602\n",
      "Train Epoch: 37 [19200/28620 (67%)]\tLoss: 13407.656250\n",
      "Train Epoch: 37 [25600/28620 (89%)]\tLoss: 14162.334961\n",
      "Train Epoch: 38 [0/28620 (0%)]\tLoss: 14389.642578\n",
      "Train Epoch: 38 [6400/28620 (22%)]\tLoss: 13941.854492\n",
      "Train Epoch: 38 [12800/28620 (45%)]\tLoss: 14028.382812\n",
      "Train Epoch: 38 [19200/28620 (67%)]\tLoss: 14178.947266\n",
      "Train Epoch: 38 [25600/28620 (89%)]\tLoss: 13875.773438\n",
      "Train Epoch: 39 [0/28620 (0%)]\tLoss: 13785.476562\n",
      "Train Epoch: 39 [6400/28620 (22%)]\tLoss: 14377.908203\n",
      "Train Epoch: 39 [12800/28620 (45%)]\tLoss: 14249.343750\n",
      "Train Epoch: 39 [19200/28620 (67%)]\tLoss: 13899.901367\n",
      "Train Epoch: 39 [25600/28620 (89%)]\tLoss: 14813.855469\n",
      "Train Epoch: 40 [0/28620 (0%)]\tLoss: 14720.639648\n",
      "Train Epoch: 40 [6400/28620 (22%)]\tLoss: 14789.853516\n",
      "Train Epoch: 40 [12800/28620 (45%)]\tLoss: 14422.928711\n",
      "Train Epoch: 40 [19200/28620 (67%)]\tLoss: 14836.515625\n",
      "Train Epoch: 40 [25600/28620 (89%)]\tLoss: 14859.908203\n",
      "Train Epoch: 41 [0/28620 (0%)]\tLoss: 13941.701172\n",
      "Train Epoch: 41 [6400/28620 (22%)]\tLoss: 14702.455078\n",
      "Train Epoch: 41 [12800/28620 (45%)]\tLoss: 14717.281250\n",
      "Train Epoch: 41 [19200/28620 (67%)]\tLoss: 14517.586914\n",
      "Train Epoch: 41 [25600/28620 (89%)]\tLoss: 13728.318359\n",
      "Train Epoch: 42 [0/28620 (0%)]\tLoss: 14964.341797\n",
      "Train Epoch: 42 [6400/28620 (22%)]\tLoss: 14248.093750\n",
      "Train Epoch: 42 [12800/28620 (45%)]\tLoss: 13930.552734\n",
      "Train Epoch: 42 [19200/28620 (67%)]\tLoss: 14033.554688\n",
      "Train Epoch: 42 [25600/28620 (89%)]\tLoss: 14972.797852\n",
      "Train Epoch: 43 [0/28620 (0%)]\tLoss: 14102.431641\n",
      "Train Epoch: 43 [6400/28620 (22%)]\tLoss: 14182.464844\n",
      "Train Epoch: 43 [12800/28620 (45%)]\tLoss: 14860.556641\n",
      "Train Epoch: 43 [19200/28620 (67%)]\tLoss: 14671.833984\n",
      "Train Epoch: 43 [25600/28620 (89%)]\tLoss: 14713.732422\n",
      "Train Epoch: 44 [0/28620 (0%)]\tLoss: 14458.853516\n",
      "Train Epoch: 44 [6400/28620 (22%)]\tLoss: 13972.784180\n",
      "Train Epoch: 44 [12800/28620 (45%)]\tLoss: 14846.855469\n",
      "Train Epoch: 44 [19200/28620 (67%)]\tLoss: 14115.081055\n",
      "Train Epoch: 44 [25600/28620 (89%)]\tLoss: 15018.743164\n",
      "Train Epoch: 45 [0/28620 (0%)]\tLoss: 14511.872070\n",
      "Train Epoch: 45 [6400/28620 (22%)]\tLoss: 14136.298828\n",
      "Train Epoch: 45 [12800/28620 (45%)]\tLoss: 14114.290039\n",
      "Train Epoch: 45 [19200/28620 (67%)]\tLoss: 13286.156250\n",
      "Train Epoch: 45 [25600/28620 (89%)]\tLoss: 13685.607422\n",
      "Train Epoch: 46 [0/28620 (0%)]\tLoss: 14040.222656\n",
      "Train Epoch: 46 [6400/28620 (22%)]\tLoss: 14010.538086\n",
      "Train Epoch: 46 [12800/28620 (45%)]\tLoss: 14768.415039\n",
      "Train Epoch: 46 [19200/28620 (67%)]\tLoss: 14407.468750\n",
      "Train Epoch: 46 [25600/28620 (89%)]\tLoss: 14950.668945\n",
      "Train Epoch: 47 [0/28620 (0%)]\tLoss: 14542.964844\n",
      "Train Epoch: 47 [6400/28620 (22%)]\tLoss: 13876.675781\n",
      "Train Epoch: 47 [12800/28620 (45%)]\tLoss: 14563.298828\n",
      "Train Epoch: 47 [19200/28620 (67%)]\tLoss: 13225.479492\n",
      "Train Epoch: 47 [25600/28620 (89%)]\tLoss: 14946.247070\n",
      "Train Epoch: 48 [0/28620 (0%)]\tLoss: 14454.086914\n",
      "Train Epoch: 48 [6400/28620 (22%)]\tLoss: 14774.530273\n",
      "Train Epoch: 48 [12800/28620 (45%)]\tLoss: 14682.000000\n",
      "Train Epoch: 48 [19200/28620 (67%)]\tLoss: 14548.724609\n",
      "Train Epoch: 48 [25600/28620 (89%)]\tLoss: 14715.439453\n",
      "Train Epoch: 49 [0/28620 (0%)]\tLoss: 14254.990234\n",
      "Train Epoch: 49 [6400/28620 (22%)]\tLoss: 14179.904297\n",
      "Train Epoch: 49 [12800/28620 (45%)]\tLoss: 13680.934570\n",
      "Train Epoch: 49 [19200/28620 (67%)]\tLoss: 14144.178711\n",
      "Train Epoch: 49 [25600/28620 (89%)]\tLoss: 13395.285156\n",
      "Train Epoch: 50 [0/28620 (0%)]\tLoss: 14135.278320\n",
      "Train Epoch: 50 [6400/28620 (22%)]\tLoss: 14028.175781\n",
      "Train Epoch: 50 [12800/28620 (45%)]\tLoss: 14463.508789\n",
      "Train Epoch: 50 [19200/28620 (67%)]\tLoss: 13780.653320\n",
      "Train Epoch: 50 [25600/28620 (89%)]\tLoss: 14362.988281\n",
      "Train Epoch: 51 [0/28620 (0%)]\tLoss: 14516.776367\n",
      "Train Epoch: 51 [6400/28620 (22%)]\tLoss: 14282.902344\n",
      "Train Epoch: 51 [12800/28620 (45%)]\tLoss: 14112.523438\n",
      "Train Epoch: 51 [19200/28620 (67%)]\tLoss: 13781.996094\n",
      "Train Epoch: 51 [25600/28620 (89%)]\tLoss: 14563.357422\n",
      "Train Epoch: 52 [0/28620 (0%)]\tLoss: 14733.128906\n",
      "Train Epoch: 52 [6400/28620 (22%)]\tLoss: 14640.126953\n",
      "Train Epoch: 52 [12800/28620 (45%)]\tLoss: 14166.539062\n",
      "Train Epoch: 52 [19200/28620 (67%)]\tLoss: 14844.797852\n",
      "Train Epoch: 52 [25600/28620 (89%)]\tLoss: 14972.573242\n",
      "Train Epoch: 53 [0/28620 (0%)]\tLoss: 14070.563477\n",
      "Train Epoch: 53 [6400/28620 (22%)]\tLoss: 15014.039062\n",
      "Train Epoch: 53 [12800/28620 (45%)]\tLoss: 14824.221680\n",
      "Train Epoch: 53 [19200/28620 (67%)]\tLoss: 14400.792969\n",
      "Train Epoch: 53 [25600/28620 (89%)]\tLoss: 14416.874023\n",
      "Train Epoch: 54 [0/28620 (0%)]\tLoss: 14956.515625\n",
      "Train Epoch: 54 [6400/28620 (22%)]\tLoss: 14837.994141\n",
      "Train Epoch: 54 [12800/28620 (45%)]\tLoss: 14629.184570\n",
      "Train Epoch: 54 [19200/28620 (67%)]\tLoss: 13935.875000\n",
      "Train Epoch: 54 [25600/28620 (89%)]\tLoss: 14099.650391\n",
      "Train Epoch: 55 [0/28620 (0%)]\tLoss: 14009.177734\n",
      "Train Epoch: 55 [6400/28620 (22%)]\tLoss: 14759.974609\n",
      "Train Epoch: 55 [12800/28620 (45%)]\tLoss: 14952.328125\n",
      "Train Epoch: 55 [19200/28620 (67%)]\tLoss: 14997.375000\n",
      "Train Epoch: 55 [25600/28620 (89%)]\tLoss: 14416.597656\n",
      "Train Epoch: 56 [0/28620 (0%)]\tLoss: 13996.568359\n",
      "Train Epoch: 56 [6400/28620 (22%)]\tLoss: 13701.880859\n",
      "Train Epoch: 56 [12800/28620 (45%)]\tLoss: 14265.569336\n",
      "Train Epoch: 56 [19200/28620 (67%)]\tLoss: 14309.040039\n",
      "Train Epoch: 56 [25600/28620 (89%)]\tLoss: 14927.814453\n",
      "Train Epoch: 57 [0/28620 (0%)]\tLoss: 14330.948242\n",
      "Train Epoch: 57 [6400/28620 (22%)]\tLoss: 14169.058594\n",
      "Train Epoch: 57 [12800/28620 (45%)]\tLoss: 14427.158203\n",
      "Train Epoch: 57 [19200/28620 (67%)]\tLoss: 14325.379883\n",
      "Train Epoch: 57 [25600/28620 (89%)]\tLoss: 14252.886719\n",
      "Train Epoch: 58 [0/28620 (0%)]\tLoss: 14588.782227\n",
      "Train Epoch: 58 [6400/28620 (22%)]\tLoss: 14465.738281\n",
      "Train Epoch: 58 [12800/28620 (45%)]\tLoss: 14049.882812\n",
      "Train Epoch: 58 [19200/28620 (67%)]\tLoss: 14678.512695\n",
      "Train Epoch: 58 [25600/28620 (89%)]\tLoss: 14619.419922\n",
      "Train Epoch: 59 [0/28620 (0%)]\tLoss: 13357.455078\n",
      "Train Epoch: 59 [6400/28620 (22%)]\tLoss: 14696.627930\n",
      "Train Epoch: 59 [12800/28620 (45%)]\tLoss: 13614.611328\n",
      "Train Epoch: 59 [19200/28620 (67%)]\tLoss: 14171.449219\n",
      "Train Epoch: 59 [25600/28620 (89%)]\tLoss: 14107.258789\n",
      "Train Epoch: 60 [0/28620 (0%)]\tLoss: 14322.012695\n",
      "Train Epoch: 60 [6400/28620 (22%)]\tLoss: 14897.746094\n",
      "Train Epoch: 60 [12800/28620 (45%)]\tLoss: 13583.852539\n",
      "Train Epoch: 60 [19200/28620 (67%)]\tLoss: 14829.486328\n",
      "Train Epoch: 60 [25600/28620 (89%)]\tLoss: 14037.832031\n",
      "Train Epoch: 61 [0/28620 (0%)]\tLoss: 13573.113281\n",
      "Train Epoch: 61 [6400/28620 (22%)]\tLoss: 14250.149414\n",
      "Train Epoch: 61 [12800/28620 (45%)]\tLoss: 14362.674805\n",
      "Train Epoch: 61 [19200/28620 (67%)]\tLoss: 13726.091797\n",
      "Train Epoch: 61 [25600/28620 (89%)]\tLoss: 13687.894531\n",
      "Train Epoch: 62 [0/28620 (0%)]\tLoss: 14484.165039\n",
      "Train Epoch: 62 [6400/28620 (22%)]\tLoss: 14083.902344\n",
      "Train Epoch: 62 [12800/28620 (45%)]\tLoss: 14812.253906\n",
      "Train Epoch: 62 [19200/28620 (67%)]\tLoss: 13590.019531\n",
      "Train Epoch: 62 [25600/28620 (89%)]\tLoss: 13780.042969\n",
      "Train Epoch: 63 [0/28620 (0%)]\tLoss: 14643.600586\n",
      "Train Epoch: 63 [6400/28620 (22%)]\tLoss: 15142.092773\n",
      "Train Epoch: 63 [12800/28620 (45%)]\tLoss: 14220.863281\n",
      "Train Epoch: 63 [19200/28620 (67%)]\tLoss: 13972.539062\n",
      "Train Epoch: 63 [25600/28620 (89%)]\tLoss: 14677.618164\n",
      "Train Epoch: 64 [0/28620 (0%)]\tLoss: 14378.566406\n",
      "Train Epoch: 64 [6400/28620 (22%)]\tLoss: 14344.627930\n",
      "Train Epoch: 64 [12800/28620 (45%)]\tLoss: 14596.041016\n",
      "Train Epoch: 64 [19200/28620 (67%)]\tLoss: 13808.723633\n",
      "Train Epoch: 64 [25600/28620 (89%)]\tLoss: 14904.384766\n",
      "Train Epoch: 65 [0/28620 (0%)]\tLoss: 14507.704102\n",
      "Train Epoch: 65 [6400/28620 (22%)]\tLoss: 14367.434570\n",
      "Train Epoch: 65 [12800/28620 (45%)]\tLoss: 14176.666016\n",
      "Train Epoch: 65 [19200/28620 (67%)]\tLoss: 14122.183594\n",
      "Train Epoch: 65 [25600/28620 (89%)]\tLoss: 14840.113281\n",
      "Train Epoch: 66 [0/28620 (0%)]\tLoss: 14450.144531\n",
      "Train Epoch: 66 [6400/28620 (22%)]\tLoss: 14901.550781\n",
      "Train Epoch: 66 [12800/28620 (45%)]\tLoss: 14267.083008\n",
      "Train Epoch: 66 [19200/28620 (67%)]\tLoss: 14004.246094\n",
      "Train Epoch: 66 [25600/28620 (89%)]\tLoss: 14017.548828\n",
      "Train Epoch: 67 [0/28620 (0%)]\tLoss: 13866.685547\n",
      "Train Epoch: 67 [6400/28620 (22%)]\tLoss: 15039.296875\n",
      "Train Epoch: 67 [12800/28620 (45%)]\tLoss: 14083.939453\n",
      "Train Epoch: 67 [19200/28620 (67%)]\tLoss: 14493.341797\n",
      "Train Epoch: 67 [25600/28620 (89%)]\tLoss: 14541.974609\n",
      "Train Epoch: 68 [0/28620 (0%)]\tLoss: 14576.286133\n",
      "Train Epoch: 68 [6400/28620 (22%)]\tLoss: 14170.524414\n",
      "Train Epoch: 68 [12800/28620 (45%)]\tLoss: 14637.463867\n",
      "Train Epoch: 68 [19200/28620 (67%)]\tLoss: 14867.755859\n",
      "Train Epoch: 68 [25600/28620 (89%)]\tLoss: 13612.792969\n",
      "Train Epoch: 69 [0/28620 (0%)]\tLoss: 14046.871094\n",
      "Train Epoch: 69 [6400/28620 (22%)]\tLoss: 14051.208984\n",
      "Train Epoch: 69 [12800/28620 (45%)]\tLoss: 13995.519531\n",
      "Train Epoch: 69 [19200/28620 (67%)]\tLoss: 14495.873047\n",
      "Train Epoch: 69 [25600/28620 (89%)]\tLoss: 14164.745117\n",
      "Train Epoch: 70 [0/28620 (0%)]\tLoss: 13449.300781\n",
      "Train Epoch: 70 [6400/28620 (22%)]\tLoss: 13733.118164\n",
      "Train Epoch: 70 [12800/28620 (45%)]\tLoss: 14897.365234\n",
      "Train Epoch: 70 [19200/28620 (67%)]\tLoss: 13821.199219\n",
      "Train Epoch: 70 [25600/28620 (89%)]\tLoss: 14111.253906\n",
      "Serializing model\n",
      "Model serialized as models/PixelCNN_averaged_stylePixelCNN_averaged_style_inputs_4GatedPixelCNN_2020-07-22_20:55:45.pkl\n"
     ]
    }
   ],
   "source": [
    "for i in style_sizes:\n",
    "    print(f\"Starting size {i} training\")\n",
    "    trainers[i].train(optims[i], style_optims[i], num_epochs)\n",
    "    print(\"Serializing model\")\n",
    "    trainers[i].serialize(optims[i], style_optims[i])\n",
    "    "
   ]
  },
  {
   "cell_type": "code",
   "execution_count": 35,
   "metadata": {},
   "outputs": [],
   "source": [
    "rec_losses = {\n",
    "    i: [r.mean().item() for r in trainers[i].recon_losses]\n",
    "    for i in style_sizes\n",
    "}"
   ]
  },
  {
   "cell_type": "code",
   "execution_count": 57,
   "metadata": {},
   "outputs": [
    {
     "name": "stdout",
     "output_type": "stream",
     "text": [
      "1 0.27070730924606323 210\n",
      "2 0.26505473256111145 210\n",
      "4 0.2647022604942322 210\n",
      "8 0.2640857398509979 210\n",
      "16 0.27070730924606323 210\n",
      "32 0.27097171545028687 210\n"
     ]
    }
   ],
   "source": [
    "for i, r in rec_losses.items():\n",
    "    print(i, r[-1], len(r))"
   ]
  },
  {
   "cell_type": "code",
   "execution_count": 58,
   "metadata": {},
   "outputs": [
    {
     "data": {
      "text/plain": [
       "<matplotlib.legend.Legend at 0x7effb438de50>"
      ]
     },
     "execution_count": 58,
     "metadata": {},
     "output_type": "execute_result"
    },
    {
     "data": {
      "image/png": "[encoded data removed]",
      "text/plain": [
       "<Figure size 1296x720 with 1 Axes>"
      ]
     },
     "metadata": {
      "needs_background": "light"
     },
     "output_type": "display_data"
    }
   ],
   "source": [
    "fig = plt.figure(figsize=(18,10))\n",
    "for s in style_sizes:\n",
    "    plt.plot(np.arange(len(rec_losses[s]) - 10), rec_losses[s][10:], label=f\"Style size = {s}\")\n",
    "plt.legend()"
   ]
  },
  {
   "cell_type": "code",
   "execution_count": 59,
   "metadata": {},
   "outputs": [
    {
     "name": "stdout",
     "output_type": "stream",
     "text": [
      "1 0.27424415946006775\n",
      "2 0.2693398892879486\n",
      "4 0.26865461468696594\n",
      "8 0.2681109607219696\n",
      "16 0.26712703704833984\n",
      "32 0.2670288681983948\n"
     ]
    }
   ],
   "source": [
    "for size in style_sizes:\n",
    "    models[size].eval()\n",
    "    style_models[size].eval()\n",
    "    recs = trainers[size].test_model_reconstruction(2500)\n",
    "    print(size, recs.mean().item())"
   ]
  },
  {
   "cell_type": "code",
   "execution_count": 56,
   "metadata": {},
   "outputs": [],
   "source": [
    "def plot_models_samples(num_samples=10):\n",
    "    fig, axs = plt.subplots(num_samples, len(style_sizes), figsize=(10,18))\n",
    "    for digit in range(num_samples):\n",
    "        author_id = np.random.randint(0, 5000)\n",
    "        print(f\"Digit {digit} author ID: {author_id}\")\n",
    "        for i, trainer in enumerate(list(trainers.values())):\n",
    "            data = trainer.test_data_loader.dataset[author_id]\n",
    "            sample = trainer.sample(data, digit)\n",
    "            axs[digit].imshow(sample.data.cpu().view(28, 28), cmap='gray')\n",
    "    plt.show()"
   ]
  },
  {
   "cell_type": "code",
   "execution_count": 41,
   "metadata": {
    "scrolled": true
   },
   "outputs": [
    {
     "name": "stdout",
     "output_type": "stream",
     "text": [
      "Digit 0 author ID: 1324\n",
      "Digit 1 author ID: 2327\n",
      "Digit 2 author ID: 2399\n",
      "Digit 3 author ID: 1967\n",
      "Digit 4 author ID: 327\n",
      "Digit 5 author ID: 4208\n",
      "Digit 6 author ID: 1346\n",
      "Digit 7 author ID: 3281\n",
      "Digit 8 author ID: 4451\n",
      "Digit 9 author ID: 698\n"
     ]
    },
    {
     "data": {
      "image/png": "[encoded data removed]",
      "text/plain": [
       "<Figure size 720x1296 with 10 Axes>"
      ]
     },
     "metadata": {
      "needs_background": "light"
     },
     "output_type": "display_data"
    }
   ],
   "source": [
    "plot_models_samples(10)"
   ]
  },
  {
   "cell_type": "code",
   "execution_count": 68,
   "metadata": {},
   "outputs": [],
   "source": [
    "models_path = \"models/PixelCNN_averaged_style\"\n",
    "model_file_tpl = \"PixelCNN_averaged_style_inputs_{}\""
   ]
  },
  {
   "cell_type": "code",
   "execution_count": 69,
   "metadata": {},
   "outputs": [],
   "source": [
    "models_files = os.listdir(models_path)"
   ]
  },
  {
   "cell_type": "code",
   "execution_count": 70,
   "metadata": {},
   "outputs": [],
   "source": [
    "training_iter = 2"
   ]
  },
  {
   "cell_type": "code",
   "execution_count": 32,
   "metadata": {},
   "outputs": [
    {
     "data": {
      "text/plain": [
       "['PixelCNN_averaged_style_inputs_8GatedPixelCNN_2020-07-26_17:37:53.pkl',\n",
       " 'PixelCNN_averaged_style_inputs_8GatedPixelCNN_2020-07-27_03:56:46.pkl',\n",
       " 'PixelCNN_averaged_style_inputs_8GatedPixelCNN_2020-07-26_22:56:32.pkl']"
      ]
     },
     "execution_count": 32,
     "metadata": {},
     "output_type": "execute_result"
    }
   ],
   "source": [
    "[file for file in models_files if file.startswith(model_file_tpl.format(8))]"
   ]
  },
  {
   "cell_type": "code",
   "execution_count": 71,
   "metadata": {},
   "outputs": [],
   "source": [
    "for size in style_sizes:\n",
    "    model_files = [file for file in models_files if file.startswith(model_file_tpl.format(size))]\n",
    "    model_files.sort()\n",
    "    model_filepath = os.path.join(models_path, model_files[training_iter])\n",
    "    checkpoint = torch.load(model_filepath)\n",
    "    models[size].load_state_dict(checkpoint['model_state_dict'])\n",
    "    style_models[size].load_state_dict(checkpoint['style_model_state_dict'])\n",
    "    optims[size].load_state_dict(checkpoint['optimizer_model'])\n",
    "    style_optims[size].load_state_dict(checkpoint['optimizer_style'])\n",
    "    trainers[size].recon_losses = checkpoint['recon_losses']"
   ]
  },
  {
   "cell_type": "code",
   "execution_count": 35,
   "metadata": {},
   "outputs": [
    {
     "name": "stderr",
     "output_type": "stream",
     "text": [
      "  0%|          | 1/2500 [00:00<04:32,  9.18it/s]"
     ]
    },
    {
     "name": "stdout",
     "output_type": "stream",
     "text": [
      "Testing size 1\n"
     ]
    },
    {
     "name": "stderr",
     "output_type": "stream",
     "text": [
      "100%|██████████| 2500/2500 [04:20<00:00,  9.61it/s]\n",
      "  0%|          | 1/2500 [00:00<04:30,  9.23it/s]"
     ]
    },
    {
     "name": "stdout",
     "output_type": "stream",
     "text": [
      "Testing size 2\n"
     ]
    },
    {
     "name": "stderr",
     "output_type": "stream",
     "text": [
      "100%|██████████| 2500/2500 [04:27<00:00,  9.34it/s]\n",
      "  0%|          | 1/2500 [00:00<04:44,  8.77it/s]"
     ]
    },
    {
     "name": "stdout",
     "output_type": "stream",
     "text": [
      "Testing size 4\n"
     ]
    },
    {
     "name": "stderr",
     "output_type": "stream",
     "text": [
      "100%|██████████| 2500/2500 [07:56<00:00,  5.25it/s]\n"
     ]
    }
   ],
   "source": [
    "test_data = {}\n",
    "for size in style_sizes:\n",
    "    print(f\"Testing size {size}\")\n",
    "    test_data[size] = trainers[size].test_model_classification(2500)"
   ]
  },
  {
   "cell_type": "code",
   "execution_count": 36,
   "metadata": {},
   "outputs": [
    {
     "name": "stdout",
     "output_type": "stream",
     "text": [
      "1 0.97\n",
      "2 0.9796\n",
      "4 0.9812\n",
      "8 0.9808\n",
      "16 0.9828\n",
      "32 0.984\n"
     ]
    }
   ],
   "source": [
    "#test\n",
    "for i, res in test_data.items():\n",
    "    print(i, sum([t[\"correct\"] for t in res]) / len(res))"
   ]
  },
  {
   "cell_type": "code",
   "execution_count": null,
   "metadata": {},
   "outputs": [
    {
     "name": "stdout",
     "output_type": "stream",
     "text": [
      "Test 0\n",
      "True author testing\n",
      "4 0.9776\n",
      "Fake author testing\n",
      "4 0.9156\n",
      "Test 1\n",
      "True author testing\n",
      "4 0.9836\n",
      "Fake author testing\n"
     ]
    }
   ],
   "source": [
    "tests = 5\n",
    "for t in range(tests):\n",
    "    print(f\"Test {t}\")\n",
    "    print(\"True author testing\")\n",
    "    test_data = {}\n",
    "    for size in style_sizes:\n",
    "        test_data[size] = trainers[size].test_model_classification(2500)\n",
    "    for i, res in test_data.items():\n",
    "        print(i, sum([t[\"correct\"] for t in res]) / len(res))\n",
    "    \n",
    "    print(\"Fake author testing\")\n",
    "    test_data_fake_authors = {}\n",
    "    for size in style_sizes:\n",
    "        test_data_fake_authors[size] = trainers[size].test_model_classification(2500, fake_authors=True)\n",
    "    for i, res in test_data_fake_authors.items():\n",
    "        print(i, sum([t[\"correct\"] for t in res]) / len(res))"
   ]
  },
  {
   "cell_type": "markdown",
   "metadata": {},
   "source": [
    "## Train set reconstruction"
   ]
  },
  {
   "cell_type": "code",
   "execution_count": 26,
   "metadata": {},
   "outputs": [],
   "source": [
    "trainers = {\n",
    "    i: trainer.PixelCnnSingleAuthorStyleAveragingTrainer(\n",
    "        models[i], \n",
    "        style_models[i], \n",
    "        train_loaders[i],\n",
    "        test_data_loader=train_loaders[i],\n",
    "        serialization_filename=f\"PixelCNN_averaged_style_inputs_{i}\",\n",
    "        serialization_path=\"models/PixelCNN_averaged_style\")\n",
    "    for i in style_sizes\n",
    "}"
   ]
  },
  {
   "cell_type": "code",
   "execution_count": 36,
   "metadata": {},
   "outputs": [
    {
     "name": "stdout",
     "output_type": "stream",
     "text": [
      "1 0.27070730924606323 210\n",
      "2 0.26505473256111145 210\n",
      "4 0.2647022604942322 210\n",
      "8 0.2640857398509979 210\n",
      "16 0.27070730924606323 210\n",
      "32 0.27097171545028687 210\n"
     ]
    }
   ],
   "source": [
    "for i, r in rec_losses.items():\n",
    "    print(i, r[-1], len(r))"
   ]
  },
  {
   "cell_type": "code",
   "execution_count": 37,
   "metadata": {},
   "outputs": [
    {
     "name": "stdout",
     "output_type": "stream",
     "text": [
      "1 0.28891322016716003\n",
      "2 0.28361618518829346\n",
      "4 0.28208306431770325\n",
      "8 0.2826460003852844\n",
      "16 0.2816072702407837\n",
      "32 0.28041258454322815\n"
     ]
    }
   ],
   "source": [
    "#TRAIN SET RECONSTRUCTION\n",
    "for size in style_sizes:\n",
    "    trainers[size].eval_mode()\n",
    "    recs = trainers[size].test_model_reconstruction(10000)\n",
    "    print(size, recs.mean().item())"
   ]
  },
  {
   "cell_type": "code",
   "execution_count": null,
   "metadata": {},
   "outputs": [],
   "source": []
  },
  {
   "cell_type": "code",
   "execution_count": null,
   "metadata": {},
   "outputs": [],
   "source": []
  }
 ],
 "metadata": {
  "kernelspec": {
   "display_name": "Python 3",
   "language": "python",
   "name": "python3"
  },
  "language_info": {
   "codemirror_mode": {
    "name": "ipython",
    "version": 3
   },
   "file_extension": ".py",
   "mimetype": "text/x-python",
   "name": "python",
   "nbconvert_exporter": "python",
   "pygments_lexer": "ipython3",
   "version": "3.7.7"
  }
 },
 "nbformat": 4,
 "nbformat_minor": 4
}
