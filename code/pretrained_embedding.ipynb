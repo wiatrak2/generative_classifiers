{
 "cells": [
  {
   "cell_type": "code",
   "execution_count": 1,
   "metadata": {},
   "outputs": [
    {
     "name": "stdout",
     "output_type": "stream",
     "text": [
      "Defaulting to user installation because normal site-packages is not writeable\n",
      "Requirement already satisfied: editdistance in /home/jovyan/.local/lib/python3.7/site-packages (from -r requirements-pube.txt (line 1)) (0.5.3)\n",
      "Requirement already satisfied: tensorboardX in /home/jovyan/.local/lib/python3.7/site-packages (from -r requirements-pube.txt (line 2)) (2.1)\n",
      "Requirement already satisfied: kaldi_io in /home/jovyan/.local/lib/python3.7/site-packages (from -r requirements-pube.txt (line 3)) (0.9.4)\n",
      "Requirement already satisfied: torch==1.1.0 in /home/jovyan/.local/lib/python3.7/site-packages (from -r requirements-pube.txt (line 4)) (1.1.0)\n",
      "Requirement already satisfied: pillow<7 in /home/jovyan/.local/lib/python3.7/site-packages (from -r requirements-pube.txt (line 5)) (6.2.2)\n",
      "Requirement already satisfied: protobuf>=3.8.0 in /usr/local/share/miniconda3/lib/python3.7/site-packages (from tensorboardX->-r requirements-pube.txt (line 2)) (3.13.0)\n",
      "Requirement already satisfied: six in /usr/local/share/miniconda3/lib/python3.7/site-packages (from tensorboardX->-r requirements-pube.txt (line 2)) (1.14.0)\n",
      "Requirement already satisfied: numpy in /usr/local/share/miniconda3/lib/python3.7/site-packages (from tensorboardX->-r requirements-pube.txt (line 2)) (1.19.1)\n",
      "Requirement already satisfied: setuptools in /usr/local/share/miniconda3/lib/python3.7/site-packages (from protobuf>=3.8.0->tensorboardX->-r requirements-pube.txt (line 2)) (46.4.0.post20200518)\n"
     ]
    }
   ],
   "source": [
    "!pip install -r requirements-pube.txt"
   ]
  },
  {
   "cell_type": "code",
   "execution_count": 2,
   "metadata": {},
   "outputs": [],
   "source": [
    "import PIL"
   ]
  },
  {
   "cell_type": "code",
   "execution_count": 3,
   "metadata": {},
   "outputs": [
    {
     "data": {
      "text/plain": [
       "'6.2.2'"
      ]
     },
     "execution_count": 3,
     "metadata": {},
     "output_type": "execute_result"
    }
   ],
   "source": [
    "PIL.__version__"
   ]
  },
  {
   "cell_type": "code",
   "execution_count": 71,
   "metadata": {},
   "outputs": [],
   "source": [
    "import torch\n",
    "import torch.nn as nn\n",
    "import torch.nn.functional as F\n",
    "import torch.optim as optim\n",
    "import torchvision\n",
    "import numpy as np\n",
    "import matplotlib.pyplot as plt\n",
    "\n",
    "import os\n",
    "import datetime\n",
    "import json\n",
    "import yaml\n",
    "from collections import defaultdict, Counter\n",
    "from copy import deepcopy\n",
    "from importlib import reload\n",
    "from collections import Counter"
   ]
  },
  {
   "cell_type": "code",
   "execution_count": 5,
   "metadata": {},
   "outputs": [],
   "source": [
    "%matplotlib inline"
   ]
  },
  {
   "cell_type": "code",
   "execution_count": 6,
   "metadata": {},
   "outputs": [
    {
     "data": {
      "text/plain": [
       "<function torch._C._nn.one_hot>"
      ]
     },
     "execution_count": 6,
     "metadata": {},
     "output_type": "execute_result"
    }
   ],
   "source": [
    "F.one_hot"
   ]
  },
  {
   "cell_type": "code",
   "execution_count": 7,
   "metadata": {},
   "outputs": [],
   "source": [
    "#Add synchronized directory\n",
    "#Remember to keep up to date on the local machine \n",
    "distsup_dir = \"/home/jovyan/Documents/DistSup\"\n",
    "import sys\n",
    "sys.path.append(distsup_dir)"
   ]
  },
  {
   "cell_type": "code",
   "execution_count": 8,
   "metadata": {},
   "outputs": [],
   "source": [
    "from distsup import reconstructors_analysis\n",
    "from distsup.reconstructors_analysis import style_modeling\n",
    "from distsup.reconstructors_analysis.style_modeling.qmnist.dataset import get_dataset, get_full_dataset\n",
    "from distsup.modules import pixcnn\n",
    "from distsup.modules import quantizers"
   ]
  },
  {
   "cell_type": "code",
   "execution_count": 9,
   "metadata": {},
   "outputs": [
    {
     "name": "stderr",
     "output_type": "stream",
     "text": [
      "################################################################################\n",
      "### WARNING, path does not exist: KALDI_ROOT=/mnt/matylda5/iveselyk/Tools/kaldi-trunk\n",
      "###          (please add 'export KALDI_ROOT=<your_path>' in your $HOME/.profile)\n",
      "###          (or run as: KALDI_ROOT=<your_path> python <your_script>.py)\n",
      "################################################################################\n",
      "\n"
     ]
    }
   ],
   "source": [
    "from distsup import utils\n",
    "from distsup.modules import reconstructors, encoders, pixcnn\n",
    "from distsup.models import vqvae, minitest, representation_learners\n",
    "from distsup.data import PaddedDatasetLoader, FixedDatasetLoader, ChunkedDataset\n",
    "from egs.mnist_seq.data import MNISTSequentialDataset"
   ]
  },
  {
   "cell_type": "code",
   "execution_count": 10,
   "metadata": {},
   "outputs": [],
   "source": [
    "device = torch.device(\"cuda\" if torch.cuda.is_available() else \"cpu\")"
   ]
  },
  {
   "cell_type": "code",
   "execution_count": 11,
   "metadata": {},
   "outputs": [
    {
     "data": {
      "text/plain": [
       "device(type='cuda')"
      ]
     },
     "execution_count": 11,
     "metadata": {},
     "output_type": "execute_result"
    }
   ],
   "source": [
    "device"
   ]
  },
  {
   "cell_type": "markdown",
   "metadata": {},
   "source": [
    "## Classes"
   ]
  },
  {
   "cell_type": "code",
   "execution_count": 12,
   "metadata": {},
   "outputs": [],
   "source": [
    "num_levels = 16"
   ]
  },
  {
   "cell_type": "code",
   "execution_count": 13,
   "metadata": {},
   "outputs": [],
   "source": [
    "class MnistStyleModel(nn.Module):\n",
    "    def __init__(self, activation=F.leaky_relu):\n",
    "        super().__init__()\n",
    "        self.conv1 = nn.Conv2d(1, 64, kernel_size=3)\n",
    "        self.conv2 = nn.Conv2d(64, 64, kernel_size=3)\n",
    "        self.conv3 = nn.Conv2d(64, 16, kernel_size=3)\n",
    "        self.dropout = nn.Dropout2d()\n",
    "        self.activation = activation\n",
    "\n",
    "    def forward(self, x):\n",
    "        if len(x.shape) == 3:\n",
    "            x = x[None, :]\n",
    "        x = self.activation(F.max_pool2d(self.conv1(x), 2))\n",
    "        x = self.dropout(x)\n",
    "        x = self.activation(F.max_pool2d(self.conv2(x), 2))\n",
    "        x = self.dropout(x)\n",
    "        x = self.activation(self.conv3(x))\n",
    "        return x.view(x.size(0), -1)\n",
    "\n",
    "    @staticmethod\n",
    "    def get_inputs(data, num_levels):\n",
    "        x = data[\"images\"].to(device)\n",
    "        return (x * num_levels).clamp(0, num_levels - 1) / (num_levels - 1)"
   ]
  },
  {
   "cell_type": "code",
   "execution_count": 14,
   "metadata": {},
   "outputs": [],
   "source": [
    "style_sizes = [8] #[1,2,4,8,16,32]"
   ]
  },
  {
   "cell_type": "code",
   "execution_count": 15,
   "metadata": {},
   "outputs": [],
   "source": [
    "qmnist_full_train_set, qmnist_full_test_set = get_full_dataset(9, max_train_samples=60000)"
   ]
  },
  {
   "cell_type": "code",
   "execution_count": 16,
   "metadata": {},
   "outputs": [
    {
     "data": {
      "text/plain": [
       "60000"
      ]
     },
     "execution_count": 16,
     "metadata": {},
     "output_type": "execute_result"
    }
   ],
   "source": [
    "len(qmnist_full_train_set)"
   ]
  },
  {
   "cell_type": "code",
   "execution_count": 17,
   "metadata": {},
   "outputs": [
    {
     "data": {
      "text/plain": [
       "402953"
      ]
     },
     "execution_count": 17,
     "metadata": {},
     "output_type": "execute_result"
    }
   ],
   "source": [
    "len(qmnist_full_train_set.dataset)"
   ]
  },
  {
   "cell_type": "code",
   "execution_count": 18,
   "metadata": {},
   "outputs": [],
   "source": [
    "train_loader = torch.utils.data.DataLoader(qmnist_full_train_set, batch_size=64, num_workers=1, shuffle=True)   \n",
    "test_loader = torch.utils.data.DataLoader(qmnist_full_test_set, batch_size=64, num_workers=1, shuffle=False)   \n"
   ]
  },
  {
   "cell_type": "code",
   "execution_count": 19,
   "metadata": {},
   "outputs": [],
   "source": [
    "embedding_sizes = [10]"
   ]
  },
  {
   "cell_type": "code",
   "execution_count": 20,
   "metadata": {},
   "outputs": [],
   "source": [
    "digit_cond = {\n",
    "    i: [\n",
    "        {\"cond_dim\": 144, \"reduction_factor\": 0,},\n",
    "        {\"cond_dim\": i, \"reduction_factor\": 0,},\n",
    "    ]\n",
    "    for i in embedding_sizes\n",
    "}"
   ]
  },
  {
   "cell_type": "code",
   "execution_count": 21,
   "metadata": {},
   "outputs": [],
   "source": [
    "models = {i: pixcnn.GatedPixelCNN(quantizer=dict(\n",
    "                     class_name=quantizers.SoftmaxUniformQuantizer,\n",
    "                     num_levels=num_levels\n",
    "                     ),\n",
    "                     cond_channels=digit_cond[i]).to(device)\n",
    "         for i in embedding_sizes}"
   ]
  },
  {
   "cell_type": "code",
   "execution_count": 22,
   "metadata": {},
   "outputs": [],
   "source": [
    "style_models = {\n",
    "    i: MnistStyleModel().to(device)\n",
    "    for i in embedding_sizes\n",
    "}"
   ]
  },
  {
   "cell_type": "code",
   "execution_count": 23,
   "metadata": {},
   "outputs": [],
   "source": [
    "from distsup.reconstructors_analysis.style_modeling import trainer, embedded"
   ]
  },
  {
   "cell_type": "code",
   "execution_count": 24,
   "metadata": {},
   "outputs": [],
   "source": [
    "class GumbelSoftmax(nn.Softmax):\n",
    "    def __init__(self, temperature, *args, **kwargs):\n",
    "        super().__init__(*args, **kwargs)\n",
    "        self.temperature = temperature\n",
    "        \n",
    "    def forward(self, input):\n",
    "        return F.gumbel_softmax(input, self.temperature, dim=self.dim)"
   ]
  },
  {
   "cell_type": "code",
   "execution_count": 25,
   "metadata": {},
   "outputs": [
    {
     "name": "stderr",
     "output_type": "stream",
     "text": [
      "100%|██████████| 60000/60000 [00:54<00:00, 1105.17it/s]\n"
     ]
    }
   ],
   "source": [
    "import tqdm\n",
    "one_hot_embeddings = torch.zeros((len(qmnist_full_train_set), 10))\n",
    "for i in tqdm.trange(len(qmnist_full_train_set)):\n",
    "    label = qmnist_full_train_set[i][\"target_image_label\"]\n",
    "    one_hot_embeddings[i][label] = 1"
   ]
  },
  {
   "cell_type": "code",
   "execution_count": 26,
   "metadata": {},
   "outputs": [],
   "source": [
    "initialized_embedding_no_mask = embedded.MaskedEmbedding(len(qmnist_full_train_set), 10, _weight=one_hot_embeddings).to(device)"
   ]
  },
  {
   "cell_type": "code",
   "execution_count": 27,
   "metadata": {},
   "outputs": [
    {
     "data": {
      "text/plain": [
       "tensor([1., 0., 0., 0., 0., 0., 0., 0., 0., 0.], device='cuda:0',\n",
       "       grad_fn=<EmbeddingBackward>)"
      ]
     },
     "execution_count": 27,
     "metadata": {},
     "output_type": "execute_result"
    }
   ],
   "source": [
    "initialized_embedding_no_mask(torch.tensor(0).to(device))"
   ]
  },
  {
   "cell_type": "code",
   "execution_count": 28,
   "metadata": {},
   "outputs": [],
   "source": [
    "initialized_embedding = embedded.MaskedEmbedding(len(qmnist_full_train_set), 10, mask=nn.Softmax(dim=-1), _weight=one_hot_embeddings).to(device)"
   ]
  },
  {
   "cell_type": "code",
   "execution_count": 29,
   "metadata": {},
   "outputs": [
    {
     "data": {
      "text/plain": [
       "tensor([0.2320, 0.0853, 0.0853, 0.0853, 0.0853, 0.0853, 0.0853, 0.0853, 0.0853,\n",
       "        0.0853])"
      ]
     },
     "execution_count": 29,
     "metadata": {},
     "output_type": "execute_result"
    }
   ],
   "source": [
    "initialized_embedding(torch.tensor(0).to(device)).data.cpu()"
   ]
  },
  {
   "cell_type": "code",
   "execution_count": 30,
   "metadata": {},
   "outputs": [
    {
     "data": {
      "text/plain": [
       "<BarContainer object of 10 artists>"
      ]
     },
     "execution_count": 30,
     "metadata": {},
     "output_type": "execute_result"
    },
    {
     "data": {
      "image/png": "[encoded data removed]",
      "text/plain": [
       "<Figure size 432x288 with 1 Axes>"
      ]
     },
     "metadata": {
      "needs_background": "light"
     },
     "output_type": "display_data"
    }
   ],
   "source": [
    "plt.bar(np.arange(10), initialized_embedding(torch.tensor(0).to(device)).data.cpu())"
   ]
  },
  {
   "cell_type": "code",
   "execution_count": 31,
   "metadata": {},
   "outputs": [],
   "source": [
    "embeddings = {\n",
    "    i: initialized_embedding_no_mask\n",
    "    for i in embedding_sizes\n",
    "}"
   ]
  },
  {
   "cell_type": "code",
   "execution_count": 74,
   "metadata": {},
   "outputs": [],
   "source": [
    "trainers = {\n",
    "    i: trainer.PixelCnnWithEmbeddingTrainer(\n",
    "        models[i], \n",
    "        style_models[i], \n",
    "        train_loader,\n",
    "        embedding=embeddings[i],\n",
    "        serialization_filename=f\"PixelCNN_embedding_dim_{i}_with_softmax_on_pretrained_reconstructor_with_initialized_softax_embeddings_60000_dataset_averaged_style_inputs_8\",\n",
    "        serialization_path=\"models/PixelCNN_embedding\")\n",
    "    for i in embedding_sizes\n",
    "}"
   ]
  },
  {
   "cell_type": "code",
   "execution_count": 75,
   "metadata": {},
   "outputs": [],
   "source": [
    "optims = {\n",
    "    i: optim.Adam(models[i].parameters(), lr=1e-4)\n",
    "    for i in embedding_sizes\n",
    "}"
   ]
  },
  {
   "cell_type": "code",
   "execution_count": 76,
   "metadata": {},
   "outputs": [],
   "source": [
    "style_optims = {\n",
    "    i: optim.Adam(style_models[i].parameters(), lr=1e-4) \n",
    "    for i in embedding_sizes\n",
    "}"
   ]
  },
  {
   "cell_type": "code",
   "execution_count": 77,
   "metadata": {},
   "outputs": [],
   "source": [
    "emb_optims = {\n",
    "    i: optim.Adam(embeddings[i].parameters(), lr=1e-4) \n",
    "    for i in embedding_sizes\n",
    "}"
   ]
  },
  {
   "cell_type": "markdown",
   "metadata": {},
   "source": [
    "## Load PixelCNN weights"
   ]
  },
  {
   "cell_type": "code",
   "execution_count": 79,
   "metadata": {},
   "outputs": [],
   "source": [
    "models_path = \"models/PixelCNN_averaged_style/\"\n",
    "model_file_tpl = \"PixelCNN_averaged_style_inputs_{}\""
   ]
  },
  {
   "cell_type": "code",
   "execution_count": 80,
   "metadata": {},
   "outputs": [],
   "source": [
    "models_files = os.listdir(models_path)"
   ]
  },
  {
   "cell_type": "code",
   "execution_count": 83,
   "metadata": {},
   "outputs": [],
   "source": [
    "training_iter = 2"
   ]
  },
  {
   "cell_type": "code",
   "execution_count": 82,
   "metadata": {},
   "outputs": [
    {
     "data": {
      "text/plain": [
       "['PixelCNN_averaged_style_inputs_8GatedPixelCNN_2020-07-26_17:37:53.pkl',\n",
       " 'PixelCNN_averaged_style_inputs_8GatedPixelCNN_2020-07-27_03:56:46.pkl',\n",
       " 'PixelCNN_averaged_style_inputs_8GatedPixelCNN_2020-07-26_22:56:32.pkl']"
      ]
     },
     "execution_count": 82,
     "metadata": {},
     "output_type": "execute_result"
    }
   ],
   "source": [
    "[file for file in models_files if file.startswith(model_file_tpl.format(8))]"
   ]
  },
  {
   "cell_type": "code",
   "execution_count": 95,
   "metadata": {},
   "outputs": [],
   "source": [
    "for size in embedding_sizes:\n",
    "    model_files = [file for file in models_files if file.startswith(model_file_tpl.format(8))]\n",
    "    model_files.sort()\n",
    "    model_filepath = os.path.join(models_path, model_files[training_iter])\n",
    "    checkpoint = torch.load(model_filepath)\n",
    "    models[size].load_state_dict(checkpoint['model_state_dict'])\n",
    "    style_models[size].load_state_dict(checkpoint['style_model_state_dict'])\n",
    "    optims[size].load_state_dict(checkpoint['optimizer_model'])\n",
    "    style_optims[size].load_state_dict(checkpoint['optimizer_style'])\n",
    "    trainers[size].recon_losses = checkpoint['recon_losses']"
   ]
  },
  {
   "cell_type": "code",
   "execution_count": 263,
   "metadata": {},
   "outputs": [
    {
     "data": {
      "text/plain": [
       "tensor([-0.0358,  0.1602,  0.1346, -0.0626, -0.0257, -0.2645, -0.1010, -0.0919,\n",
       "         0.2749,  0.0686, -0.1213,  0.0767, -0.1188,  0.2264, -0.0912,  0.2993,\n",
       "         0.0344, -0.0109, -0.0355, -0.0046,  0.3091,  0.0492,  0.0607,  0.0683,\n",
       "         0.1142,  0.1335, -0.1276,  0.0765,  0.0148, -0.0188, -0.2957, -0.2597,\n",
       "        -0.0249, -0.1543,  0.0488,  0.1030,  0.1365,  0.2508, -0.0898,  0.1640,\n",
       "         0.1267, -0.1751, -0.0437, -0.0160,  0.0084,  0.0233, -0.0848,  0.2183,\n",
       "         0.1160,  0.2257, -0.0227, -0.1875,  0.1342,  0.1363, -0.0940, -0.1324,\n",
       "        -0.1158, -0.0829,  0.1472, -0.0073,  0.0232,  0.1026, -0.0024, -0.2082],\n",
       "       device='cuda:0', grad_fn=<SelectBackward>)"
      ]
     },
     "execution_count": 263,
     "metadata": {},
     "output_type": "execute_result"
    }
   ],
   "source": [
    "models[10].gated_layers[0].v_to_h.weight.squeeze()[0]"
   ]
  },
  {
   "cell_type": "code",
   "execution_count": null,
   "metadata": {},
   "outputs": [],
   "source": [
    "models[10].gated_layers[0].v_to_h.weight.squeeze()[0]"
   ]
  },
  {
   "cell_type": "markdown",
   "metadata": {},
   "source": [
    "## Training"
   ]
  },
  {
   "cell_type": "code",
   "execution_count": 96,
   "metadata": {},
   "outputs": [],
   "source": [
    "num_epochs = 30"
   ]
  },
  {
   "cell_type": "code",
   "execution_count": 97,
   "metadata": {
    "scrolled": true
   },
   "outputs": [
    {
     "name": "stdout",
     "output_type": "stream",
     "text": [
      "Starting embiedding 10 training\n",
      "Train Epoch: 1 [0/60000 (0%)]\tLoss: 14505.607422\n",
      "Train Epoch: 1 [6400/60000 (11%)]\tLoss: 15025.115234\n",
      "Train Epoch: 1 [12800/60000 (21%)]\tLoss: 14579.226562\n",
      "Train Epoch: 1 [19200/60000 (32%)]\tLoss: 15074.369141\n",
      "Train Epoch: 1 [25600/60000 (43%)]\tLoss: 15644.605469\n",
      "Train Epoch: 1 [32000/60000 (53%)]\tLoss: 14740.166016\n",
      "Train Epoch: 1 [38400/60000 (64%)]\tLoss: 14960.855469\n",
      "Train Epoch: 1 [44800/60000 (75%)]\tLoss: 15189.464844\n",
      "Train Epoch: 1 [51200/60000 (85%)]\tLoss: 14498.683594\n",
      "Train Epoch: 1 [57600/60000 (96%)]\tLoss: 14498.121094\n",
      "Train Epoch: 2 [0/60000 (0%)]\tLoss: 15558.355469\n",
      "Train Epoch: 2 [6400/60000 (11%)]\tLoss: 14720.759766\n",
      "Train Epoch: 2 [12800/60000 (21%)]\tLoss: 15090.730469\n",
      "Train Epoch: 2 [19200/60000 (32%)]\tLoss: 15018.921875\n",
      "Train Epoch: 2 [25600/60000 (43%)]\tLoss: 14982.604492\n",
      "Train Epoch: 2 [32000/60000 (53%)]\tLoss: 14501.820312\n",
      "Train Epoch: 2 [38400/60000 (64%)]\tLoss: 14048.074219\n",
      "Train Epoch: 2 [44800/60000 (75%)]\tLoss: 14472.861328\n",
      "Train Epoch: 2 [51200/60000 (85%)]\tLoss: 14957.779297\n",
      "Train Epoch: 2 [57600/60000 (96%)]\tLoss: 15489.082031\n",
      "Train Epoch: 3 [0/60000 (0%)]\tLoss: 14146.957031\n",
      "Train Epoch: 3 [6400/60000 (11%)]\tLoss: 14576.774414\n",
      "Train Epoch: 3 [12800/60000 (21%)]\tLoss: 14981.216797\n",
      "Train Epoch: 3 [19200/60000 (32%)]\tLoss: 14455.532227\n",
      "Train Epoch: 3 [25600/60000 (43%)]\tLoss: 14947.670898\n",
      "Train Epoch: 3 [32000/60000 (53%)]\tLoss: 14914.835938\n",
      "Train Epoch: 3 [38400/60000 (64%)]\tLoss: 14935.559570\n",
      "Train Epoch: 3 [44800/60000 (75%)]\tLoss: 14887.986328\n",
      "Train Epoch: 3 [51200/60000 (85%)]\tLoss: 14690.739258\n",
      "Train Epoch: 3 [57600/60000 (96%)]\tLoss: 14985.115234\n",
      "Train Epoch: 4 [0/60000 (0%)]\tLoss: 14880.197266\n",
      "Train Epoch: 4 [6400/60000 (11%)]\tLoss: 15872.759766\n",
      "Train Epoch: 4 [12800/60000 (21%)]\tLoss: 15123.920898\n",
      "Train Epoch: 4 [19200/60000 (32%)]\tLoss: 14982.713867\n",
      "Train Epoch: 4 [25600/60000 (43%)]\tLoss: 14824.933594\n",
      "Train Epoch: 4 [32000/60000 (53%)]\tLoss: 14993.062500\n",
      "Train Epoch: 4 [38400/60000 (64%)]\tLoss: 14451.568359\n",
      "Train Epoch: 4 [44800/60000 (75%)]\tLoss: 15137.330078\n",
      "Train Epoch: 4 [51200/60000 (85%)]\tLoss: 15005.025391\n",
      "Train Epoch: 4 [57600/60000 (96%)]\tLoss: 14799.845703\n",
      "Train Epoch: 5 [0/60000 (0%)]\tLoss: 14754.479492\n",
      "Train Epoch: 5 [6400/60000 (11%)]\tLoss: 14409.177734\n",
      "Train Epoch: 5 [12800/60000 (21%)]\tLoss: 15290.675781\n",
      "Train Epoch: 5 [19200/60000 (32%)]\tLoss: 14629.025391\n",
      "Train Epoch: 5 [25600/60000 (43%)]\tLoss: 14374.791016\n",
      "Train Epoch: 5 [32000/60000 (53%)]\tLoss: 14734.050781\n",
      "Train Epoch: 5 [38400/60000 (64%)]\tLoss: 14388.213867\n",
      "Train Epoch: 5 [44800/60000 (75%)]\tLoss: 15350.967773\n",
      "Train Epoch: 5 [51200/60000 (85%)]\tLoss: 13763.453125\n",
      "Train Epoch: 5 [57600/60000 (96%)]\tLoss: 15369.801758\n",
      "Train Epoch: 6 [0/60000 (0%)]\tLoss: 14989.759766\n",
      "Train Epoch: 6 [6400/60000 (11%)]\tLoss: 14177.308594\n",
      "Train Epoch: 6 [12800/60000 (21%)]\tLoss: 14283.761719\n",
      "Train Epoch: 6 [19200/60000 (32%)]\tLoss: 14648.302734\n",
      "Train Epoch: 6 [25600/60000 (43%)]\tLoss: 15647.238281\n",
      "Train Epoch: 6 [32000/60000 (53%)]\tLoss: 14235.767578\n",
      "Train Epoch: 6 [38400/60000 (64%)]\tLoss: 15574.439453\n",
      "Train Epoch: 6 [44800/60000 (75%)]\tLoss: 13866.691406\n",
      "Train Epoch: 6 [51200/60000 (85%)]\tLoss: 14795.660156\n",
      "Train Epoch: 6 [57600/60000 (96%)]\tLoss: 15206.305664\n",
      "Train Epoch: 7 [0/60000 (0%)]\tLoss: 14802.509766\n",
      "Train Epoch: 7 [6400/60000 (11%)]\tLoss: 15080.983398\n",
      "Train Epoch: 7 [12800/60000 (21%)]\tLoss: 14941.600586\n",
      "Train Epoch: 7 [19200/60000 (32%)]\tLoss: 14036.331055\n",
      "Train Epoch: 7 [25600/60000 (43%)]\tLoss: 15420.289062\n",
      "Train Epoch: 7 [32000/60000 (53%)]\tLoss: 13736.399414\n",
      "Train Epoch: 7 [38400/60000 (64%)]\tLoss: 15053.072266\n",
      "Train Epoch: 7 [44800/60000 (75%)]\tLoss: 15094.561523\n",
      "Train Epoch: 7 [51200/60000 (85%)]\tLoss: 15168.779297\n",
      "Train Epoch: 7 [57600/60000 (96%)]\tLoss: 14768.998047\n",
      "Train Epoch: 8 [0/60000 (0%)]\tLoss: 14923.292969\n",
      "Train Epoch: 8 [6400/60000 (11%)]\tLoss: 14583.478516\n",
      "Train Epoch: 8 [12800/60000 (21%)]\tLoss: 14898.994141\n",
      "Train Epoch: 8 [19200/60000 (32%)]\tLoss: 15085.185547\n",
      "Train Epoch: 8 [25600/60000 (43%)]\tLoss: 14638.904297\n",
      "Train Epoch: 8 [32000/60000 (53%)]\tLoss: 14156.629883\n",
      "Train Epoch: 8 [38400/60000 (64%)]\tLoss: 14706.233398\n",
      "Train Epoch: 8 [44800/60000 (75%)]\tLoss: 15373.798828\n",
      "Train Epoch: 8 [51200/60000 (85%)]\tLoss: 14662.652344\n",
      "Train Epoch: 8 [57600/60000 (96%)]\tLoss: 13999.433594\n",
      "Train Epoch: 9 [0/60000 (0%)]\tLoss: 14400.887695\n",
      "Train Epoch: 9 [6400/60000 (11%)]\tLoss: 15120.359375\n",
      "Train Epoch: 9 [12800/60000 (21%)]\tLoss: 14726.339844\n",
      "Train Epoch: 9 [19200/60000 (32%)]\tLoss: 14815.679688\n",
      "Train Epoch: 9 [25600/60000 (43%)]\tLoss: 14912.654297\n",
      "Train Epoch: 9 [32000/60000 (53%)]\tLoss: 14766.070312\n",
      "Train Epoch: 9 [38400/60000 (64%)]\tLoss: 14259.221680\n",
      "Train Epoch: 9 [44800/60000 (75%)]\tLoss: 14896.340820\n",
      "Train Epoch: 9 [51200/60000 (85%)]\tLoss: 14728.600586\n",
      "Train Epoch: 9 [57600/60000 (96%)]\tLoss: 15535.333008\n",
      "Train Epoch: 10 [0/60000 (0%)]\tLoss: 15091.240234\n",
      "Train Epoch: 10 [6400/60000 (11%)]\tLoss: 14450.945312\n",
      "Train Epoch: 10 [12800/60000 (21%)]\tLoss: 14740.863281\n",
      "Train Epoch: 10 [19200/60000 (32%)]\tLoss: 14294.586914\n",
      "Train Epoch: 10 [25600/60000 (43%)]\tLoss: 14477.759766\n",
      "Train Epoch: 10 [32000/60000 (53%)]\tLoss: 15145.800781\n",
      "Train Epoch: 10 [38400/60000 (64%)]\tLoss: 14095.494141\n",
      "Train Epoch: 10 [44800/60000 (75%)]\tLoss: 14327.964844\n",
      "Train Epoch: 10 [51200/60000 (85%)]\tLoss: 14482.737305\n",
      "Train Epoch: 10 [57600/60000 (96%)]\tLoss: 14811.957031\n",
      "Train Epoch: 11 [0/60000 (0%)]\tLoss: 14037.849609\n",
      "Train Epoch: 11 [6400/60000 (11%)]\tLoss: 14724.398438\n",
      "Train Epoch: 11 [12800/60000 (21%)]\tLoss: 13952.276367\n",
      "Train Epoch: 11 [19200/60000 (32%)]\tLoss: 14420.835938\n",
      "Train Epoch: 11 [25600/60000 (43%)]\tLoss: 14602.773438\n",
      "Train Epoch: 11 [32000/60000 (53%)]\tLoss: 15210.710938\n",
      "Train Epoch: 11 [38400/60000 (64%)]\tLoss: 15052.044922\n",
      "Train Epoch: 11 [44800/60000 (75%)]\tLoss: 14287.375000\n",
      "Train Epoch: 11 [51200/60000 (85%)]\tLoss: 14242.400391\n",
      "Train Epoch: 11 [57600/60000 (96%)]\tLoss: 14379.482422\n",
      "Train Epoch: 12 [0/60000 (0%)]\tLoss: 14866.472656\n",
      "Train Epoch: 12 [6400/60000 (11%)]\tLoss: 14972.050781\n",
      "Train Epoch: 12 [12800/60000 (21%)]\tLoss: 14838.836914\n",
      "Train Epoch: 12 [19200/60000 (32%)]\tLoss: 14483.550781\n",
      "Train Epoch: 12 [25600/60000 (43%)]\tLoss: 15050.441406\n",
      "Train Epoch: 12 [32000/60000 (53%)]\tLoss: 14716.058594\n",
      "Train Epoch: 12 [38400/60000 (64%)]\tLoss: 15373.969727\n",
      "Train Epoch: 12 [44800/60000 (75%)]\tLoss: 14978.318359\n",
      "Train Epoch: 12 [51200/60000 (85%)]\tLoss: 14780.278320\n",
      "Train Epoch: 12 [57600/60000 (96%)]\tLoss: 14302.529297\n",
      "Train Epoch: 13 [0/60000 (0%)]\tLoss: 14140.327148\n",
      "Train Epoch: 13 [6400/60000 (11%)]\tLoss: 15605.621094\n",
      "Train Epoch: 13 [12800/60000 (21%)]\tLoss: 14896.216797\n",
      "Train Epoch: 13 [19200/60000 (32%)]\tLoss: 14035.396484\n",
      "Train Epoch: 13 [25600/60000 (43%)]\tLoss: 14500.773438\n",
      "Train Epoch: 13 [32000/60000 (53%)]\tLoss: 14110.347656\n",
      "Train Epoch: 13 [38400/60000 (64%)]\tLoss: 14416.727539\n",
      "Train Epoch: 13 [44800/60000 (75%)]\tLoss: 14947.585938\n",
      "Train Epoch: 13 [51200/60000 (85%)]\tLoss: 15214.104492\n",
      "Train Epoch: 13 [57600/60000 (96%)]\tLoss: 14729.939453\n",
      "Train Epoch: 14 [0/60000 (0%)]\tLoss: 15209.505859\n",
      "Train Epoch: 14 [6400/60000 (11%)]\tLoss: 14542.812500\n",
      "Train Epoch: 14 [12800/60000 (21%)]\tLoss: 13683.000000\n",
      "Train Epoch: 14 [19200/60000 (32%)]\tLoss: 13904.882812\n",
      "Train Epoch: 14 [25600/60000 (43%)]\tLoss: 14615.287109\n",
      "Train Epoch: 14 [32000/60000 (53%)]\tLoss: 14649.105469\n",
      "Train Epoch: 14 [38400/60000 (64%)]\tLoss: 14761.491211\n",
      "Train Epoch: 14 [44800/60000 (75%)]\tLoss: 14558.373047\n",
      "Train Epoch: 14 [51200/60000 (85%)]\tLoss: 14940.798828\n",
      "Train Epoch: 14 [57600/60000 (96%)]\tLoss: 14517.614258\n",
      "Train Epoch: 15 [0/60000 (0%)]\tLoss: 14862.074219\n",
      "Train Epoch: 15 [6400/60000 (11%)]\tLoss: 15866.391602\n",
      "Train Epoch: 15 [12800/60000 (21%)]\tLoss: 15133.152344\n",
      "Train Epoch: 15 [19200/60000 (32%)]\tLoss: 14737.412109\n",
      "Train Epoch: 15 [25600/60000 (43%)]\tLoss: 14757.923828\n",
      "Train Epoch: 15 [32000/60000 (53%)]\tLoss: 14055.613281\n",
      "Train Epoch: 15 [38400/60000 (64%)]\tLoss: 14375.341797\n",
      "Train Epoch: 15 [44800/60000 (75%)]\tLoss: 14066.231445\n",
      "Train Epoch: 15 [51200/60000 (85%)]\tLoss: 14471.666016\n",
      "Train Epoch: 15 [57600/60000 (96%)]\tLoss: 14770.492188\n",
      "Train Epoch: 16 [0/60000 (0%)]\tLoss: 14962.390625\n",
      "Train Epoch: 16 [6400/60000 (11%)]\tLoss: 14592.915039\n",
      "Train Epoch: 16 [12800/60000 (21%)]\tLoss: 15035.028320\n",
      "Train Epoch: 16 [19200/60000 (32%)]\tLoss: 14586.982422\n",
      "Train Epoch: 16 [25600/60000 (43%)]\tLoss: 15038.470703\n",
      "Train Epoch: 16 [32000/60000 (53%)]\tLoss: 15242.389648\n",
      "Train Epoch: 16 [38400/60000 (64%)]\tLoss: 14453.529297\n",
      "Train Epoch: 16 [44800/60000 (75%)]\tLoss: 14624.209961\n",
      "Train Epoch: 16 [51200/60000 (85%)]\tLoss: 14559.953125\n",
      "Train Epoch: 16 [57600/60000 (96%)]\tLoss: 14399.826172\n",
      "Train Epoch: 17 [0/60000 (0%)]\tLoss: 14520.210938\n",
      "Train Epoch: 17 [6400/60000 (11%)]\tLoss: 14853.648438\n",
      "Train Epoch: 17 [12800/60000 (21%)]\tLoss: 15371.301758\n",
      "Train Epoch: 17 [19200/60000 (32%)]\tLoss: 14006.796875\n",
      "Train Epoch: 17 [25600/60000 (43%)]\tLoss: 14944.663086\n",
      "Train Epoch: 17 [32000/60000 (53%)]\tLoss: 14415.044922\n",
      "Train Epoch: 17 [38400/60000 (64%)]\tLoss: 14446.421875\n",
      "Train Epoch: 17 [44800/60000 (75%)]\tLoss: 14581.904297\n",
      "Train Epoch: 17 [51200/60000 (85%)]\tLoss: 15489.804688\n",
      "Train Epoch: 17 [57600/60000 (96%)]\tLoss: 15234.876953\n",
      "Train Epoch: 18 [0/60000 (0%)]\tLoss: 13643.066406\n",
      "Train Epoch: 18 [6400/60000 (11%)]\tLoss: 14224.089844\n",
      "Train Epoch: 18 [12800/60000 (21%)]\tLoss: 15041.185547\n",
      "Train Epoch: 18 [19200/60000 (32%)]\tLoss: 14458.156250\n",
      "Train Epoch: 18 [25600/60000 (43%)]\tLoss: 14078.593750\n",
      "Train Epoch: 18 [32000/60000 (53%)]\tLoss: 14275.728516\n",
      "Train Epoch: 18 [38400/60000 (64%)]\tLoss: 14720.845703\n",
      "Train Epoch: 18 [44800/60000 (75%)]\tLoss: 14693.478516\n",
      "Train Epoch: 18 [51200/60000 (85%)]\tLoss: 15104.882812\n",
      "Train Epoch: 18 [57600/60000 (96%)]\tLoss: 14935.697266\n",
      "Train Epoch: 19 [0/60000 (0%)]\tLoss: 14604.380859\n",
      "Train Epoch: 19 [6400/60000 (11%)]\tLoss: 14753.574219\n",
      "Train Epoch: 19 [12800/60000 (21%)]\tLoss: 14259.513672\n",
      "Train Epoch: 19 [19200/60000 (32%)]\tLoss: 14554.972656\n",
      "Train Epoch: 19 [25600/60000 (43%)]\tLoss: 15160.925781\n",
      "Train Epoch: 19 [32000/60000 (53%)]\tLoss: 14633.041992\n",
      "Train Epoch: 19 [38400/60000 (64%)]\tLoss: 14493.726562\n",
      "Train Epoch: 19 [44800/60000 (75%)]\tLoss: 14580.637695\n",
      "Train Epoch: 19 [51200/60000 (85%)]\tLoss: 14390.752930\n",
      "Train Epoch: 19 [57600/60000 (96%)]\tLoss: 13920.094727\n",
      "Train Epoch: 20 [0/60000 (0%)]\tLoss: 14512.365234\n",
      "Train Epoch: 20 [6400/60000 (11%)]\tLoss: 14134.224609\n",
      "Train Epoch: 20 [12800/60000 (21%)]\tLoss: 14204.062500\n",
      "Train Epoch: 20 [19200/60000 (32%)]\tLoss: 14018.541016\n",
      "Train Epoch: 20 [25600/60000 (43%)]\tLoss: 14781.959961\n",
      "Train Epoch: 20 [32000/60000 (53%)]\tLoss: 14206.686523\n",
      "Train Epoch: 20 [38400/60000 (64%)]\tLoss: 13840.704102\n",
      "Train Epoch: 20 [44800/60000 (75%)]\tLoss: 15679.781250\n",
      "Train Epoch: 20 [51200/60000 (85%)]\tLoss: 14740.455078\n",
      "Train Epoch: 20 [57600/60000 (96%)]\tLoss: 15008.336914\n",
      "Train Epoch: 21 [0/60000 (0%)]\tLoss: 14641.258789\n",
      "Train Epoch: 21 [6400/60000 (11%)]\tLoss: 14866.097656\n",
      "Train Epoch: 21 [12800/60000 (21%)]\tLoss: 15077.734375\n",
      "Train Epoch: 21 [19200/60000 (32%)]\tLoss: 14469.101562\n",
      "Train Epoch: 21 [25600/60000 (43%)]\tLoss: 14736.432617\n",
      "Train Epoch: 21 [32000/60000 (53%)]\tLoss: 14832.274414\n",
      "Train Epoch: 21 [38400/60000 (64%)]\tLoss: 14085.826172\n",
      "Train Epoch: 21 [44800/60000 (75%)]\tLoss: 14894.066406\n",
      "Train Epoch: 21 [51200/60000 (85%)]\tLoss: 14812.238281\n",
      "Train Epoch: 21 [57600/60000 (96%)]\tLoss: 14102.576172\n",
      "Train Epoch: 22 [0/60000 (0%)]\tLoss: 14127.632812\n",
      "Train Epoch: 22 [6400/60000 (11%)]\tLoss: 14105.597656\n",
      "Train Epoch: 22 [12800/60000 (21%)]\tLoss: 14394.970703\n",
      "Train Epoch: 22 [19200/60000 (32%)]\tLoss: 14384.416016\n",
      "Train Epoch: 22 [25600/60000 (43%)]\tLoss: 14994.401367\n",
      "Train Epoch: 22 [32000/60000 (53%)]\tLoss: 14438.435547\n",
      "Train Epoch: 22 [38400/60000 (64%)]\tLoss: 14734.208984\n",
      "Train Epoch: 22 [44800/60000 (75%)]\tLoss: 14757.431641\n",
      "Train Epoch: 22 [51200/60000 (85%)]\tLoss: 14778.296875\n",
      "Train Epoch: 22 [57600/60000 (96%)]\tLoss: 14781.225586\n",
      "Train Epoch: 23 [0/60000 (0%)]\tLoss: 14730.667969\n",
      "Train Epoch: 23 [6400/60000 (11%)]\tLoss: 14724.802734\n",
      "Train Epoch: 23 [12800/60000 (21%)]\tLoss: 14767.908203\n",
      "Train Epoch: 23 [19200/60000 (32%)]\tLoss: 14112.701172\n",
      "Train Epoch: 23 [25600/60000 (43%)]\tLoss: 15108.166992\n",
      "Train Epoch: 23 [32000/60000 (53%)]\tLoss: 15024.486328\n",
      "Train Epoch: 23 [38400/60000 (64%)]\tLoss: 14945.750000\n",
      "Train Epoch: 23 [44800/60000 (75%)]\tLoss: 13590.600586\n",
      "Train Epoch: 23 [51200/60000 (85%)]\tLoss: 14601.281250\n",
      "Train Epoch: 23 [57600/60000 (96%)]\tLoss: 15483.158203\n",
      "Train Epoch: 24 [0/60000 (0%)]\tLoss: 14641.906250\n",
      "Train Epoch: 24 [6400/60000 (11%)]\tLoss: 14795.472656\n",
      "Train Epoch: 24 [12800/60000 (21%)]\tLoss: 14207.036133\n",
      "Train Epoch: 24 [19200/60000 (32%)]\tLoss: 14397.480469\n",
      "Train Epoch: 24 [25600/60000 (43%)]\tLoss: 14653.006836\n",
      "Train Epoch: 24 [32000/60000 (53%)]\tLoss: 14234.451172\n",
      "Train Epoch: 24 [38400/60000 (64%)]\tLoss: 14784.677734\n",
      "Train Epoch: 24 [44800/60000 (75%)]\tLoss: 14954.972656\n",
      "Train Epoch: 24 [51200/60000 (85%)]\tLoss: 15358.507812\n",
      "Train Epoch: 24 [57600/60000 (96%)]\tLoss: 14757.958984\n",
      "Train Epoch: 25 [0/60000 (0%)]\tLoss: 14557.540039\n",
      "Train Epoch: 25 [6400/60000 (11%)]\tLoss: 15433.369141\n",
      "Train Epoch: 25 [12800/60000 (21%)]\tLoss: 14630.728516\n",
      "Train Epoch: 25 [19200/60000 (32%)]\tLoss: 14415.833984\n",
      "Train Epoch: 25 [25600/60000 (43%)]\tLoss: 14295.487305\n",
      "Train Epoch: 25 [32000/60000 (53%)]\tLoss: 14563.685547\n",
      "Train Epoch: 25 [38400/60000 (64%)]\tLoss: 14974.494141\n",
      "Train Epoch: 25 [44800/60000 (75%)]\tLoss: 14437.492188\n",
      "Train Epoch: 25 [51200/60000 (85%)]\tLoss: 15546.231445\n",
      "Train Epoch: 25 [57600/60000 (96%)]\tLoss: 15008.839844\n",
      "Train Epoch: 26 [0/60000 (0%)]\tLoss: 14569.079102\n",
      "Train Epoch: 26 [6400/60000 (11%)]\tLoss: 14526.423828\n",
      "Train Epoch: 26 [12800/60000 (21%)]\tLoss: 14212.104492\n",
      "Train Epoch: 26 [19200/60000 (32%)]\tLoss: 15100.926758\n",
      "Train Epoch: 26 [25600/60000 (43%)]\tLoss: 14667.270508\n",
      "Train Epoch: 26 [32000/60000 (53%)]\tLoss: 15370.315430\n",
      "Train Epoch: 26 [38400/60000 (64%)]\tLoss: 14257.144531\n",
      "Train Epoch: 26 [44800/60000 (75%)]\tLoss: 14909.265625\n",
      "Train Epoch: 26 [51200/60000 (85%)]\tLoss: 14391.749023\n",
      "Train Epoch: 26 [57600/60000 (96%)]\tLoss: 14501.367188\n",
      "Train Epoch: 27 [0/60000 (0%)]\tLoss: 14883.231445\n",
      "Train Epoch: 27 [6400/60000 (11%)]\tLoss: 14900.175781\n",
      "Train Epoch: 27 [12800/60000 (21%)]\tLoss: 15528.124023\n",
      "Train Epoch: 27 [19200/60000 (32%)]\tLoss: 15364.388672\n",
      "Train Epoch: 27 [25600/60000 (43%)]\tLoss: 15130.396484\n",
      "Train Epoch: 27 [32000/60000 (53%)]\tLoss: 15384.657227\n",
      "Train Epoch: 27 [38400/60000 (64%)]\tLoss: 14194.966797\n",
      "Train Epoch: 27 [44800/60000 (75%)]\tLoss: 14277.721680\n",
      "Train Epoch: 27 [51200/60000 (85%)]\tLoss: 15032.535156\n",
      "Train Epoch: 27 [57600/60000 (96%)]\tLoss: 15609.451172\n",
      "Train Epoch: 28 [0/60000 (0%)]\tLoss: 15437.732422\n",
      "Train Epoch: 28 [6400/60000 (11%)]\tLoss: 15008.915039\n",
      "Train Epoch: 28 [12800/60000 (21%)]\tLoss: 14662.583984\n",
      "Train Epoch: 28 [19200/60000 (32%)]\tLoss: 14698.018555\n",
      "Train Epoch: 28 [25600/60000 (43%)]\tLoss: 14552.006836\n",
      "Train Epoch: 28 [32000/60000 (53%)]\tLoss: 14927.197266\n",
      "Train Epoch: 28 [38400/60000 (64%)]\tLoss: 15342.442383\n",
      "Train Epoch: 28 [44800/60000 (75%)]\tLoss: 14655.119141\n",
      "Train Epoch: 28 [51200/60000 (85%)]\tLoss: 14392.423828\n",
      "Train Epoch: 28 [57600/60000 (96%)]\tLoss: 14842.134766\n",
      "Train Epoch: 29 [0/60000 (0%)]\tLoss: 14284.005859\n",
      "Train Epoch: 29 [6400/60000 (11%)]\tLoss: 14300.052734\n",
      "Train Epoch: 29 [12800/60000 (21%)]\tLoss: 15053.220703\n",
      "Train Epoch: 29 [19200/60000 (32%)]\tLoss: 14368.490234\n",
      "Train Epoch: 29 [25600/60000 (43%)]\tLoss: 14021.820312\n",
      "Train Epoch: 29 [32000/60000 (53%)]\tLoss: 14929.750000\n",
      "Train Epoch: 29 [38400/60000 (64%)]\tLoss: 14851.738281\n",
      "Train Epoch: 29 [44800/60000 (75%)]\tLoss: 14507.636719\n",
      "Train Epoch: 29 [51200/60000 (85%)]\tLoss: 14775.777344\n",
      "Train Epoch: 29 [57600/60000 (96%)]\tLoss: 14237.336914\n",
      "Train Epoch: 30 [0/60000 (0%)]\tLoss: 14564.215820\n",
      "Train Epoch: 30 [6400/60000 (11%)]\tLoss: 14689.232422\n",
      "Train Epoch: 30 [12800/60000 (21%)]\tLoss: 14151.160156\n",
      "Train Epoch: 30 [19200/60000 (32%)]\tLoss: 14754.480469\n",
      "Train Epoch: 30 [25600/60000 (43%)]\tLoss: 14566.500000\n",
      "Train Epoch: 30 [32000/60000 (53%)]\tLoss: 14014.476562\n",
      "Train Epoch: 30 [38400/60000 (64%)]\tLoss: 15071.990234\n",
      "Train Epoch: 30 [44800/60000 (75%)]\tLoss: 14304.740234\n",
      "Train Epoch: 30 [51200/60000 (85%)]\tLoss: 14046.447266\n",
      "Train Epoch: 30 [57600/60000 (96%)]\tLoss: 14587.597656\n"
     ]
    }
   ],
   "source": [
    "for i in embedding_sizes:\n",
    "    print(f\"Starting embiedding {i} training\")\n",
    "    trainers[i].train([optims[i], style_optims[i], emb_optims[i]], num_epochs)"
   ]
  },
  {
   "cell_type": "code",
   "execution_count": 50,
   "metadata": {},
   "outputs": [
    {
     "name": "stdout",
     "output_type": "stream",
     "text": [
      "Training classifier\n",
      "\n",
      "Test set: Average loss: 2.3004, Accuracy: 1103/10000 (11%)\n",
      "\n"
     ]
    }
   ],
   "source": [
    "classify_embedding(embeddings[10], 10)"
   ]
  },
  {
   "cell_type": "code",
   "execution_count": 98,
   "metadata": {},
   "outputs": [],
   "source": [
    "emb_optims = {\n",
    "    i: optim.Adam(embeddings[i].parameters(), lr=1e-3) \n",
    "    for i in embedding_sizes\n",
    "}"
   ]
  },
  {
   "cell_type": "code",
   "execution_count": 99,
   "metadata": {
    "scrolled": true
   },
   "outputs": [
    {
     "name": "stdout",
     "output_type": "stream",
     "text": [
      "Starting embiedding 10 training\n",
      "Train Epoch: 1 [0/60000 (0%)]\tLoss: 14773.952148\n",
      "Train Epoch: 1 [6400/60000 (11%)]\tLoss: 14302.001953\n",
      "Train Epoch: 1 [12800/60000 (21%)]\tLoss: 14762.848633\n",
      "Train Epoch: 1 [19200/60000 (32%)]\tLoss: 14472.882812\n",
      "Train Epoch: 1 [25600/60000 (43%)]\tLoss: 14524.958008\n",
      "Train Epoch: 1 [32000/60000 (53%)]\tLoss: 15159.974609\n",
      "Train Epoch: 1 [38400/60000 (64%)]\tLoss: 14426.279297\n",
      "Train Epoch: 1 [44800/60000 (75%)]\tLoss: 14939.103516\n",
      "Train Epoch: 1 [51200/60000 (85%)]\tLoss: 13584.451172\n",
      "Train Epoch: 1 [57600/60000 (96%)]\tLoss: 13787.490234\n",
      "Train Epoch: 2 [0/60000 (0%)]\tLoss: 14382.017578\n",
      "Train Epoch: 2 [6400/60000 (11%)]\tLoss: 13847.658203\n",
      "Train Epoch: 2 [12800/60000 (21%)]\tLoss: 14290.250000\n",
      "Train Epoch: 2 [19200/60000 (32%)]\tLoss: 13465.966797\n",
      "Train Epoch: 2 [25600/60000 (43%)]\tLoss: 15005.423828\n",
      "Train Epoch: 2 [32000/60000 (53%)]\tLoss: 15806.594727\n",
      "Train Epoch: 2 [38400/60000 (64%)]\tLoss: 14585.838867\n",
      "Train Epoch: 2 [44800/60000 (75%)]\tLoss: 15195.503906\n",
      "Train Epoch: 2 [51200/60000 (85%)]\tLoss: 13866.886719\n",
      "Train Epoch: 2 [57600/60000 (96%)]\tLoss: 14583.578125\n",
      "Train Epoch: 3 [0/60000 (0%)]\tLoss: 14715.418945\n",
      "Train Epoch: 3 [6400/60000 (11%)]\tLoss: 14426.029297\n",
      "Train Epoch: 3 [12800/60000 (21%)]\tLoss: 14638.373047\n",
      "Train Epoch: 3 [19200/60000 (32%)]\tLoss: 14648.721680\n",
      "Train Epoch: 3 [25600/60000 (43%)]\tLoss: 15171.164062\n",
      "Train Epoch: 3 [32000/60000 (53%)]\tLoss: 14426.877930\n",
      "Train Epoch: 3 [38400/60000 (64%)]\tLoss: 14852.653320\n",
      "Train Epoch: 3 [44800/60000 (75%)]\tLoss: 14221.427734\n",
      "Train Epoch: 3 [51200/60000 (85%)]\tLoss: 13767.474609\n",
      "Train Epoch: 3 [57600/60000 (96%)]\tLoss: 14988.818359\n",
      "Train Epoch: 4 [0/60000 (0%)]\tLoss: 14673.450195\n",
      "Train Epoch: 4 [6400/60000 (11%)]\tLoss: 14221.686523\n",
      "Train Epoch: 4 [12800/60000 (21%)]\tLoss: 14719.987305\n",
      "Train Epoch: 4 [19200/60000 (32%)]\tLoss: 14156.282227\n",
      "Train Epoch: 4 [25600/60000 (43%)]\tLoss: 14280.939453\n",
      "Train Epoch: 4 [32000/60000 (53%)]\tLoss: 14607.727539\n",
      "Train Epoch: 4 [38400/60000 (64%)]\tLoss: 14168.947266\n",
      "Train Epoch: 4 [44800/60000 (75%)]\tLoss: 14884.222656\n",
      "Train Epoch: 4 [51200/60000 (85%)]\tLoss: 14518.669922\n",
      "Train Epoch: 4 [57600/60000 (96%)]\tLoss: 15552.945312\n",
      "Train Epoch: 5 [0/60000 (0%)]\tLoss: 14490.939453\n",
      "Train Epoch: 5 [6400/60000 (11%)]\tLoss: 14279.363281\n",
      "Train Epoch: 5 [12800/60000 (21%)]\tLoss: 14884.923828\n",
      "Train Epoch: 5 [19200/60000 (32%)]\tLoss: 14406.291016\n",
      "Train Epoch: 5 [25600/60000 (43%)]\tLoss: 14572.873047\n",
      "Train Epoch: 5 [32000/60000 (53%)]\tLoss: 14882.318359\n",
      "Train Epoch: 5 [38400/60000 (64%)]\tLoss: 13895.571289\n",
      "Train Epoch: 5 [44800/60000 (75%)]\tLoss: 14469.412109\n",
      "Train Epoch: 5 [51200/60000 (85%)]\tLoss: 14639.216797\n",
      "Train Epoch: 5 [57600/60000 (96%)]\tLoss: 14823.720703\n",
      "Train Epoch: 6 [0/60000 (0%)]\tLoss: 14479.443359\n",
      "Train Epoch: 6 [6400/60000 (11%)]\tLoss: 14542.625000\n",
      "Train Epoch: 6 [12800/60000 (21%)]\tLoss: 14829.090820\n",
      "Train Epoch: 6 [19200/60000 (32%)]\tLoss: 14789.669922\n",
      "Train Epoch: 6 [25600/60000 (43%)]\tLoss: 14516.921875\n",
      "Train Epoch: 6 [32000/60000 (53%)]\tLoss: 15168.974609\n",
      "Train Epoch: 6 [38400/60000 (64%)]\tLoss: 15063.234375\n",
      "Train Epoch: 6 [44800/60000 (75%)]\tLoss: 15122.320312\n",
      "Train Epoch: 6 [51200/60000 (85%)]\tLoss: 13778.040039\n",
      "Train Epoch: 6 [57600/60000 (96%)]\tLoss: 14269.630859\n",
      "Train Epoch: 7 [0/60000 (0%)]\tLoss: 14497.105469\n",
      "Train Epoch: 7 [6400/60000 (11%)]\tLoss: 14464.492188\n",
      "Train Epoch: 7 [12800/60000 (21%)]\tLoss: 14393.128906\n",
      "Train Epoch: 7 [19200/60000 (32%)]\tLoss: 14432.506836\n",
      "Train Epoch: 7 [25600/60000 (43%)]\tLoss: 14037.929688\n",
      "Train Epoch: 7 [32000/60000 (53%)]\tLoss: 14638.792969\n",
      "Train Epoch: 7 [38400/60000 (64%)]\tLoss: 15057.223633\n",
      "Train Epoch: 7 [44800/60000 (75%)]\tLoss: 15169.589844\n",
      "Train Epoch: 7 [51200/60000 (85%)]\tLoss: 14695.226562\n",
      "Train Epoch: 7 [57600/60000 (96%)]\tLoss: 14740.131836\n",
      "Train Epoch: 8 [0/60000 (0%)]\tLoss: 15397.469727\n",
      "Train Epoch: 8 [6400/60000 (11%)]\tLoss: 14755.708984\n",
      "Train Epoch: 8 [12800/60000 (21%)]\tLoss: 14570.440430\n",
      "Train Epoch: 8 [19200/60000 (32%)]\tLoss: 14597.011719\n",
      "Train Epoch: 8 [25600/60000 (43%)]\tLoss: 14397.597656\n",
      "Train Epoch: 8 [32000/60000 (53%)]\tLoss: 14562.115234\n",
      "Train Epoch: 8 [38400/60000 (64%)]\tLoss: 15217.951172\n",
      "Train Epoch: 8 [44800/60000 (75%)]\tLoss: 14481.582031\n",
      "Train Epoch: 8 [51200/60000 (85%)]\tLoss: 15280.257812\n",
      "Train Epoch: 8 [57600/60000 (96%)]\tLoss: 14146.926758\n",
      "Train Epoch: 9 [0/60000 (0%)]\tLoss: 14835.819336\n",
      "Train Epoch: 9 [6400/60000 (11%)]\tLoss: 13705.765625\n",
      "Train Epoch: 9 [12800/60000 (21%)]\tLoss: 14003.779297\n",
      "Train Epoch: 9 [19200/60000 (32%)]\tLoss: 14403.992188\n",
      "Train Epoch: 9 [25600/60000 (43%)]\tLoss: 15081.166016\n",
      "Train Epoch: 9 [32000/60000 (53%)]\tLoss: 14137.528320\n",
      "Train Epoch: 9 [38400/60000 (64%)]\tLoss: 14893.484375\n",
      "Train Epoch: 9 [44800/60000 (75%)]\tLoss: 14865.412109\n",
      "Train Epoch: 9 [51200/60000 (85%)]\tLoss: 14613.106445\n",
      "Train Epoch: 9 [57600/60000 (96%)]\tLoss: 14410.385742\n",
      "Train Epoch: 10 [0/60000 (0%)]\tLoss: 15540.698242\n",
      "Train Epoch: 10 [6400/60000 (11%)]\tLoss: 14806.441406\n",
      "Train Epoch: 10 [12800/60000 (21%)]\tLoss: 14336.970703\n",
      "Train Epoch: 10 [19200/60000 (32%)]\tLoss: 14550.265625\n",
      "Train Epoch: 10 [25600/60000 (43%)]\tLoss: 15915.237305\n",
      "Train Epoch: 10 [32000/60000 (53%)]\tLoss: 14800.015625\n",
      "Train Epoch: 10 [38400/60000 (64%)]\tLoss: 14189.574219\n",
      "Train Epoch: 10 [44800/60000 (75%)]\tLoss: 14837.818359\n",
      "Train Epoch: 10 [51200/60000 (85%)]\tLoss: 13955.308594\n",
      "Train Epoch: 10 [57600/60000 (96%)]\tLoss: 15024.024414\n",
      "Train Epoch: 11 [0/60000 (0%)]\tLoss: 14715.916016\n",
      "Train Epoch: 11 [6400/60000 (11%)]\tLoss: 14689.398438\n",
      "Train Epoch: 11 [12800/60000 (21%)]\tLoss: 15061.756836\n",
      "Train Epoch: 11 [19200/60000 (32%)]\tLoss: 14623.040039\n",
      "Train Epoch: 11 [25600/60000 (43%)]\tLoss: 14053.797852\n",
      "Train Epoch: 11 [32000/60000 (53%)]\tLoss: 14018.756836\n",
      "Train Epoch: 11 [38400/60000 (64%)]\tLoss: 14025.207031\n",
      "Train Epoch: 11 [44800/60000 (75%)]\tLoss: 14494.650391\n",
      "Train Epoch: 11 [51200/60000 (85%)]\tLoss: 14327.600586\n",
      "Train Epoch: 11 [57600/60000 (96%)]\tLoss: 14605.466797\n",
      "Train Epoch: 12 [0/60000 (0%)]\tLoss: 14727.992188\n",
      "Train Epoch: 12 [6400/60000 (11%)]\tLoss: 13758.359375\n",
      "Train Epoch: 12 [12800/60000 (21%)]\tLoss: 13883.417969\n",
      "Train Epoch: 12 [19200/60000 (32%)]\tLoss: 15354.753906\n",
      "Train Epoch: 12 [25600/60000 (43%)]\tLoss: 14505.643555\n",
      "Train Epoch: 12 [32000/60000 (53%)]\tLoss: 14821.103516\n",
      "Train Epoch: 12 [38400/60000 (64%)]\tLoss: 14664.707031\n",
      "Train Epoch: 12 [44800/60000 (75%)]\tLoss: 14199.808594\n",
      "Train Epoch: 12 [51200/60000 (85%)]\tLoss: 15031.262695\n",
      "Train Epoch: 12 [57600/60000 (96%)]\tLoss: 14723.387695\n",
      "Train Epoch: 13 [0/60000 (0%)]\tLoss: 14003.898438\n",
      "Train Epoch: 13 [6400/60000 (11%)]\tLoss: 15380.503906\n",
      "Train Epoch: 13 [12800/60000 (21%)]\tLoss: 14406.572266\n",
      "Train Epoch: 13 [19200/60000 (32%)]\tLoss: 14002.503906\n",
      "Train Epoch: 13 [25600/60000 (43%)]\tLoss: 14963.964844\n",
      "Train Epoch: 13 [32000/60000 (53%)]\tLoss: 14774.746094\n",
      "Train Epoch: 13 [38400/60000 (64%)]\tLoss: 14488.539062\n",
      "Train Epoch: 13 [44800/60000 (75%)]\tLoss: 15013.987305\n",
      "Train Epoch: 13 [51200/60000 (85%)]\tLoss: 13370.375000\n",
      "Train Epoch: 13 [57600/60000 (96%)]\tLoss: 13836.341797\n",
      "Train Epoch: 14 [0/60000 (0%)]\tLoss: 14015.267578\n",
      "Train Epoch: 14 [6400/60000 (11%)]\tLoss: 15064.701172\n",
      "Train Epoch: 14 [12800/60000 (21%)]\tLoss: 15067.144531\n",
      "Train Epoch: 14 [19200/60000 (32%)]\tLoss: 14852.887695\n",
      "Train Epoch: 14 [25600/60000 (43%)]\tLoss: 15245.937500\n",
      "Train Epoch: 14 [32000/60000 (53%)]\tLoss: 14338.375977\n",
      "Train Epoch: 14 [38400/60000 (64%)]\tLoss: 14080.496094\n",
      "Train Epoch: 14 [44800/60000 (75%)]\tLoss: 14682.364258\n",
      "Train Epoch: 14 [51200/60000 (85%)]\tLoss: 14079.258789\n",
      "Train Epoch: 14 [57600/60000 (96%)]\tLoss: 15431.956055\n",
      "Train Epoch: 15 [0/60000 (0%)]\tLoss: 14274.852539\n",
      "Train Epoch: 15 [6400/60000 (11%)]\tLoss: 14457.151367\n",
      "Train Epoch: 15 [12800/60000 (21%)]\tLoss: 14905.076172\n",
      "Train Epoch: 15 [19200/60000 (32%)]\tLoss: 14210.599609\n",
      "Train Epoch: 15 [25600/60000 (43%)]\tLoss: 14565.361328\n",
      "Train Epoch: 15 [32000/60000 (53%)]\tLoss: 14951.181641\n",
      "Train Epoch: 15 [38400/60000 (64%)]\tLoss: 14636.358398\n",
      "Train Epoch: 15 [44800/60000 (75%)]\tLoss: 14969.128906\n",
      "Train Epoch: 15 [51200/60000 (85%)]\tLoss: 15055.134766\n",
      "Train Epoch: 15 [57600/60000 (96%)]\tLoss: 14810.626953\n",
      "Train Epoch: 16 [0/60000 (0%)]\tLoss: 14531.740234\n",
      "Train Epoch: 16 [6400/60000 (11%)]\tLoss: 14299.923828\n",
      "Train Epoch: 16 [12800/60000 (21%)]\tLoss: 14441.750000\n",
      "Train Epoch: 16 [19200/60000 (32%)]\tLoss: 14575.832031\n",
      "Train Epoch: 16 [25600/60000 (43%)]\tLoss: 13914.865234\n",
      "Train Epoch: 16 [32000/60000 (53%)]\tLoss: 14048.608398\n",
      "Train Epoch: 16 [38400/60000 (64%)]\tLoss: 14008.632812\n",
      "Train Epoch: 16 [44800/60000 (75%)]\tLoss: 14347.996094\n",
      "Train Epoch: 16 [51200/60000 (85%)]\tLoss: 14883.406250\n",
      "Train Epoch: 16 [57600/60000 (96%)]\tLoss: 14157.117188\n",
      "Train Epoch: 17 [0/60000 (0%)]\tLoss: 15249.727539\n",
      "Train Epoch: 17 [6400/60000 (11%)]\tLoss: 15162.136719\n",
      "Train Epoch: 17 [12800/60000 (21%)]\tLoss: 14194.501953\n",
      "Train Epoch: 17 [19200/60000 (32%)]\tLoss: 14489.587891\n",
      "Train Epoch: 17 [25600/60000 (43%)]\tLoss: 14770.902344\n",
      "Train Epoch: 17 [32000/60000 (53%)]\tLoss: 14448.169922\n",
      "Train Epoch: 17 [38400/60000 (64%)]\tLoss: 14187.147461\n",
      "Train Epoch: 17 [44800/60000 (75%)]\tLoss: 14704.104492\n",
      "Train Epoch: 17 [51200/60000 (85%)]\tLoss: 13690.055664\n",
      "Train Epoch: 17 [57600/60000 (96%)]\tLoss: 14854.579102\n",
      "Train Epoch: 18 [0/60000 (0%)]\tLoss: 14417.018555\n",
      "Train Epoch: 18 [6400/60000 (11%)]\tLoss: 14768.715820\n",
      "Train Epoch: 18 [12800/60000 (21%)]\tLoss: 14929.117188\n",
      "Train Epoch: 18 [19200/60000 (32%)]\tLoss: 14682.433594\n",
      "Train Epoch: 18 [25600/60000 (43%)]\tLoss: 15147.743164\n",
      "Train Epoch: 18 [32000/60000 (53%)]\tLoss: 14109.496094\n",
      "Train Epoch: 18 [38400/60000 (64%)]\tLoss: 14981.815430\n",
      "Train Epoch: 18 [44800/60000 (75%)]\tLoss: 14251.214844\n",
      "Train Epoch: 18 [51200/60000 (85%)]\tLoss: 14491.490234\n",
      "Train Epoch: 18 [57600/60000 (96%)]\tLoss: 14724.900391\n",
      "Train Epoch: 19 [0/60000 (0%)]\tLoss: 15133.078125\n",
      "Train Epoch: 19 [6400/60000 (11%)]\tLoss: 14614.763672\n",
      "Train Epoch: 19 [12800/60000 (21%)]\tLoss: 13629.224609\n",
      "Train Epoch: 19 [19200/60000 (32%)]\tLoss: 13956.678711\n",
      "Train Epoch: 19 [25600/60000 (43%)]\tLoss: 14385.442383\n",
      "Train Epoch: 19 [32000/60000 (53%)]\tLoss: 15212.413086\n",
      "Train Epoch: 19 [38400/60000 (64%)]\tLoss: 14946.507812\n",
      "Train Epoch: 19 [44800/60000 (75%)]\tLoss: 15413.541016\n",
      "Train Epoch: 19 [51200/60000 (85%)]\tLoss: 14173.343750\n",
      "Train Epoch: 19 [57600/60000 (96%)]\tLoss: 14574.035156\n",
      "Train Epoch: 20 [0/60000 (0%)]\tLoss: 14874.904297\n",
      "Train Epoch: 20 [6400/60000 (11%)]\tLoss: 14465.333984\n",
      "Train Epoch: 20 [12800/60000 (21%)]\tLoss: 14383.034180\n",
      "Train Epoch: 20 [19200/60000 (32%)]\tLoss: 14636.089844\n",
      "Train Epoch: 20 [25600/60000 (43%)]\tLoss: 14374.611328\n",
      "Train Epoch: 20 [32000/60000 (53%)]\tLoss: 13809.328125\n",
      "Train Epoch: 20 [38400/60000 (64%)]\tLoss: 14965.771484\n",
      "Train Epoch: 20 [44800/60000 (75%)]\tLoss: 14977.581055\n",
      "Train Epoch: 20 [51200/60000 (85%)]\tLoss: 14169.505859\n",
      "Train Epoch: 20 [57600/60000 (96%)]\tLoss: 14849.605469\n",
      "Train Epoch: 21 [0/60000 (0%)]\tLoss: 13869.279297\n",
      "Train Epoch: 21 [6400/60000 (11%)]\tLoss: 15406.245117\n",
      "Train Epoch: 21 [12800/60000 (21%)]\tLoss: 13815.429688\n",
      "Train Epoch: 21 [19200/60000 (32%)]\tLoss: 14537.531250\n",
      "Train Epoch: 21 [25600/60000 (43%)]\tLoss: 14833.156250\n",
      "Train Epoch: 21 [32000/60000 (53%)]\tLoss: 14054.451172\n",
      "Train Epoch: 21 [38400/60000 (64%)]\tLoss: 13662.132812\n",
      "Train Epoch: 21 [44800/60000 (75%)]\tLoss: 14694.220703\n",
      "Train Epoch: 21 [51200/60000 (85%)]\tLoss: 15208.839844\n",
      "Train Epoch: 21 [57600/60000 (96%)]\tLoss: 14562.792969\n",
      "Train Epoch: 22 [0/60000 (0%)]\tLoss: 14825.281250\n",
      "Train Epoch: 22 [6400/60000 (11%)]\tLoss: 14559.275391\n",
      "Train Epoch: 22 [12800/60000 (21%)]\tLoss: 14457.940430\n",
      "Train Epoch: 22 [19200/60000 (32%)]\tLoss: 14896.437500\n",
      "Train Epoch: 22 [25600/60000 (43%)]\tLoss: 14743.705078\n",
      "Train Epoch: 22 [32000/60000 (53%)]\tLoss: 13625.554688\n",
      "Train Epoch: 22 [38400/60000 (64%)]\tLoss: 14461.125000\n",
      "Train Epoch: 22 [44800/60000 (75%)]\tLoss: 14497.531250\n",
      "Train Epoch: 22 [51200/60000 (85%)]\tLoss: 15016.383789\n",
      "Train Epoch: 22 [57600/60000 (96%)]\tLoss: 14523.624023\n",
      "Train Epoch: 23 [0/60000 (0%)]\tLoss: 14238.460938\n",
      "Train Epoch: 23 [6400/60000 (11%)]\tLoss: 15253.705078\n",
      "Train Epoch: 23 [12800/60000 (21%)]\tLoss: 14261.866211\n",
      "Train Epoch: 23 [19200/60000 (32%)]\tLoss: 13659.620117\n",
      "Train Epoch: 23 [25600/60000 (43%)]\tLoss: 13958.875977\n",
      "Train Epoch: 23 [32000/60000 (53%)]\tLoss: 14870.084961\n",
      "Train Epoch: 23 [38400/60000 (64%)]\tLoss: 14755.787109\n",
      "Train Epoch: 23 [44800/60000 (75%)]\tLoss: 15772.722656\n",
      "Train Epoch: 23 [51200/60000 (85%)]\tLoss: 14226.676758\n",
      "Train Epoch: 23 [57600/60000 (96%)]\tLoss: 14453.671875\n",
      "Train Epoch: 24 [0/60000 (0%)]\tLoss: 14698.324219\n",
      "Train Epoch: 24 [6400/60000 (11%)]\tLoss: 14468.029297\n",
      "Train Epoch: 24 [12800/60000 (21%)]\tLoss: 14487.975586\n",
      "Train Epoch: 24 [19200/60000 (32%)]\tLoss: 14461.118164\n",
      "Train Epoch: 24 [25600/60000 (43%)]\tLoss: 14565.777344\n",
      "Train Epoch: 24 [32000/60000 (53%)]\tLoss: 14258.166016\n",
      "Train Epoch: 24 [38400/60000 (64%)]\tLoss: 14052.455078\n",
      "Train Epoch: 24 [44800/60000 (75%)]\tLoss: 13801.123047\n",
      "Train Epoch: 24 [51200/60000 (85%)]\tLoss: 14744.286133\n",
      "Train Epoch: 24 [57600/60000 (96%)]\tLoss: 14903.466797\n",
      "Train Epoch: 25 [0/60000 (0%)]\tLoss: 14859.654297\n",
      "Train Epoch: 25 [6400/60000 (11%)]\tLoss: 14129.945312\n",
      "Train Epoch: 25 [12800/60000 (21%)]\tLoss: 14763.515625\n",
      "Train Epoch: 25 [19200/60000 (32%)]\tLoss: 14254.636719\n",
      "Train Epoch: 25 [25600/60000 (43%)]\tLoss: 14484.804688\n",
      "Train Epoch: 25 [32000/60000 (53%)]\tLoss: 15013.148438\n",
      "Train Epoch: 25 [38400/60000 (64%)]\tLoss: 14632.412109\n",
      "Train Epoch: 25 [44800/60000 (75%)]\tLoss: 14427.296875\n",
      "Train Epoch: 25 [51200/60000 (85%)]\tLoss: 14563.064453\n",
      "Train Epoch: 25 [57600/60000 (96%)]\tLoss: 14361.199219\n",
      "Train Epoch: 26 [0/60000 (0%)]\tLoss: 14284.583984\n",
      "Train Epoch: 26 [6400/60000 (11%)]\tLoss: 14925.463867\n",
      "Train Epoch: 26 [12800/60000 (21%)]\tLoss: 14036.354492\n",
      "Train Epoch: 26 [19200/60000 (32%)]\tLoss: 14850.669922\n",
      "Train Epoch: 26 [25600/60000 (43%)]\tLoss: 14214.264648\n",
      "Train Epoch: 26 [32000/60000 (53%)]\tLoss: 14366.453125\n",
      "Train Epoch: 26 [38400/60000 (64%)]\tLoss: 14969.408203\n",
      "Train Epoch: 26 [44800/60000 (75%)]\tLoss: 14363.982422\n",
      "Train Epoch: 26 [51200/60000 (85%)]\tLoss: 14641.962891\n",
      "Train Epoch: 26 [57600/60000 (96%)]\tLoss: 15261.132812\n",
      "Train Epoch: 27 [0/60000 (0%)]\tLoss: 14609.207031\n",
      "Train Epoch: 27 [6400/60000 (11%)]\tLoss: 14692.369141\n",
      "Train Epoch: 27 [12800/60000 (21%)]\tLoss: 14343.735352\n",
      "Train Epoch: 27 [19200/60000 (32%)]\tLoss: 14093.523438\n",
      "Train Epoch: 27 [25600/60000 (43%)]\tLoss: 14210.186523\n",
      "Train Epoch: 27 [32000/60000 (53%)]\tLoss: 13546.467773\n",
      "Train Epoch: 27 [38400/60000 (64%)]\tLoss: 14186.994141\n",
      "Train Epoch: 27 [44800/60000 (75%)]\tLoss: 14461.078125\n",
      "Train Epoch: 27 [51200/60000 (85%)]\tLoss: 14065.846680\n",
      "Train Epoch: 27 [57600/60000 (96%)]\tLoss: 14047.313477\n",
      "Train Epoch: 28 [0/60000 (0%)]\tLoss: 14363.867188\n",
      "Train Epoch: 28 [6400/60000 (11%)]\tLoss: 14821.816406\n",
      "Train Epoch: 28 [12800/60000 (21%)]\tLoss: 13649.880859\n",
      "Train Epoch: 28 [19200/60000 (32%)]\tLoss: 13839.903320\n",
      "Train Epoch: 28 [25600/60000 (43%)]\tLoss: 14269.875977\n",
      "Train Epoch: 28 [32000/60000 (53%)]\tLoss: 14650.281250\n",
      "Train Epoch: 28 [38400/60000 (64%)]\tLoss: 14079.931641\n",
      "Train Epoch: 28 [44800/60000 (75%)]\tLoss: 14217.651367\n",
      "Train Epoch: 28 [51200/60000 (85%)]\tLoss: 13992.223633\n",
      "Train Epoch: 28 [57600/60000 (96%)]\tLoss: 13869.328125\n",
      "Train Epoch: 29 [0/60000 (0%)]\tLoss: 13718.762695\n",
      "Train Epoch: 29 [6400/60000 (11%)]\tLoss: 14968.690430\n",
      "Train Epoch: 29 [12800/60000 (21%)]\tLoss: 14621.396484\n",
      "Train Epoch: 29 [19200/60000 (32%)]\tLoss: 13793.234375\n",
      "Train Epoch: 29 [25600/60000 (43%)]\tLoss: 14313.917969\n",
      "Train Epoch: 29 [32000/60000 (53%)]\tLoss: 14434.257812\n",
      "Train Epoch: 29 [38400/60000 (64%)]\tLoss: 14341.601562\n",
      "Train Epoch: 29 [44800/60000 (75%)]\tLoss: 16132.595703\n",
      "Train Epoch: 29 [51200/60000 (85%)]\tLoss: 14619.111328\n",
      "Train Epoch: 29 [57600/60000 (96%)]\tLoss: 13901.055664\n",
      "Train Epoch: 30 [0/60000 (0%)]\tLoss: 14289.009766\n",
      "Train Epoch: 30 [6400/60000 (11%)]\tLoss: 14981.027344\n",
      "Train Epoch: 30 [12800/60000 (21%)]\tLoss: 14268.830078\n",
      "Train Epoch: 30 [19200/60000 (32%)]\tLoss: 14828.669922\n",
      "Train Epoch: 30 [25600/60000 (43%)]\tLoss: 14721.369141\n",
      "Train Epoch: 30 [32000/60000 (53%)]\tLoss: 14400.723633\n",
      "Train Epoch: 30 [38400/60000 (64%)]\tLoss: 14890.969727\n",
      "Train Epoch: 30 [44800/60000 (75%)]\tLoss: 14461.609375\n",
      "Train Epoch: 30 [51200/60000 (85%)]\tLoss: 14860.812500\n",
      "Train Epoch: 30 [57600/60000 (96%)]\tLoss: 14237.735352\n"
     ]
    }
   ],
   "source": [
    "for i in embedding_sizes:\n",
    "    print(f\"Starting embiedding {i} training\")\n",
    "    trainers[i].train([optims[i], style_optims[i], emb_optims[i]], num_epochs)"
   ]
  },
  {
   "cell_type": "code",
   "execution_count": 53,
   "metadata": {},
   "outputs": [
    {
     "name": "stdout",
     "output_type": "stream",
     "text": [
      "Training classifier\n",
      "\n",
      "Test set: Average loss: 2.1071, Accuracy: 3139/10000 (31%)\n",
      "\n"
     ]
    }
   ],
   "source": [
    "classify_embedding(embeddings[10], 10)"
   ]
  },
  {
   "cell_type": "code",
   "execution_count": 100,
   "metadata": {},
   "outputs": [],
   "source": [
    "emb_optims = {\n",
    "    i: optim.Adam(embeddings[i].parameters(), lr=1e-4) \n",
    "    for i in embedding_sizes\n",
    "}"
   ]
  },
  {
   "cell_type": "code",
   "execution_count": 101,
   "metadata": {
    "scrolled": true
   },
   "outputs": [
    {
     "name": "stdout",
     "output_type": "stream",
     "text": [
      "Starting embiedding 10 training\n",
      "Train Epoch: 1 [0/60000 (0%)]\tLoss: 13724.589844\n",
      "Train Epoch: 1 [6400/60000 (11%)]\tLoss: 14270.792969\n",
      "Train Epoch: 1 [12800/60000 (21%)]\tLoss: 13593.997070\n",
      "Train Epoch: 1 [19200/60000 (32%)]\tLoss: 13983.398438\n",
      "Train Epoch: 1 [25600/60000 (43%)]\tLoss: 14475.871094\n",
      "Train Epoch: 1 [32000/60000 (53%)]\tLoss: 14399.638672\n",
      "Train Epoch: 1 [38400/60000 (64%)]\tLoss: 13701.355469\n",
      "Train Epoch: 1 [44800/60000 (75%)]\tLoss: 14118.623047\n",
      "Train Epoch: 1 [51200/60000 (85%)]\tLoss: 14812.285156\n",
      "Train Epoch: 1 [57600/60000 (96%)]\tLoss: 14459.294922\n",
      "Train Epoch: 2 [0/60000 (0%)]\tLoss: 14307.011719\n",
      "Train Epoch: 2 [6400/60000 (11%)]\tLoss: 13970.347656\n",
      "Train Epoch: 2 [12800/60000 (21%)]\tLoss: 14580.886719\n",
      "Train Epoch: 2 [19200/60000 (32%)]\tLoss: 13902.744141\n",
      "Train Epoch: 2 [25600/60000 (43%)]\tLoss: 15054.187500\n",
      "Train Epoch: 2 [32000/60000 (53%)]\tLoss: 13623.019531\n",
      "Train Epoch: 2 [38400/60000 (64%)]\tLoss: 14238.949219\n",
      "Train Epoch: 2 [44800/60000 (75%)]\tLoss: 14412.876953\n",
      "Train Epoch: 2 [51200/60000 (85%)]\tLoss: 13651.844727\n",
      "Train Epoch: 2 [57600/60000 (96%)]\tLoss: 13910.699219\n",
      "Train Epoch: 3 [0/60000 (0%)]\tLoss: 14677.466797\n",
      "Train Epoch: 3 [6400/60000 (11%)]\tLoss: 14962.261719\n",
      "Train Epoch: 3 [12800/60000 (21%)]\tLoss: 14039.132812\n",
      "Train Epoch: 3 [19200/60000 (32%)]\tLoss: 14925.105469\n",
      "Train Epoch: 3 [25600/60000 (43%)]\tLoss: 14593.451172\n",
      "Train Epoch: 3 [32000/60000 (53%)]\tLoss: 14835.572266\n",
      "Train Epoch: 3 [38400/60000 (64%)]\tLoss: 14646.638672\n",
      "Train Epoch: 3 [44800/60000 (75%)]\tLoss: 13882.500977\n",
      "Train Epoch: 3 [51200/60000 (85%)]\tLoss: 14746.907227\n",
      "Train Epoch: 3 [57600/60000 (96%)]\tLoss: 14811.929688\n",
      "Train Epoch: 4 [0/60000 (0%)]\tLoss: 14904.287109\n",
      "Train Epoch: 4 [6400/60000 (11%)]\tLoss: 14633.373047\n",
      "Train Epoch: 4 [12800/60000 (21%)]\tLoss: 14335.966797\n",
      "Train Epoch: 4 [19200/60000 (32%)]\tLoss: 14592.605469\n",
      "Train Epoch: 4 [25600/60000 (43%)]\tLoss: 13839.198242\n",
      "Train Epoch: 4 [32000/60000 (53%)]\tLoss: 13928.172852\n",
      "Train Epoch: 4 [38400/60000 (64%)]\tLoss: 14027.244141\n",
      "Train Epoch: 4 [44800/60000 (75%)]\tLoss: 14398.029297\n",
      "Train Epoch: 4 [51200/60000 (85%)]\tLoss: 14631.051758\n",
      "Train Epoch: 4 [57600/60000 (96%)]\tLoss: 13646.237305\n",
      "Train Epoch: 5 [0/60000 (0%)]\tLoss: 14663.688477\n",
      "Train Epoch: 5 [6400/60000 (11%)]\tLoss: 14626.431641\n",
      "Train Epoch: 5 [12800/60000 (21%)]\tLoss: 13915.095703\n",
      "Train Epoch: 5 [19200/60000 (32%)]\tLoss: 14418.791016\n",
      "Train Epoch: 5 [25600/60000 (43%)]\tLoss: 14206.666016\n",
      "Train Epoch: 5 [32000/60000 (53%)]\tLoss: 13846.942383\n",
      "Train Epoch: 5 [38400/60000 (64%)]\tLoss: 14732.848633\n",
      "Train Epoch: 5 [44800/60000 (75%)]\tLoss: 14334.140625\n",
      "Train Epoch: 5 [51200/60000 (85%)]\tLoss: 14885.227539\n",
      "Train Epoch: 5 [57600/60000 (96%)]\tLoss: 14451.982422\n",
      "Train Epoch: 6 [0/60000 (0%)]\tLoss: 14724.510742\n",
      "Train Epoch: 6 [6400/60000 (11%)]\tLoss: 14221.091797\n",
      "Train Epoch: 6 [12800/60000 (21%)]\tLoss: 14851.984375\n",
      "Train Epoch: 6 [19200/60000 (32%)]\tLoss: 14939.150391\n",
      "Train Epoch: 6 [25600/60000 (43%)]\tLoss: 13891.464844\n",
      "Train Epoch: 6 [32000/60000 (53%)]\tLoss: 14940.619141\n",
      "Train Epoch: 6 [38400/60000 (64%)]\tLoss: 14635.950195\n",
      "Train Epoch: 6 [44800/60000 (75%)]\tLoss: 13811.126953\n",
      "Train Epoch: 6 [51200/60000 (85%)]\tLoss: 14191.703125\n",
      "Train Epoch: 6 [57600/60000 (96%)]\tLoss: 13866.758789\n",
      "Train Epoch: 7 [0/60000 (0%)]\tLoss: 14547.169922\n",
      "Train Epoch: 7 [6400/60000 (11%)]\tLoss: 14176.224609\n",
      "Train Epoch: 7 [12800/60000 (21%)]\tLoss: 14636.228516\n",
      "Train Epoch: 7 [19200/60000 (32%)]\tLoss: 13743.398438\n",
      "Train Epoch: 7 [25600/60000 (43%)]\tLoss: 14158.375000\n",
      "Train Epoch: 7 [32000/60000 (53%)]\tLoss: 14775.074219\n",
      "Train Epoch: 7 [38400/60000 (64%)]\tLoss: 14515.689453\n",
      "Train Epoch: 7 [44800/60000 (75%)]\tLoss: 13973.858398\n",
      "Train Epoch: 7 [51200/60000 (85%)]\tLoss: 14374.755859\n",
      "Train Epoch: 7 [57600/60000 (96%)]\tLoss: 14602.548828\n",
      "Train Epoch: 8 [0/60000 (0%)]\tLoss: 14621.150391\n",
      "Train Epoch: 8 [6400/60000 (11%)]\tLoss: 14141.532227\n",
      "Train Epoch: 8 [12800/60000 (21%)]\tLoss: 14347.000000\n",
      "Train Epoch: 8 [19200/60000 (32%)]\tLoss: 14183.523438\n",
      "Train Epoch: 8 [25600/60000 (43%)]\tLoss: 14266.643555\n",
      "Train Epoch: 8 [32000/60000 (53%)]\tLoss: 15129.375000\n",
      "Train Epoch: 8 [38400/60000 (64%)]\tLoss: 14541.768555\n",
      "Train Epoch: 8 [44800/60000 (75%)]\tLoss: 14231.693359\n",
      "Train Epoch: 8 [51200/60000 (85%)]\tLoss: 14182.519531\n",
      "Train Epoch: 8 [57600/60000 (96%)]\tLoss: 15043.370117\n",
      "Train Epoch: 9 [0/60000 (0%)]\tLoss: 14282.686523\n",
      "Train Epoch: 9 [6400/60000 (11%)]\tLoss: 14668.235352\n",
      "Train Epoch: 9 [12800/60000 (21%)]\tLoss: 14424.380859\n",
      "Train Epoch: 9 [19200/60000 (32%)]\tLoss: 14631.958984\n",
      "Train Epoch: 9 [25600/60000 (43%)]\tLoss: 14333.916016\n",
      "Train Epoch: 9 [32000/60000 (53%)]\tLoss: 14807.539062\n",
      "Train Epoch: 9 [38400/60000 (64%)]\tLoss: 15522.408203\n",
      "Train Epoch: 9 [44800/60000 (75%)]\tLoss: 13768.686523\n",
      "Train Epoch: 9 [51200/60000 (85%)]\tLoss: 14133.501953\n",
      "Train Epoch: 9 [57600/60000 (96%)]\tLoss: 13653.683594\n",
      "Train Epoch: 10 [0/60000 (0%)]\tLoss: 14915.458984\n",
      "Train Epoch: 10 [6400/60000 (11%)]\tLoss: 14089.934570\n",
      "Train Epoch: 10 [12800/60000 (21%)]\tLoss: 14092.238281\n",
      "Train Epoch: 10 [19200/60000 (32%)]\tLoss: 14230.107422\n",
      "Train Epoch: 10 [25600/60000 (43%)]\tLoss: 14218.673828\n",
      "Train Epoch: 10 [32000/60000 (53%)]\tLoss: 14340.242188\n",
      "Train Epoch: 10 [38400/60000 (64%)]\tLoss: 14539.591797\n",
      "Train Epoch: 10 [44800/60000 (75%)]\tLoss: 13843.562500\n",
      "Train Epoch: 10 [51200/60000 (85%)]\tLoss: 14804.281250\n",
      "Train Epoch: 10 [57600/60000 (96%)]\tLoss: 13820.875000\n",
      "Train Epoch: 11 [0/60000 (0%)]\tLoss: 14449.171875\n",
      "Train Epoch: 11 [6400/60000 (11%)]\tLoss: 13616.574219\n",
      "Train Epoch: 11 [12800/60000 (21%)]\tLoss: 14731.605469\n",
      "Train Epoch: 11 [19200/60000 (32%)]\tLoss: 14052.816406\n",
      "Train Epoch: 11 [25600/60000 (43%)]\tLoss: 14164.080078\n",
      "Train Epoch: 11 [32000/60000 (53%)]\tLoss: 14774.175781\n",
      "Train Epoch: 11 [38400/60000 (64%)]\tLoss: 14204.066406\n",
      "Train Epoch: 11 [44800/60000 (75%)]\tLoss: 14628.992188\n",
      "Train Epoch: 11 [51200/60000 (85%)]\tLoss: 14068.603516\n",
      "Train Epoch: 11 [57600/60000 (96%)]\tLoss: 14128.070312\n",
      "Train Epoch: 12 [0/60000 (0%)]\tLoss: 15430.704102\n",
      "Train Epoch: 12 [6400/60000 (11%)]\tLoss: 14448.008789\n",
      "Train Epoch: 12 [12800/60000 (21%)]\tLoss: 14172.656250\n",
      "Train Epoch: 12 [19200/60000 (32%)]\tLoss: 14764.429688\n",
      "Train Epoch: 12 [25600/60000 (43%)]\tLoss: 14169.416016\n",
      "Train Epoch: 12 [32000/60000 (53%)]\tLoss: 14785.687500\n",
      "Train Epoch: 12 [38400/60000 (64%)]\tLoss: 14751.626953\n",
      "Train Epoch: 12 [44800/60000 (75%)]\tLoss: 14143.978516\n",
      "Train Epoch: 12 [51200/60000 (85%)]\tLoss: 14896.749023\n",
      "Train Epoch: 12 [57600/60000 (96%)]\tLoss: 13635.908203\n",
      "Train Epoch: 13 [0/60000 (0%)]\tLoss: 14554.889648\n",
      "Train Epoch: 13 [6400/60000 (11%)]\tLoss: 14011.380859\n",
      "Train Epoch: 13 [12800/60000 (21%)]\tLoss: 14514.701172\n",
      "Train Epoch: 13 [19200/60000 (32%)]\tLoss: 14427.771484\n",
      "Train Epoch: 13 [25600/60000 (43%)]\tLoss: 13855.033203\n",
      "Train Epoch: 13 [32000/60000 (53%)]\tLoss: 13806.039062\n",
      "Train Epoch: 13 [38400/60000 (64%)]\tLoss: 14496.539062\n",
      "Train Epoch: 13 [44800/60000 (75%)]\tLoss: 14221.164062\n",
      "Train Epoch: 13 [51200/60000 (85%)]\tLoss: 13934.792969\n",
      "Train Epoch: 13 [57600/60000 (96%)]\tLoss: 14282.297852\n",
      "Train Epoch: 14 [0/60000 (0%)]\tLoss: 14688.429688\n",
      "Train Epoch: 14 [6400/60000 (11%)]\tLoss: 14615.579102\n",
      "Train Epoch: 14 [12800/60000 (21%)]\tLoss: 14600.607422\n",
      "Train Epoch: 14 [19200/60000 (32%)]\tLoss: 14070.238281\n",
      "Train Epoch: 14 [25600/60000 (43%)]\tLoss: 14928.390625\n",
      "Train Epoch: 14 [32000/60000 (53%)]\tLoss: 14196.305664\n",
      "Train Epoch: 14 [38400/60000 (64%)]\tLoss: 14356.867188\n",
      "Train Epoch: 14 [44800/60000 (75%)]\tLoss: 14795.457031\n",
      "Train Epoch: 14 [51200/60000 (85%)]\tLoss: 14296.658203\n",
      "Train Epoch: 14 [57600/60000 (96%)]\tLoss: 14066.853516\n",
      "Train Epoch: 15 [0/60000 (0%)]\tLoss: 14582.031250\n",
      "Train Epoch: 15 [6400/60000 (11%)]\tLoss: 15421.228516\n",
      "Train Epoch: 15 [12800/60000 (21%)]\tLoss: 14286.777344\n",
      "Train Epoch: 15 [19200/60000 (32%)]\tLoss: 14609.529297\n",
      "Train Epoch: 15 [25600/60000 (43%)]\tLoss: 14508.341797\n",
      "Train Epoch: 15 [32000/60000 (53%)]\tLoss: 14725.115234\n",
      "Train Epoch: 15 [38400/60000 (64%)]\tLoss: 14137.640625\n",
      "Train Epoch: 15 [44800/60000 (75%)]\tLoss: 14228.091797\n",
      "Train Epoch: 15 [51200/60000 (85%)]\tLoss: 13878.152344\n",
      "Train Epoch: 15 [57600/60000 (96%)]\tLoss: 14437.806641\n",
      "Train Epoch: 16 [0/60000 (0%)]\tLoss: 14639.714844\n",
      "Train Epoch: 16 [6400/60000 (11%)]\tLoss: 14607.357422\n",
      "Train Epoch: 16 [12800/60000 (21%)]\tLoss: 14760.246094\n",
      "Train Epoch: 16 [19200/60000 (32%)]\tLoss: 14651.178711\n",
      "Train Epoch: 16 [25600/60000 (43%)]\tLoss: 14788.022461\n",
      "Train Epoch: 16 [32000/60000 (53%)]\tLoss: 14538.617188\n",
      "Train Epoch: 16 [38400/60000 (64%)]\tLoss: 13667.433594\n",
      "Train Epoch: 16 [44800/60000 (75%)]\tLoss: 13620.504883\n",
      "Train Epoch: 16 [51200/60000 (85%)]\tLoss: 14899.689453\n",
      "Train Epoch: 16 [57600/60000 (96%)]\tLoss: 14208.064453\n",
      "Train Epoch: 17 [0/60000 (0%)]\tLoss: 14943.998047\n",
      "Train Epoch: 17 [6400/60000 (11%)]\tLoss: 14350.500977\n",
      "Train Epoch: 17 [12800/60000 (21%)]\tLoss: 13975.201172\n",
      "Train Epoch: 17 [19200/60000 (32%)]\tLoss: 14743.772461\n",
      "Train Epoch: 17 [25600/60000 (43%)]\tLoss: 13745.048828\n",
      "Train Epoch: 17 [32000/60000 (53%)]\tLoss: 14060.062500\n",
      "Train Epoch: 17 [38400/60000 (64%)]\tLoss: 13530.855469\n",
      "Train Epoch: 17 [44800/60000 (75%)]\tLoss: 14604.011719\n",
      "Train Epoch: 17 [51200/60000 (85%)]\tLoss: 15020.533203\n",
      "Train Epoch: 17 [57600/60000 (96%)]\tLoss: 13884.515625\n",
      "Train Epoch: 18 [0/60000 (0%)]\tLoss: 13755.098633\n",
      "Train Epoch: 18 [6400/60000 (11%)]\tLoss: 13951.337891\n",
      "Train Epoch: 18 [12800/60000 (21%)]\tLoss: 14175.740234\n",
      "Train Epoch: 18 [19200/60000 (32%)]\tLoss: 14303.276367\n",
      "Train Epoch: 18 [25600/60000 (43%)]\tLoss: 13439.980469\n",
      "Train Epoch: 18 [32000/60000 (53%)]\tLoss: 14584.874023\n",
      "Train Epoch: 18 [38400/60000 (64%)]\tLoss: 13362.724609\n",
      "Train Epoch: 18 [44800/60000 (75%)]\tLoss: 15275.429688\n",
      "Train Epoch: 18 [51200/60000 (85%)]\tLoss: 14842.134766\n",
      "Train Epoch: 18 [57600/60000 (96%)]\tLoss: 13345.980469\n",
      "Train Epoch: 19 [0/60000 (0%)]\tLoss: 14568.742188\n",
      "Train Epoch: 19 [6400/60000 (11%)]\tLoss: 14696.472656\n",
      "Train Epoch: 19 [12800/60000 (21%)]\tLoss: 14188.902344\n",
      "Train Epoch: 19 [19200/60000 (32%)]\tLoss: 14993.863281\n",
      "Train Epoch: 19 [25600/60000 (43%)]\tLoss: 14698.055664\n",
      "Train Epoch: 19 [32000/60000 (53%)]\tLoss: 14823.734375\n",
      "Train Epoch: 19 [38400/60000 (64%)]\tLoss: 13743.815430\n",
      "Train Epoch: 19 [44800/60000 (75%)]\tLoss: 14139.649414\n",
      "Train Epoch: 19 [51200/60000 (85%)]\tLoss: 13519.757812\n",
      "Train Epoch: 19 [57600/60000 (96%)]\tLoss: 14098.952148\n",
      "Train Epoch: 20 [0/60000 (0%)]\tLoss: 14940.292969\n",
      "Train Epoch: 20 [6400/60000 (11%)]\tLoss: 14076.380859\n",
      "Train Epoch: 20 [12800/60000 (21%)]\tLoss: 14179.151367\n",
      "Train Epoch: 20 [19200/60000 (32%)]\tLoss: 14369.106445\n",
      "Train Epoch: 20 [25600/60000 (43%)]\tLoss: 15013.366211\n",
      "Train Epoch: 20 [32000/60000 (53%)]\tLoss: 13890.564453\n",
      "Train Epoch: 20 [38400/60000 (64%)]\tLoss: 14481.421875\n",
      "Train Epoch: 20 [44800/60000 (75%)]\tLoss: 14517.933594\n",
      "Train Epoch: 20 [51200/60000 (85%)]\tLoss: 14311.500000\n",
      "Train Epoch: 20 [57600/60000 (96%)]\tLoss: 14339.054688\n",
      "Train Epoch: 21 [0/60000 (0%)]\tLoss: 14006.939453\n",
      "Train Epoch: 21 [6400/60000 (11%)]\tLoss: 14794.371094\n",
      "Train Epoch: 21 [12800/60000 (21%)]\tLoss: 14191.984375\n",
      "Train Epoch: 21 [19200/60000 (32%)]\tLoss: 14330.541016\n",
      "Train Epoch: 21 [25600/60000 (43%)]\tLoss: 14244.312500\n",
      "Train Epoch: 21 [32000/60000 (53%)]\tLoss: 15187.955078\n",
      "Train Epoch: 21 [38400/60000 (64%)]\tLoss: 14586.974609\n",
      "Train Epoch: 21 [44800/60000 (75%)]\tLoss: 13914.915039\n",
      "Train Epoch: 21 [51200/60000 (85%)]\tLoss: 14167.578125\n",
      "Train Epoch: 21 [57600/60000 (96%)]\tLoss: 14739.460938\n",
      "Train Epoch: 22 [0/60000 (0%)]\tLoss: 13917.097656\n",
      "Train Epoch: 22 [6400/60000 (11%)]\tLoss: 14246.387695\n",
      "Train Epoch: 22 [12800/60000 (21%)]\tLoss: 14898.916016\n",
      "Train Epoch: 22 [19200/60000 (32%)]\tLoss: 13452.560547\n",
      "Train Epoch: 22 [25600/60000 (43%)]\tLoss: 14036.460938\n",
      "Train Epoch: 22 [32000/60000 (53%)]\tLoss: 14667.711914\n",
      "Train Epoch: 22 [38400/60000 (64%)]\tLoss: 14106.853516\n",
      "Train Epoch: 22 [44800/60000 (75%)]\tLoss: 14121.416016\n",
      "Train Epoch: 22 [51200/60000 (85%)]\tLoss: 14597.222656\n",
      "Train Epoch: 22 [57600/60000 (96%)]\tLoss: 14650.178711\n",
      "Train Epoch: 23 [0/60000 (0%)]\tLoss: 13690.800781\n",
      "Train Epoch: 23 [6400/60000 (11%)]\tLoss: 14476.685547\n",
      "Train Epoch: 23 [12800/60000 (21%)]\tLoss: 13860.564453\n",
      "Train Epoch: 23 [19200/60000 (32%)]\tLoss: 13787.377930\n",
      "Train Epoch: 23 [25600/60000 (43%)]\tLoss: 13848.539062\n",
      "Train Epoch: 23 [32000/60000 (53%)]\tLoss: 14541.833984\n",
      "Train Epoch: 23 [38400/60000 (64%)]\tLoss: 13764.005859\n",
      "Train Epoch: 23 [44800/60000 (75%)]\tLoss: 13494.917969\n",
      "Train Epoch: 23 [51200/60000 (85%)]\tLoss: 14400.661133\n",
      "Train Epoch: 23 [57600/60000 (96%)]\tLoss: 14870.439453\n",
      "Train Epoch: 24 [0/60000 (0%)]\tLoss: 14105.548828\n",
      "Train Epoch: 24 [6400/60000 (11%)]\tLoss: 14396.446289\n",
      "Train Epoch: 24 [12800/60000 (21%)]\tLoss: 13536.680664\n",
      "Train Epoch: 24 [19200/60000 (32%)]\tLoss: 14201.127930\n",
      "Train Epoch: 24 [25600/60000 (43%)]\tLoss: 14733.278320\n",
      "Train Epoch: 24 [32000/60000 (53%)]\tLoss: 13651.859375\n",
      "Train Epoch: 24 [38400/60000 (64%)]\tLoss: 15212.625000\n",
      "Train Epoch: 24 [44800/60000 (75%)]\tLoss: 14122.181641\n",
      "Train Epoch: 24 [51200/60000 (85%)]\tLoss: 14832.042969\n",
      "Train Epoch: 24 [57600/60000 (96%)]\tLoss: 14988.164062\n",
      "Train Epoch: 25 [0/60000 (0%)]\tLoss: 14422.415039\n",
      "Train Epoch: 25 [6400/60000 (11%)]\tLoss: 13219.877930\n",
      "Train Epoch: 25 [12800/60000 (21%)]\tLoss: 14490.234375\n",
      "Train Epoch: 25 [19200/60000 (32%)]\tLoss: 13614.767578\n",
      "Train Epoch: 25 [25600/60000 (43%)]\tLoss: 13684.576172\n",
      "Train Epoch: 25 [32000/60000 (53%)]\tLoss: 13855.123047\n",
      "Train Epoch: 25 [38400/60000 (64%)]\tLoss: 13935.327148\n",
      "Train Epoch: 25 [44800/60000 (75%)]\tLoss: 14574.947266\n",
      "Train Epoch: 25 [51200/60000 (85%)]\tLoss: 14733.445312\n",
      "Train Epoch: 25 [57600/60000 (96%)]\tLoss: 14513.183594\n",
      "Train Epoch: 26 [0/60000 (0%)]\tLoss: 14643.531250\n",
      "Train Epoch: 26 [6400/60000 (11%)]\tLoss: 13888.832031\n",
      "Train Epoch: 26 [12800/60000 (21%)]\tLoss: 14126.524414\n",
      "Train Epoch: 26 [19200/60000 (32%)]\tLoss: 14452.481445\n",
      "Train Epoch: 26 [25600/60000 (43%)]\tLoss: 15114.375977\n",
      "Train Epoch: 26 [32000/60000 (53%)]\tLoss: 13705.035156\n",
      "Train Epoch: 26 [38400/60000 (64%)]\tLoss: 14685.607422\n",
      "Train Epoch: 26 [44800/60000 (75%)]\tLoss: 14179.099609\n",
      "Train Epoch: 26 [51200/60000 (85%)]\tLoss: 14187.386719\n",
      "Train Epoch: 26 [57600/60000 (96%)]\tLoss: 14054.925781\n",
      "Train Epoch: 27 [0/60000 (0%)]\tLoss: 15060.477539\n",
      "Train Epoch: 27 [6400/60000 (11%)]\tLoss: 15117.773438\n",
      "Train Epoch: 27 [12800/60000 (21%)]\tLoss: 14360.921875\n",
      "Train Epoch: 27 [19200/60000 (32%)]\tLoss: 14968.441406\n",
      "Train Epoch: 27 [25600/60000 (43%)]\tLoss: 14418.463867\n",
      "Train Epoch: 27 [32000/60000 (53%)]\tLoss: 14231.471680\n",
      "Train Epoch: 27 [38400/60000 (64%)]\tLoss: 14472.519531\n",
      "Train Epoch: 27 [44800/60000 (75%)]\tLoss: 13712.785156\n",
      "Train Epoch: 27 [51200/60000 (85%)]\tLoss: 13968.855469\n",
      "Train Epoch: 27 [57600/60000 (96%)]\tLoss: 14395.531250\n",
      "Train Epoch: 28 [0/60000 (0%)]\tLoss: 13942.515625\n",
      "Train Epoch: 28 [6400/60000 (11%)]\tLoss: 14043.642578\n",
      "Train Epoch: 28 [12800/60000 (21%)]\tLoss: 14586.363281\n",
      "Train Epoch: 28 [19200/60000 (32%)]\tLoss: 14403.157227\n",
      "Train Epoch: 28 [25600/60000 (43%)]\tLoss: 14351.549805\n",
      "Train Epoch: 28 [32000/60000 (53%)]\tLoss: 14126.749023\n",
      "Train Epoch: 28 [38400/60000 (64%)]\tLoss: 14007.669922\n",
      "Train Epoch: 28 [44800/60000 (75%)]\tLoss: 13740.935547\n",
      "Train Epoch: 28 [51200/60000 (85%)]\tLoss: 14807.995117\n",
      "Train Epoch: 28 [57600/60000 (96%)]\tLoss: 14480.500000\n",
      "Train Epoch: 29 [0/60000 (0%)]\tLoss: 14395.225586\n",
      "Train Epoch: 29 [6400/60000 (11%)]\tLoss: 15412.537109\n",
      "Train Epoch: 29 [12800/60000 (21%)]\tLoss: 13573.953125\n",
      "Train Epoch: 29 [19200/60000 (32%)]\tLoss: 13549.121094\n",
      "Train Epoch: 29 [25600/60000 (43%)]\tLoss: 14113.319336\n",
      "Train Epoch: 29 [32000/60000 (53%)]\tLoss: 14630.583984\n",
      "Train Epoch: 29 [38400/60000 (64%)]\tLoss: 14111.689453\n",
      "Train Epoch: 29 [44800/60000 (75%)]\tLoss: 14736.503906\n",
      "Train Epoch: 29 [51200/60000 (85%)]\tLoss: 14523.023438\n",
      "Train Epoch: 29 [57600/60000 (96%)]\tLoss: 14423.105469\n",
      "Train Epoch: 30 [0/60000 (0%)]\tLoss: 14415.462891\n",
      "Train Epoch: 30 [6400/60000 (11%)]\tLoss: 14325.908203\n",
      "Train Epoch: 30 [12800/60000 (21%)]\tLoss: 13946.646484\n",
      "Train Epoch: 30 [19200/60000 (32%)]\tLoss: 14321.966797\n",
      "Train Epoch: 30 [25600/60000 (43%)]\tLoss: 14687.953125\n",
      "Train Epoch: 30 [32000/60000 (53%)]\tLoss: 14456.679688\n",
      "Train Epoch: 30 [38400/60000 (64%)]\tLoss: 14214.734375\n",
      "Train Epoch: 30 [44800/60000 (75%)]\tLoss: 14128.625000\n",
      "Train Epoch: 30 [51200/60000 (85%)]\tLoss: 14106.919922\n",
      "Train Epoch: 30 [57600/60000 (96%)]\tLoss: 14365.554688\n"
     ]
    }
   ],
   "source": [
    "for i in embedding_sizes:\n",
    "    print(f\"Starting embiedding {i} training\")\n",
    "    trainers[i].train([optims[i], style_optims[i], emb_optims[i]], num_epochs)"
   ]
  },
  {
   "cell_type": "code",
   "execution_count": 247,
   "metadata": {},
   "outputs": [
    {
     "name": "stdout",
     "output_type": "stream",
     "text": [
      "Model serialized as models/PixelCNN_embedding/pretrained_reconstructor/PixelCNN_embedding_with_softmax_on_pretrained_reconstructor_training_all_modelsGatedPixelCNN_2020-08-18_20:39:29.pkl\n"
     ]
    }
   ],
   "source": [
    "trainers[10].serialization_path=\"models/PixelCNN_embedding/pretrained_reconstructor/\"\n",
    "trainers[10].serialization_filename=f\"PixelCNN_embedding_with_softmax_on_pretrained_reconstructor_training_all_models\"\n",
    "trainers[10].serialize([optims[10], style_optims[10], emb_optims[10]])"
   ]
  },
  {
   "cell_type": "code",
   "execution_count": 59,
   "metadata": {},
   "outputs": [],
   "source": [
    "rec_losses = {\n",
    "    i: [r.mean().item() for r in trainers[i].recon_losses] for i in embedding_sizes\n",
    "}"
   ]
  },
  {
   "cell_type": "code",
   "execution_count": 60,
   "metadata": {},
   "outputs": [
    {
     "name": "stdout",
     "output_type": "stream",
     "text": [
      "10 0.26923030614852905 450\n"
     ]
    }
   ],
   "source": [
    "for i, r in rec_losses.items():\n",
    "    print(i, r[-1], len(r))"
   ]
  },
  {
   "cell_type": "code",
   "execution_count": 61,
   "metadata": {},
   "outputs": [
    {
     "data": {
      "text/plain": [
       "<matplotlib.legend.Legend at 0x7fc878524d90>"
      ]
     },
     "execution_count": 61,
     "metadata": {},
     "output_type": "execute_result"
    },
    {
     "data": {
      "image/png": "[encoded data removed]",
      "text/plain": [
       "<Figure size 1296x720 with 1 Axes>"
      ]
     },
     "metadata": {
      "needs_background": "light"
     },
     "output_type": "display_data"
    }
   ],
   "source": [
    "fig = plt.figure(figsize=(18,10))\n",
    "for s in embedding_sizes:\n",
    "    plt.plot(np.arange(len(rec_losses[s]) - 10), rec_losses[s][10:], label=f\"Embedding size = {s}\")\n",
    "plt.legend()"
   ]
  },
  {
   "cell_type": "code",
   "execution_count": 27,
   "metadata": {},
   "outputs": [],
   "source": [
    "models_path = \"models/PixelCNN_embedding\"\n",
    "model_file_tpl = \"PixelCNN_embedding_dim_{}_with_softmax_full_dataset_averaged_style_inputs_8\""
   ]
  },
  {
   "cell_type": "code",
   "execution_count": 267,
   "metadata": {},
   "outputs": [],
   "source": [
    "models_path = \"models/PixelCNN_embedding/pretrained_reconstructor\"\n",
    "model_file_tpl = \"PixelCNN_embedding__with_softmax_on_pretrained_reconstructor_and_one_hot_embeddingGatedPixelCNN_2020-08-18_18:31:36.pkl\""
   ]
  },
  {
   "cell_type": "code",
   "execution_count": 272,
   "metadata": {},
   "outputs": [],
   "source": [
    "models_files = os.listdir(models_path)"
   ]
  },
  {
   "cell_type": "code",
   "execution_count": 269,
   "metadata": {},
   "outputs": [
    {
     "data": {
      "text/plain": [
       "['PixelCNN_embedding__with_softmax_on_pretrained_reconstructor_and_one_hot_embeddingGatedPixelCNN_2020-08-18_18:31:36.pkl']"
      ]
     },
     "execution_count": 269,
     "metadata": {},
     "output_type": "execute_result"
    }
   ],
   "source": [
    "[file for file in models_files if file.startswith(model_file_tpl.format(10))]"
   ]
  },
  {
   "cell_type": "code",
   "execution_count": 273,
   "metadata": {},
   "outputs": [],
   "source": [
    "training_iter = 0"
   ]
  },
  {
   "cell_type": "code",
   "execution_count": 281,
   "metadata": {},
   "outputs": [],
   "source": [
    "for size in embedding_sizes:\n",
    "    model_files = [file for file in models_files if file.startswith(model_file_tpl.format(size))]\n",
    "    model_files.sort()\n",
    "    model_filepath = os.path.join(models_path, model_files[training_iter])\n",
    "    checkpoint = torch.load(model_filepath)\n",
    "    models[size].load_state_dict(checkpoint['model_state_dict'])\n",
    "    style_models[size].load_state_dict(checkpoint['style_model_state_dict'])\n",
    "    optims[size].load_state_dict(checkpoint['optimizer_0'])\n",
    "    style_optims[size].load_state_dict(checkpoint['optimizer_1'])\n",
    "    trainers[size].recon_losses = checkpoint['recon_losses']\n",
    "    \n",
    "    emb_optims[size].load_state_dict(checkpoint['optimizer_2'])\n",
    "    embeddings[size].load_state_dict(checkpoint['embedding'])"
   ]
  },
  {
   "cell_type": "markdown",
   "metadata": {},
   "source": [
    "## Embedding classifier"
   ]
  },
  {
   "cell_type": "code",
   "execution_count": 49,
   "metadata": {},
   "outputs": [],
   "source": [
    "def classify_embedding(embedding, epochs=6):\n",
    "    classifier = nn.Sequential(\n",
    "        nn.Linear(10, 128),\n",
    "        nn.ReLU(),\n",
    "        nn.Linear(128, 10),\n",
    "        nn.LogSoftmax(dim=-1),\n",
    "    ).to(device)\n",
    "    train_set = embedded.EmbeddingDataset(embedding, qmnist_full_train_set, (0,50000))\n",
    "    test_set = embedded.EmbeddingDataset(embedding, qmnist_full_train_set, (50000, 60000))\n",
    "    train_loader = torch.utils.data.DataLoader(train_set, batch_size=64, num_workers=1, shuffle=True)\n",
    "    test_loader = torch.utils.data.DataLoader(test_set, batch_size=64, num_workers=1, shuffle=False)\n",
    "    criterion = nn.NLLLoss()\n",
    "    classifier_optim = optim.SGD(classifier.parameters(), lr=1e-3, momentum=0.9)\n",
    "    print(\"Training classifier\")\n",
    "    train_embedding_classifier(classifier, criterion, classifier_optim, train_loader, epochs, verbose=False)\n",
    "    test_embedding_classifier(classifier, test_loader)\n",
    "    "
   ]
  },
  {
   "cell_type": "code",
   "execution_count": 102,
   "metadata": {},
   "outputs": [],
   "source": [
    "embedding_classifiers = {\n",
    "    i: nn.Sequential(\n",
    "        nn.Linear(i, 128),\n",
    "        nn.ReLU(),\n",
    "        nn.Linear(128, 10),\n",
    "        nn.LogSoftmax(dim=-1),\n",
    "    ).to(device)\n",
    "    for i in embedding_sizes\n",
    "}"
   ]
  },
  {
   "cell_type": "code",
   "execution_count": 103,
   "metadata": {},
   "outputs": [],
   "source": [
    "embedding_train_sets = {\n",
    "    i: embedded.EmbeddingDataset(embeddings[i], qmnist_full_train_set, (0,50000))\n",
    "    for i in embedding_sizes\n",
    "}\n",
    "\n",
    "embedding_test_sets = {\n",
    "    i: embedded.EmbeddingDataset(embeddings[i], qmnist_full_train_set, (50000, 60000))\n",
    "    for i in embedding_sizes\n",
    "}"
   ]
  },
  {
   "cell_type": "code",
   "execution_count": 104,
   "metadata": {},
   "outputs": [],
   "source": [
    "embedding_train_loaders = {\n",
    "    i: torch.utils.data.DataLoader(embedding_train_sets[i], batch_size=64, num_workers=1, shuffle=True)\n",
    "    for i in embedding_sizes\n",
    "}\n",
    "embedding_test_loaders = {\n",
    "    i: torch.utils.data.DataLoader(embedding_test_sets[i], batch_size=64, num_workers=1, shuffle=False)   \n",
    "    for i in embedding_sizes\n",
    "}"
   ]
  },
  {
   "cell_type": "code",
   "execution_count": 105,
   "metadata": {},
   "outputs": [],
   "source": [
    "criterions = {\n",
    "    i: nn.NLLLoss()\n",
    "    for i in embedding_sizes\n",
    "}\n",
    "embedding_classifier_optims = {\n",
    "    i: optim.SGD(embedding_classifiers[i].parameters(), lr=1e-3, momentum=0.9)\n",
    "    for i in embedding_sizes\n",
    "}"
   ]
  },
  {
   "cell_type": "code",
   "execution_count": 106,
   "metadata": {},
   "outputs": [],
   "source": [
    "classifier_training_epochs = 20"
   ]
  },
  {
   "cell_type": "code",
   "execution_count": 107,
   "metadata": {},
   "outputs": [],
   "source": [
    "def train_embedding_classifier(\n",
    "    classifier, criterion, classifier_optim, embedding_loader, epochs, verbose=True\n",
    "):\n",
    "    classifier.train()\n",
    "    for epoch in range(epochs):\n",
    "        for batch_num, data in enumerate(embedding_loader):\n",
    "            inputs, labels = data\n",
    "            inputs, labels = inputs.to(device), labels.to(device)\n",
    "            classifier_optim.zero_grad()\n",
    "            outputs = classifier(inputs)\n",
    "            loss = criterion(outputs, labels)\n",
    "            loss.backward()\n",
    "            classifier_optim.step()\n",
    "            if verbose and batch_num % 250 == 0:\n",
    "                print(\n",
    "                    f\"Train Epoch: {epoch} [{batch_num * embedding_loader.batch_size}/{len(embedding_loader.dataset)}\"\n",
    "                    f\"({100.0 * batch_num / len(embedding_loader):.0f}%)]\\tLoss: {loss.item():.6f}\"\n",
    "                )"
   ]
  },
  {
   "cell_type": "code",
   "execution_count": 108,
   "metadata": {
    "scrolled": true
   },
   "outputs": [
    {
     "name": "stdout",
     "output_type": "stream",
     "text": [
      "Training embedding classifier 10\n",
      "Train Epoch: 0 [0/50000(0%)]\tLoss: 2.334877\n",
      "Train Epoch: 0 [16000/50000(32%)]\tLoss: 2.295635\n",
      "Train Epoch: 0 [32000/50000(64%)]\tLoss: 2.285915\n",
      "Train Epoch: 0 [48000/50000(96%)]\tLoss: 2.298007\n",
      "Train Epoch: 1 [0/50000(0%)]\tLoss: 2.284485\n",
      "Train Epoch: 1 [16000/50000(32%)]\tLoss: 2.283334\n",
      "Train Epoch: 1 [32000/50000(64%)]\tLoss: 2.273252\n",
      "Train Epoch: 1 [48000/50000(96%)]\tLoss: 2.278849\n",
      "Train Epoch: 2 [0/50000(0%)]\tLoss: 2.261681\n",
      "Train Epoch: 2 [16000/50000(32%)]\tLoss: 2.278574\n",
      "Train Epoch: 2 [32000/50000(64%)]\tLoss: 2.247516\n",
      "Train Epoch: 2 [48000/50000(96%)]\tLoss: 2.249205\n",
      "Train Epoch: 3 [0/50000(0%)]\tLoss: 2.257695\n",
      "Train Epoch: 3 [16000/50000(32%)]\tLoss: 2.277343\n",
      "Train Epoch: 3 [32000/50000(64%)]\tLoss: 2.233829\n",
      "Train Epoch: 3 [48000/50000(96%)]\tLoss: 2.239407\n",
      "Train Epoch: 4 [0/50000(0%)]\tLoss: 2.205982\n",
      "Train Epoch: 4 [16000/50000(32%)]\tLoss: 2.204898\n",
      "Train Epoch: 4 [32000/50000(64%)]\tLoss: 2.210482\n",
      "Train Epoch: 4 [48000/50000(96%)]\tLoss: 2.220491\n",
      "Train Epoch: 5 [0/50000(0%)]\tLoss: 2.171489\n",
      "Train Epoch: 5 [16000/50000(32%)]\tLoss: 2.247519\n",
      "Train Epoch: 5 [32000/50000(64%)]\tLoss: 2.201459\n",
      "Train Epoch: 5 [48000/50000(96%)]\tLoss: 2.209041\n",
      "Train Epoch: 6 [0/50000(0%)]\tLoss: 2.158406\n",
      "Train Epoch: 6 [16000/50000(32%)]\tLoss: 2.171706\n",
      "Train Epoch: 6 [32000/50000(64%)]\tLoss: 2.162635\n",
      "Train Epoch: 6 [48000/50000(96%)]\tLoss: 2.147512\n",
      "Train Epoch: 7 [0/50000(0%)]\tLoss: 2.161797\n",
      "Train Epoch: 7 [16000/50000(32%)]\tLoss: 2.183563\n",
      "Train Epoch: 7 [32000/50000(64%)]\tLoss: 2.119010\n",
      "Train Epoch: 7 [48000/50000(96%)]\tLoss: 2.169060\n",
      "Train Epoch: 8 [0/50000(0%)]\tLoss: 2.109685\n",
      "Train Epoch: 8 [16000/50000(32%)]\tLoss: 2.157458\n",
      "Train Epoch: 8 [32000/50000(64%)]\tLoss: 2.129394\n",
      "Train Epoch: 8 [48000/50000(96%)]\tLoss: 2.125638\n",
      "Train Epoch: 9 [0/50000(0%)]\tLoss: 2.098243\n",
      "Train Epoch: 9 [16000/50000(32%)]\tLoss: 2.063447\n",
      "Train Epoch: 9 [32000/50000(64%)]\tLoss: 2.082173\n",
      "Train Epoch: 9 [48000/50000(96%)]\tLoss: 2.026408\n",
      "Train Epoch: 10 [0/50000(0%)]\tLoss: 2.096546\n",
      "Train Epoch: 10 [16000/50000(32%)]\tLoss: 2.023491\n",
      "Train Epoch: 10 [32000/50000(64%)]\tLoss: 2.001904\n",
      "Train Epoch: 10 [48000/50000(96%)]\tLoss: 2.021790\n",
      "Train Epoch: 11 [0/50000(0%)]\tLoss: 2.041500\n",
      "Train Epoch: 11 [16000/50000(32%)]\tLoss: 2.132050\n",
      "Train Epoch: 11 [32000/50000(64%)]\tLoss: 1.997679\n",
      "Train Epoch: 11 [48000/50000(96%)]\tLoss: 2.110535\n",
      "Train Epoch: 12 [0/50000(0%)]\tLoss: 2.107004\n",
      "Train Epoch: 12 [16000/50000(32%)]\tLoss: 1.932469\n",
      "Train Epoch: 12 [32000/50000(64%)]\tLoss: 1.973815\n",
      "Train Epoch: 12 [48000/50000(96%)]\tLoss: 2.072879\n",
      "Train Epoch: 13 [0/50000(0%)]\tLoss: 1.997970\n",
      "Train Epoch: 13 [16000/50000(32%)]\tLoss: 2.026285\n",
      "Train Epoch: 13 [32000/50000(64%)]\tLoss: 1.946557\n",
      "Train Epoch: 13 [48000/50000(96%)]\tLoss: 1.902197\n",
      "Train Epoch: 14 [0/50000(0%)]\tLoss: 1.964446\n",
      "Train Epoch: 14 [16000/50000(32%)]\tLoss: 1.929071\n",
      "Train Epoch: 14 [32000/50000(64%)]\tLoss: 1.962109\n",
      "Train Epoch: 14 [48000/50000(96%)]\tLoss: 1.999427\n",
      "Train Epoch: 15 [0/50000(0%)]\tLoss: 1.922121\n",
      "Train Epoch: 15 [16000/50000(32%)]\tLoss: 2.051883\n",
      "Train Epoch: 15 [32000/50000(64%)]\tLoss: 1.943058\n",
      "Train Epoch: 15 [48000/50000(96%)]\tLoss: 1.972463\n",
      "Train Epoch: 16 [0/50000(0%)]\tLoss: 1.874364\n",
      "Train Epoch: 16 [16000/50000(32%)]\tLoss: 1.917726\n",
      "Train Epoch: 16 [32000/50000(64%)]\tLoss: 1.938821\n",
      "Train Epoch: 16 [48000/50000(96%)]\tLoss: 2.097811\n",
      "Train Epoch: 17 [0/50000(0%)]\tLoss: 1.931492\n",
      "Train Epoch: 17 [16000/50000(32%)]\tLoss: 1.954972\n",
      "Train Epoch: 17 [32000/50000(64%)]\tLoss: 1.851396\n",
      "Train Epoch: 17 [48000/50000(96%)]\tLoss: 1.990023\n",
      "Train Epoch: 18 [0/50000(0%)]\tLoss: 1.961030\n",
      "Train Epoch: 18 [16000/50000(32%)]\tLoss: 1.949802\n",
      "Train Epoch: 18 [32000/50000(64%)]\tLoss: 2.029251\n",
      "Train Epoch: 18 [48000/50000(96%)]\tLoss: 1.924438\n",
      "Train Epoch: 19 [0/50000(0%)]\tLoss: 1.894122\n",
      "Train Epoch: 19 [16000/50000(32%)]\tLoss: 2.110044\n",
      "Train Epoch: 19 [32000/50000(64%)]\tLoss: 1.985810\n",
      "Train Epoch: 19 [48000/50000(96%)]\tLoss: 1.894952\n"
     ]
    }
   ],
   "source": [
    "for i in embedding_sizes:\n",
    "    print(f\"Training embedding classifier {i}\")\n",
    "    train_embedding_classifier(\n",
    "        embedding_classifiers[i],\n",
    "        criterions[i],\n",
    "        embedding_classifier_optims[i],\n",
    "        embedding_train_loaders[i],\n",
    "        classifier_training_epochs,\n",
    "    )"
   ]
  },
  {
   "cell_type": "code",
   "execution_count": 109,
   "metadata": {},
   "outputs": [],
   "source": [
    "def test_embedding_classifier(model, test_loader):\n",
    "    model.eval()\n",
    "    test_loss = 0\n",
    "    correct = 0\n",
    "    with torch.no_grad():\n",
    "        for data, target in test_loader:\n",
    "            data, target = data.to(device), target.to(device)\n",
    "            output = model(data)\n",
    "            test_loss += F.nll_loss(output, target, reduction='sum').item()  # sum up batch loss\n",
    "            pred = output.argmax(dim=1, keepdim=True)  # get the index of the max log-probability\n",
    "            correct += pred.eq(target.view_as(pred)).sum().item()\n",
    "\n",
    "    test_loss /= len(test_loader.dataset)\n",
    "\n",
    "    print('\\nTest set: Average loss: {:.4f}, Accuracy: {}/{} ({:.0f}%)\\n'.format(\n",
    "        test_loss, correct, len(test_loader.dataset),\n",
    "        100. * correct / len(test_loader.dataset)))"
   ]
  },
  {
   "cell_type": "code",
   "execution_count": 110,
   "metadata": {},
   "outputs": [
    {
     "name": "stdout",
     "output_type": "stream",
     "text": [
      "Testing size 10\n",
      "\n",
      "Test set: Average loss: 1.9227, Accuracy: 3315/10000 (33%)\n",
      "\n"
     ]
    }
   ],
   "source": [
    "for i in embedding_sizes:\n",
    "    print(f\"Testing size {i}\")\n",
    "    test_embedding_classifier(embedding_classifiers[i], embedding_test_loaders[i])"
   ]
  },
  {
   "cell_type": "code",
   "execution_count": 266,
   "metadata": {},
   "outputs": [
    {
     "name": "stdout",
     "output_type": "stream",
     "text": [
      "10 0.2811899483203888\n"
     ]
    }
   ],
   "source": [
    "#BEFORE EMBEDDING TRAINING\n",
    "for size in embedding_sizes:\n",
    "    trainers[size].eval_mode()\n",
    "    recs = trainers[size].test_model_reconstruction(10000)\n",
    "    print(size, recs.mean().item())"
   ]
  },
  {
   "cell_type": "code",
   "execution_count": 258,
   "metadata": {},
   "outputs": [
    {
     "name": "stdout",
     "output_type": "stream",
     "text": [
      "10 0.28088948130607605\n"
     ]
    }
   ],
   "source": [
    "#EMBEDDING DEFAULT INIT, ALL MODEL TRAINED\n",
    "for size in embedding_sizes:\n",
    "    trainers[size].eval_mode()\n",
    "    recs = trainers[size].test_model_reconstruction(10000)\n",
    "    print(size, recs.mean().item())"
   ]
  },
  {
   "cell_type": "code",
   "execution_count": 139,
   "metadata": {},
   "outputs": [
    {
     "name": "stdout",
     "output_type": "stream",
     "text": [
      "10 0.29314103722572327\n"
     ]
    }
   ],
   "source": [
    "#EMBEDDINGS (DEFAULT INIT) TRAINED, NO PIXELCNN/STYLE MODEL OPTIMIZING\n",
    "for size in embedding_sizes:\n",
    "    trainers[size].eval_mode()\n",
    "    recs = trainers[size].test_model_reconstruction(10000)\n",
    "    print(size, recs.mean().item())"
   ]
  },
  {
   "cell_type": "code",
   "execution_count": 201,
   "metadata": {},
   "outputs": [
    {
     "name": "stdout",
     "output_type": "stream",
     "text": [
      "10 0.2661597728729248\n"
     ]
    }
   ],
   "source": [
    "#EMBEDDINGS (ONE HOT INIT) TRAINED, NO PIXELCNN/STYLE MODEL OPTIMIZING\n",
    "for size in embedding_sizes:\n",
    "    trainers[size].eval_mode()\n",
    "    recs = trainers[size].test_model_reconstruction(10000)\n",
    "    print(size, recs.mean().item())"
   ]
  },
  {
   "cell_type": "code",
   "execution_count": 62,
   "metadata": {},
   "outputs": [
    {
     "name": "stdout",
     "output_type": "stream",
     "text": [
      "10 0.2640013098716736\n"
     ]
    }
   ],
   "source": [
    "# 02-09-2020\n",
    "#EMBEDDINGS INITIALIZED AS SOFTMAXED ONE HOT, TRAINED THE SAME WAY BEFORE \n",
    "for size in embedding_sizes:\n",
    "    trainers[size].eval_mode()\n",
    "    recs = trainers[size].test_model_reconstruction(10000)\n",
    "    print(size, recs.mean().item())"
   ]
  },
  {
   "cell_type": "markdown",
   "metadata": {},
   "source": [
    "## Cond exploring"
   ]
  },
  {
   "cell_type": "code",
   "execution_count": 63,
   "metadata": {},
   "outputs": [],
   "source": [
    "batch = next(iter(train_loader))"
   ]
  },
  {
   "cell_type": "code",
   "execution_count": 64,
   "metadata": {},
   "outputs": [],
   "source": [
    "style, cond = trainers[10].get_conditioning(batch)"
   ]
  },
  {
   "cell_type": "code",
   "execution_count": 65,
   "metadata": {},
   "outputs": [
    {
     "data": {
      "text/plain": [
       "tensor([4, 4, 9, 1, 2, 5, 1, 7, 2, 9, 0, 5, 2, 6, 1, 4, 1, 6, 0, 5, 6, 1, 0, 1,\n",
       "        1, 1, 6, 5, 8, 7, 7, 9, 3, 5, 4, 2, 1, 2, 6, 3, 5, 7, 0, 7, 2, 1, 2, 5,\n",
       "        9, 3, 4, 5, 0, 3, 0, 4, 4, 2, 9, 2, 2, 4, 4, 7], device='cuda:0')"
      ]
     },
     "execution_count": 65,
     "metadata": {},
     "output_type": "execute_result"
    }
   ],
   "source": [
    "cond.argmax(dim=-1).view(-1)"
   ]
  },
  {
   "cell_type": "code",
   "execution_count": 66,
   "metadata": {},
   "outputs": [
    {
     "data": {
      "text/plain": [
       "<matplotlib.collections.PolyCollection at 0x7fc81a2b9f90>"
      ]
     },
     "execution_count": 66,
     "metadata": {},
     "output_type": "execute_result"
    },
    {
     "data": {
      "image/png": "[encoded data removed]",
      "text/plain": [
       "<Figure size 432x288 with 1 Axes>"
      ]
     },
     "metadata": {
      "needs_background": "light"
     },
     "output_type": "display_data"
    }
   ],
   "source": [
    "plt.pcolor(cond.data.cpu().view(64,-1))"
   ]
  },
  {
   "cell_type": "code",
   "execution_count": 67,
   "metadata": {},
   "outputs": [
    {
     "data": {
      "text/plain": [
       "tensor([4, 4, 9, 1, 2, 5, 1, 7, 2, 9, 0, 5, 2, 6, 1, 4, 1, 6, 0, 5, 6, 1, 0, 1,\n",
       "        1, 1, 6, 5, 8, 7, 7, 9, 3, 5, 4, 2, 1, 2, 6, 3, 5, 7, 0, 7, 2, 1, 2, 5,\n",
       "        9, 3, 4, 5, 0, 3, 0, 4, 4, 2, 9, 2, 2, 4, 4, 7])"
      ]
     },
     "execution_count": 67,
     "metadata": {},
     "output_type": "execute_result"
    }
   ],
   "source": [
    "batch[\"target_image_label\"]"
   ]
  },
  {
   "cell_type": "code",
   "execution_count": 68,
   "metadata": {},
   "outputs": [],
   "source": [
    "digits_cond = {i: [] for i in range(10)}\n",
    "embedding_arg_max = {i: [] for i in range(10)}"
   ]
  },
  {
   "cell_type": "code",
   "execution_count": 69,
   "metadata": {},
   "outputs": [],
   "source": [
    "for i in range(1000):\n",
    "    emb = embeddings[10](torch.tensor(i).to(device))\n",
    "    arg_max = emb.argmax().item()\n",
    "    label = qmnist_full_train_set[i][\"target_image_label\"].item()\n",
    "    digits_cond[label].append(emb.data.cpu().view(-1))\n",
    "    embedding_arg_max[arg_max].append(label)"
   ]
  },
  {
   "cell_type": "code",
   "execution_count": 70,
   "metadata": {},
   "outputs": [
    {
     "data": {
      "image/png": "[encoded data removed]",
      "text/plain": [
       "<Figure size 1152x1296 with 10 Axes>"
      ]
     },
     "metadata": {
      "needs_background": "light"
     },
     "output_type": "display_data"
    }
   ],
   "source": [
    "fig, axs = plt.subplots(5,2,figsize=(16,18))\n",
    "for digit in range(10):\n",
    "    axs[digit//2, digit%2].set_title(f\"Embeddings of {digit}\")\n",
    "    axs[digit//2, digit%2].pcolor(np.vstack(digits_cond[digit]).T)\n",
    "plt.show()"
   ]
  },
  {
   "cell_type": "code",
   "execution_count": null,
   "metadata": {},
   "outputs": [],
   "source": []
  }
 ],
 "metadata": {
  "kernelspec": {
   "display_name": "Python 3",
   "language": "python",
   "name": "python3"
  },
  "language_info": {
   "codemirror_mode": {
    "name": "ipython",
    "version": 3
   },
   "file_extension": ".py",
   "mimetype": "text/x-python",
   "name": "python",
   "nbconvert_exporter": "python",
   "pygments_lexer": "ipython3",
   "version": "3.7.7"
  }
 },
 "nbformat": 4,
 "nbformat_minor": 4
}
